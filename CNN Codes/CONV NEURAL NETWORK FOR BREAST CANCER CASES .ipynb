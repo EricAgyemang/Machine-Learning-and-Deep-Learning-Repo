{
 "cells": [
  {
   "cell_type": "code",
   "execution_count": 1,
   "metadata": {},
   "outputs": [],
   "source": [
    "### BREAST CANCER CASES ###\n",
    "###### CONVOLUTIONAL NEURAL NETWORK CODE IN JUPYTER NOTEBOOK FOR BOTH SEX #####"
   ]
  },
  {
   "cell_type": "code",
   "execution_count": 2,
   "metadata": {},
   "outputs": [],
   "source": [
    "## Modules required\n",
    "import pandas as pd\n",
    "import numpy as np\n",
    "from scipy import misc \n",
    "from PIL import Image \n",
    "import glob \n",
    "from matplotlib.pyplot import imshow \n",
    "import seaborn as sn\n",
    "import pickle \n",
    "from keras.preprocessing import image \n",
    "from keras.preprocessing.image import load_img \n",
    "from keras.preprocessing.image import img_to_array \n",
    "from keras.applications.imagenet_utils import decode_predictions \n",
    "from keras.utils import layer_utils, np_utils \n",
    "from keras.utils.data_utils import get_file \n",
    "from keras.applications.imagenet_utils import preprocess_input \n",
    "from keras.utils.vis_utils import model_to_dot \n",
    "from keras.utils import plot_model \n",
    "from keras.initializers import glorot_uniform \n",
    "from keras import losses \n",
    "import keras.backend as K \n",
    "from keras.callbacks import ModelCheckpoint \n",
    "from sklearn.metrics import confusion_matrix, classification_report \n",
    "from keras import layers \n",
    "from IPython.display import SVG\n",
    "import matplotlib.pyplot as plt\n",
    "%matplotlib inline\n",
    "import keras\n",
    "import tensorflow as tf\n",
    "from tensorflow.keras.models import Sequential, Model, load_model\n",
    "from tensorflow.keras.layers import Dense,Dropout, Activation, Flatten, Input, Add, ZeroPadding2D, Conv2D, MaxPooling2D \n",
    "from hyperopt import Trials, STATUS_OK, tpe\n",
    "from hyperas import optim\n",
    "from hyperas.distributions import choice, uniform"
   ]
  },
  {
   "cell_type": "code",
   "execution_count": 3,
   "metadata": {},
   "outputs": [],
   "source": [
    "# Code\n",
    "BC = (pd.read_excel('cancer.xlsx'))"
   ]
  },
  {
   "cell_type": "code",
   "execution_count": 4,
   "metadata": {},
   "outputs": [
    {
     "data": {
      "text/html": [
       "<div>\n",
       "<style scoped>\n",
       "    .dataframe tbody tr th:only-of-type {\n",
       "        vertical-align: middle;\n",
       "    }\n",
       "\n",
       "    .dataframe tbody tr th {\n",
       "        vertical-align: top;\n",
       "    }\n",
       "\n",
       "    .dataframe thead th {\n",
       "        text-align: right;\n",
       "    }\n",
       "</style>\n",
       "<table border=\"1\" class=\"dataframe\">\n",
       "  <thead>\n",
       "    <tr style=\"text-align: right;\">\n",
       "      <th></th>\n",
       "      <th>PatStatus</th>\n",
       "      <th>Race</th>\n",
       "      <th>MarST</th>\n",
       "      <th>Gender</th>\n",
       "      <th>AgeDiag</th>\n",
       "      <th>Grade</th>\n",
       "      <th>Stability</th>\n",
       "      <th>No.Visits</th>\n",
       "      <th>Lstay</th>\n",
       "      <th>Laterality</th>\n",
       "      <th>...</th>\n",
       "      <th>LyNode</th>\n",
       "      <th>Amorph</th>\n",
       "      <th>Size</th>\n",
       "      <th>Eggshell</th>\n",
       "      <th>Milk</th>\n",
       "      <th>AxiAden</th>\n",
       "      <th>Distroph</th>\n",
       "      <th>Lucent</th>\n",
       "      <th>Dermal</th>\n",
       "      <th>SkinnLesson</th>\n",
       "    </tr>\n",
       "  </thead>\n",
       "  <tbody>\n",
       "    <tr>\n",
       "      <th>0</th>\n",
       "      <td>1</td>\n",
       "      <td>3</td>\n",
       "      <td>1</td>\n",
       "      <td>0</td>\n",
       "      <td>52</td>\n",
       "      <td>3</td>\n",
       "      <td>0</td>\n",
       "      <td>5</td>\n",
       "      <td>1</td>\n",
       "      <td>4</td>\n",
       "      <td>...</td>\n",
       "      <td>1</td>\n",
       "      <td>1</td>\n",
       "      <td>5</td>\n",
       "      <td>1</td>\n",
       "      <td>1</td>\n",
       "      <td>1</td>\n",
       "      <td>1</td>\n",
       "      <td>2</td>\n",
       "      <td>1</td>\n",
       "      <td>1</td>\n",
       "    </tr>\n",
       "    <tr>\n",
       "      <th>1</th>\n",
       "      <td>1</td>\n",
       "      <td>3</td>\n",
       "      <td>1</td>\n",
       "      <td>0</td>\n",
       "      <td>48</td>\n",
       "      <td>3</td>\n",
       "      <td>0</td>\n",
       "      <td>4</td>\n",
       "      <td>3</td>\n",
       "      <td>5</td>\n",
       "      <td>...</td>\n",
       "      <td>1</td>\n",
       "      <td>1</td>\n",
       "      <td>1</td>\n",
       "      <td>1</td>\n",
       "      <td>0</td>\n",
       "      <td>1</td>\n",
       "      <td>0</td>\n",
       "      <td>1</td>\n",
       "      <td>0</td>\n",
       "      <td>1</td>\n",
       "    </tr>\n",
       "    <tr>\n",
       "      <th>2</th>\n",
       "      <td>0</td>\n",
       "      <td>3</td>\n",
       "      <td>0</td>\n",
       "      <td>0</td>\n",
       "      <td>69</td>\n",
       "      <td>2</td>\n",
       "      <td>0</td>\n",
       "      <td>7</td>\n",
       "      <td>9</td>\n",
       "      <td>8</td>\n",
       "      <td>...</td>\n",
       "      <td>1</td>\n",
       "      <td>0</td>\n",
       "      <td>1</td>\n",
       "      <td>1</td>\n",
       "      <td>1</td>\n",
       "      <td>1</td>\n",
       "      <td>1</td>\n",
       "      <td>2</td>\n",
       "      <td>1</td>\n",
       "      <td>1</td>\n",
       "    </tr>\n",
       "    <tr>\n",
       "      <th>3</th>\n",
       "      <td>1</td>\n",
       "      <td>3</td>\n",
       "      <td>0</td>\n",
       "      <td>0</td>\n",
       "      <td>47</td>\n",
       "      <td>2</td>\n",
       "      <td>0</td>\n",
       "      <td>15</td>\n",
       "      <td>9</td>\n",
       "      <td>9</td>\n",
       "      <td>...</td>\n",
       "      <td>1</td>\n",
       "      <td>1</td>\n",
       "      <td>2</td>\n",
       "      <td>0</td>\n",
       "      <td>1</td>\n",
       "      <td>1</td>\n",
       "      <td>0</td>\n",
       "      <td>1</td>\n",
       "      <td>0</td>\n",
       "      <td>1</td>\n",
       "    </tr>\n",
       "    <tr>\n",
       "      <th>4</th>\n",
       "      <td>1</td>\n",
       "      <td>3</td>\n",
       "      <td>0</td>\n",
       "      <td>0</td>\n",
       "      <td>66</td>\n",
       "      <td>3</td>\n",
       "      <td>0</td>\n",
       "      <td>9</td>\n",
       "      <td>5</td>\n",
       "      <td>4</td>\n",
       "      <td>...</td>\n",
       "      <td>1</td>\n",
       "      <td>0</td>\n",
       "      <td>6</td>\n",
       "      <td>1</td>\n",
       "      <td>1</td>\n",
       "      <td>1</td>\n",
       "      <td>0</td>\n",
       "      <td>1</td>\n",
       "      <td>0</td>\n",
       "      <td>0</td>\n",
       "    </tr>\n",
       "  </tbody>\n",
       "</table>\n",
       "<p>5 rows × 25 columns</p>\n",
       "</div>"
      ],
      "text/plain": [
       "   PatStatus  Race  MarST  Gender  AgeDiag  Grade  Stability  No.Visits  \\\n",
       "0          1     3      1       0       52      3          0          5   \n",
       "1          1     3      1       0       48      3          0          4   \n",
       "2          0     3      0       0       69      2          0          7   \n",
       "3          1     3      0       0       47      2          0         15   \n",
       "4          1     3      0       0       66      3          0          9   \n",
       "\n",
       "   Lstay  Laterality  ...  LyNode  Amorph   Size  Eggshell  Milk  AxiAden  \\\n",
       "0      1           4  ...       1       1      5         1     1        1   \n",
       "1      3           5  ...       1       1      1         1     0        1   \n",
       "2      9           8  ...       1       0      1         1     1        1   \n",
       "3      9           9  ...       1       1      2         0     1        1   \n",
       "4      5           4  ...       1       0      6         1     1        1   \n",
       "\n",
       "   Distroph  Lucent  Dermal  SkinnLesson  \n",
       "0         1       2       1            1  \n",
       "1         0       1       0            1  \n",
       "2         1       2       1            1  \n",
       "3         0       1       0            1  \n",
       "4         0       1       0            0  \n",
       "\n",
       "[5 rows x 25 columns]"
      ]
     },
     "execution_count": 4,
     "metadata": {},
     "output_type": "execute_result"
    }
   ],
   "source": [
    "BC.head()"
   ]
  },
  {
   "cell_type": "code",
   "execution_count": 5,
   "metadata": {},
   "outputs": [
    {
     "data": {
      "text/plain": [
       "array([[ 3,  0,  0, 47],\n",
       "       [ 2,  0, 15,  9],\n",
       "       [ 9,  1,  1,  0],\n",
       "       [ 3,  1,  1,  1],\n",
       "       [ 2,  0,  1,  1],\n",
       "       [ 0,  1,  0,  1]], dtype=int8)"
      ]
     },
     "execution_count": 5,
     "metadata": {},
     "output_type": "execute_result"
    }
   ],
   "source": [
    "## Reshaping into array\n",
    "import random\n",
    "random.seed(30)\n",
    "BC.iloc[3,1:].values.reshape(6,4).astype('int8')"
   ]
  },
  {
   "cell_type": "code",
   "execution_count": 6,
   "metadata": {},
   "outputs": [],
   "source": [
    "## Preprocessing the data"
   ]
  },
  {
   "cell_type": "code",
   "execution_count": 7,
   "metadata": {},
   "outputs": [],
   "source": [
    "## Storing the independent variables array in form length, width, height into df_x\n",
    "random.seed(31)\n",
    "df_x = BC.iloc[:,1:].values.reshape(len(BC), 6, 4, 1)\n",
    "\n",
    "## Storing the dependent variables in y\n",
    "y = BC.iloc[:,0].values"
   ]
  },
  {
   "cell_type": "code",
   "execution_count": 8,
   "metadata": {},
   "outputs": [],
   "source": [
    "# converting y to categorical\n",
    "df_y = keras.utils.to_categorical(y, num_classes = 2)\n"
   ]
  },
  {
   "cell_type": "code",
   "execution_count": 9,
   "metadata": {},
   "outputs": [],
   "source": [
    "df_x =np.array(df_x)\n",
    "df_y = np.array(df_y)"
   ]
  },
  {
   "cell_type": "code",
   "execution_count": 10,
   "metadata": {},
   "outputs": [
    {
     "data": {
      "text/plain": [
       "array([[0., 1.],\n",
       "       [0., 1.],\n",
       "       [1., 0.],\n",
       "       ...,\n",
       "       [1., 0.],\n",
       "       [1., 0.],\n",
       "       [1., 0.]], dtype=float32)"
      ]
     },
     "execution_count": 10,
     "metadata": {},
     "output_type": "execute_result"
    }
   ],
   "source": [
    "df_y"
   ]
  },
  {
   "cell_type": "code",
   "execution_count": 11,
   "metadata": {},
   "outputs": [
    {
     "data": {
      "text/plain": [
       "(100002, 6, 4, 1)"
      ]
     },
     "execution_count": 11,
     "metadata": {},
     "output_type": "execute_result"
    }
   ],
   "source": [
    "df_x.shape"
   ]
  },
  {
   "cell_type": "code",
   "execution_count": 12,
   "metadata": {},
   "outputs": [
    {
     "data": {
      "text/plain": [
       "(100002, 2)"
      ]
     },
     "execution_count": 12,
     "metadata": {},
     "output_type": "execute_result"
    }
   ],
   "source": [
    "df_y.shape"
   ]
  },
  {
   "cell_type": "code",
   "execution_count": 13,
   "metadata": {},
   "outputs": [],
   "source": [
    "#Import 'train_test_split' from 'sklearn.model_selection'\n",
    "from sklearn.model_selection import train_test_split\n",
    "\n",
    "#Import numpy#\n",
    "import numpy as np\n",
    "random.seed(32)\n",
    "#Split the data into train and test sets #\n",
    "x_train, x_test, y_train, y_test=train_test_split(df_x,df_y, test_size=0.2, random_state=123)\n"
   ]
  },
  {
   "cell_type": "code",
   "execution_count": 14,
   "metadata": {},
   "outputs": [
    {
     "data": {
      "text/plain": [
       "(20001, 6, 4, 1)"
      ]
     },
     "execution_count": 14,
     "metadata": {},
     "output_type": "execute_result"
    }
   ],
   "source": [
    "x_test.shape"
   ]
  },
  {
   "cell_type": "code",
   "execution_count": 15,
   "metadata": {},
   "outputs": [
    {
     "data": {
      "text/plain": [
       "(20001, 2)"
      ]
     },
     "execution_count": 15,
     "metadata": {},
     "output_type": "execute_result"
    }
   ],
   "source": [
    "y_test.shape"
   ]
  },
  {
   "cell_type": "code",
   "execution_count": 16,
   "metadata": {},
   "outputs": [],
   "source": [
    "### CNN Model\n",
    "random.seed(33)\n",
    "model = Sequential()\n",
    "model.add(Conv2D(64, (3,3), input_shape = (6, 4, 1)))\n",
    "model.add(Activation('relu'))\n",
    "model.add(MaxPooling2D(pool_size=(1,1)))\n",
    "model.add(Dropout(0.25))\n",
    "\n",
    "model.add(Flatten())\n",
    "model.add(Dense(64))\n",
    "model.add(Dropout(0.25)) \n",
    "\n",
    "model.add(Dense(2))\n",
    "model.add(Activation('sigmoid'))\n",
    "model.compile(loss=\"categorical_crossentropy\", optimizer=\"adam\", metrics=['accuracy'])"
   ]
  },
  {
   "cell_type": "code",
   "execution_count": 17,
   "metadata": {},
   "outputs": [
    {
     "name": "stdout",
     "output_type": "stream",
     "text": [
      "Model: \"sequential\"\n",
      "_________________________________________________________________\n",
      "Layer (type)                 Output Shape              Param #   \n",
      "=================================================================\n",
      "conv2d (Conv2D)              (None, 4, 2, 64)          640       \n",
      "_________________________________________________________________\n",
      "activation (Activation)      (None, 4, 2, 64)          0         \n",
      "_________________________________________________________________\n",
      "max_pooling2d (MaxPooling2D) (None, 4, 2, 64)          0         \n",
      "_________________________________________________________________\n",
      "dropout (Dropout)            (None, 4, 2, 64)          0         \n",
      "_________________________________________________________________\n",
      "flatten (Flatten)            (None, 512)               0         \n",
      "_________________________________________________________________\n",
      "dense (Dense)                (None, 64)                32832     \n",
      "_________________________________________________________________\n",
      "dropout_1 (Dropout)          (None, 64)                0         \n",
      "_________________________________________________________________\n",
      "dense_1 (Dense)              (None, 2)                 130       \n",
      "_________________________________________________________________\n",
      "activation_1 (Activation)    (None, 2)                 0         \n",
      "=================================================================\n",
      "Total params: 33,602\n",
      "Trainable params: 33,602\n",
      "Non-trainable params: 0\n",
      "_________________________________________________________________\n"
     ]
    }
   ],
   "source": [
    "model.summary()"
   ]
  },
  {
   "cell_type": "code",
   "execution_count": 18,
   "metadata": {},
   "outputs": [
    {
     "name": "stdout",
     "output_type": "stream",
     "text": [
      "Epoch 1/10\n",
      "2001/2001 [==============================] - 13s 7ms/step - loss: 0.3387 - accuracy: 0.8379 - val_loss: 0.2326 - val_accuracy: 0.8915\n",
      "Epoch 2/10\n",
      "2001/2001 [==============================] - 14s 7ms/step - loss: 0.2471 - accuracy: 0.8881 - val_loss: 0.2079 - val_accuracy: 0.9009\n",
      "Epoch 3/10\n",
      "2001/2001 [==============================] - 13s 7ms/step - loss: 0.2326 - accuracy: 0.8909 - val_loss: 0.2095 - val_accuracy: 0.8984\n",
      "Epoch 4/10\n",
      "2001/2001 [==============================] - 16s 8ms/step - loss: 0.2242 - accuracy: 0.8943 - val_loss: 0.1988 - val_accuracy: 0.9043\n",
      "Epoch 5/10\n",
      "2001/2001 [==============================] - 13s 7ms/step - loss: 0.2198 - accuracy: 0.8934 - val_loss: 0.1974 - val_accuracy: 0.9044\n",
      "Epoch 6/10\n",
      "2001/2001 [==============================] - 14s 7ms/step - loss: 0.2145 - accuracy: 0.8953 - val_loss: 0.1952 - val_accuracy: 0.8992\n",
      "Epoch 7/10\n",
      "2001/2001 [==============================] - 14s 7ms/step - loss: 0.2141 - accuracy: 0.8957 - val_loss: 0.1913 - val_accuracy: 0.9083\n",
      "Epoch 8/10\n",
      "2001/2001 [==============================] - 13s 7ms/step - loss: 0.2089 - accuracy: 0.8982 - val_loss: 0.1913 - val_accuracy: 0.9082\n",
      "Epoch 9/10\n",
      "2001/2001 [==============================] - 14s 7ms/step - loss: 0.2079 - accuracy: 0.8986 - val_loss: 0.1884 - val_accuracy: 0.9079\n",
      "Epoch 10/10\n",
      "2001/2001 [==============================] - 15s 7ms/step - loss: 0.2078 - accuracy: 0.8973 - val_loss: 0.1882 - val_accuracy: 0.9075\n"
     ]
    }
   ],
   "source": [
    "## fitting the model with \n",
    "CNN_MODEL = model.fit(x_train, y_train, batch_size=40, epochs=10, validation_data=(x_test, y_test))"
   ]
  },
  {
   "cell_type": "code",
   "execution_count": 19,
   "metadata": {},
   "outputs": [],
   "source": [
    "## MODEL EVALUATION FOR BOTH SEX"
   ]
  },
  {
   "cell_type": "code",
   "execution_count": 20,
   "metadata": {},
   "outputs": [],
   "source": [
    "## Prediction loss and accuracy\n",
    "test_eval = model.evaluate(x_test, y_test, verbose=0)[1]"
   ]
  },
  {
   "cell_type": "code",
   "execution_count": 21,
   "metadata": {},
   "outputs": [
    {
     "name": "stdout",
     "output_type": "stream",
     "text": [
      "Test accuracy: 0.9075046181678772\n"
     ]
    }
   ],
   "source": [
    "print('Test accuracy:', test_eval)"
   ]
  },
  {
   "cell_type": "code",
   "execution_count": 22,
   "metadata": {},
   "outputs": [
    {
     "data": {
      "image/png": "[encoded data removed]",
      "text/plain": [
       "<Figure size 432x288 with 1 Axes>"
      ]
     },
     "metadata": {
      "needs_background": "light"
     },
     "output_type": "display_data"
    },
    {
     "data": {
      "image/png": "[encoded data removed]",
      "text/plain": [
       "<Figure size 432x288 with 1 Axes>"
      ]
     },
     "metadata": {
      "needs_background": "light"
     },
     "output_type": "display_data"
    }
   ],
   "source": [
    "##plot the accuracy and loss plots between training and validation data to check for over-fitting\n",
    "\n",
    "import numpy as np\n",
    "from keras.utils import to_categorical\n",
    "import matplotlib.pyplot as plt\n",
    "%matplotlib inline\n",
    "\n",
    "accuracy = CNN_MODEL.history['accuracy']\n",
    "val_accuracy = CNN_MODEL.history['val_accuracy']\n",
    "loss = CNN_MODEL.history['loss']\n",
    "val_loss = CNN_MODEL.history['val_loss']\n",
    "epochs = range(len(accuracy))\n",
    "plt.plot(epochs, accuracy, 'bo', label='Training accuracy')\n",
    "plt.plot(epochs, val_accuracy, 'orange', label='Validation accuracy')\n",
    "plt.title('Training and validation accuracy')\n",
    "plt.legend()\n",
    "plt.figure()\n",
    "plt.plot(epochs, loss, 'bo', label='Training loss')\n",
    "plt.plot(epochs, val_loss, 'orange', label='Validation loss')\n",
    "plt.title('Training and validation loss')\n",
    "plt.legend()\n",
    "plt.show()\n"
   ]
  },
  {
   "cell_type": "code",
   "execution_count": 23,
   "metadata": {},
   "outputs": [
    {
     "data": {
      "image/png": "[encoded data removed]",
      "text/plain": [
       "<Figure size 432x288 with 1 Axes>"
      ]
     },
     "metadata": {
      "needs_background": "light"
     },
     "output_type": "display_data"
    }
   ],
   "source": [
    "##plot our training accuracy and validation accuracy\n",
    "plt.plot(CNN_MODEL.history['accuracy'])\n",
    "plt.plot(CNN_MODEL.history['val_accuracy'])\n",
    "plt.title('Model accuracy')\n",
    "plt.ylabel('Accuracy')\n",
    "plt.xlabel('Epoch')\n",
    "plt.legend(['Train', 'Val'], loc='lower right')\n",
    "plt.show()\n"
   ]
  },
  {
   "cell_type": "code",
   "execution_count": 24,
   "metadata": {},
   "outputs": [
    {
     "name": "stdout",
     "output_type": "stream",
     "text": [
      "626/626 [==============================] - 1s 1ms/step\n"
     ]
    }
   ],
   "source": [
    "## Predicting using CNN\n",
    "CNN_MODEL_pred = model.predict(x_test, batch_size=32, verbose=1)\n",
    "CNN_MODEL_predicted = np.argmax(CNN_MODEL_pred, axis=1)"
   ]
  },
  {
   "cell_type": "code",
   "execution_count": 25,
   "metadata": {},
   "outputs": [
    {
     "data": {
      "image/png": "[encoded data removed]",
      "text/plain": [
       "<Figure size 576x576 with 1 Axes>"
      ]
     },
     "metadata": {
      "needs_background": "light"
     },
     "output_type": "display_data"
    }
   ],
   "source": [
    "## Confusion matrix for the CNN\n",
    "CNN_MODEL_cm = confusion_matrix(np.argmax(y_test, axis=1), CNN_MODEL_predicted)\n",
    "fig, ax = plt.subplots(figsize = (8, 8))\n",
    "ax.imshow(CNN_MODEL_cm)\n",
    "ax.grid(False)\n",
    "ax.xaxis.set(ticks=(0,1), ticklabels=('Actual 1s', 'Actual 0s'))\n",
    "ax.yaxis.set(ticks=(0,1), ticklabels=('predicted 1s', 'predicted 0s'))\n",
    "ax.set_ylim(1.5, -0.5)\n",
    "for i in range(2):\n",
    "    for j in range(2):\n",
    "        ax.text(j, i, CNN_MODEL_cm[i, j], ha= 'center', va= 'center', color= 'red')\n",
    "plt.show()"
   ]
  },
  {
   "cell_type": "code",
   "execution_count": 26,
   "metadata": {},
   "outputs": [],
   "source": [
    "test_cm = CNN_MODEL_cm"
   ]
  },
  {
   "cell_type": "code",
   "execution_count": 27,
   "metadata": {},
   "outputs": [
    {
     "name": "stdout",
     "output_type": "stream",
     "text": [
      "0.9108203414996288\n"
     ]
    }
   ],
   "source": [
    "## Sensitivity Analysis \n",
    "test_sens = test_cm[1, 1]/(test_cm[1, 1] + test_cm[0, 1])\n",
    "print(test_sens)"
   ]
  },
  {
   "cell_type": "code",
   "execution_count": 28,
   "metadata": {},
   "outputs": [
    {
     "name": "stdout",
     "output_type": "stream",
     "text": [
      "0.9036314363143632\n"
     ]
    }
   ],
   "source": [
    "## Specificity Analysis\n",
    "test_spec = test_cm[0, 0]/(test_cm[0, 0]+test_cm[1, 0])\n",
    "print(test_spec)"
   ]
  },
  {
   "cell_type": "code",
   "execution_count": 29,
   "metadata": {},
   "outputs": [
    {
     "name": "stdout",
     "output_type": "stream",
     "text": [
      "0.9169469357249627\n"
     ]
    }
   ],
   "source": [
    "## PPV Analysis\n",
    "test_npv = test_cm[1, 1]/(test_cm[1, 1] + test_cm[1, 0])\n",
    "print(test_npv)"
   ]
  },
  {
   "cell_type": "code",
   "execution_count": 30,
   "metadata": {},
   "outputs": [
    {
     "name": "stdout",
     "output_type": "stream",
     "text": [
      "0.8966333225771754\n"
     ]
    }
   ],
   "source": [
    "## NPV Analysis\n",
    "test_npv = test_cm[0, 0]/(test_cm[0, 0]+test_cm[0, 1])\n",
    "print(test_npv)"
   ]
  },
  {
   "cell_type": "code",
   "execution_count": 31,
   "metadata": {},
   "outputs": [
    {
     "name": "stderr",
     "output_type": "stream",
     "text": [
      "C:\\Users\\eagye\\anaconda1\\lib\\site-packages\\ipykernel_launcher.py:33: DeprecationWarning: scipy.interp is deprecated and will be removed in SciPy 2.0.0, use numpy.interp instead\n",
      "C:\\Users\\eagye\\anaconda1\\lib\\site-packages\\ipykernel_launcher.py:49: MatplotlibDeprecationWarning: Saw kwargs ['lw', 'linewidth'] which are all aliases for 'linewidth'.  Kept value from 'linewidth'.  Passing multiple aliases for the same property will raise a TypeError in 3.3.\n"
     ]
    },
    {
     "data": {
      "image/png": "[encoded data removed]",
      "text/plain": [
       "<Figure size 432x288 with 1 Axes>"
      ]
     },
     "metadata": {
      "needs_background": "light"
     },
     "output_type": "display_data"
    }
   ],
   "source": [
    "from sklearn.datasets import make_classification\n",
    "from sklearn.preprocessing import label_binarize\n",
    "from scipy import interp\n",
    "from itertools import cycle\n",
    "\n",
    "n_classes = 1\n",
    "\n",
    "from sklearn.metrics import roc_curve, auc\n",
    "\n",
    "# Plot linewidth.\n",
    "lw = 8\n",
    "\n",
    "# Compute ROC curve and ROC area for each class\n",
    "fpr = dict()\n",
    "tpr = dict()\n",
    "roc_auc = dict()\n",
    "for i in range(n_classes):\n",
    "    fpr[i], tpr[i], _ = roc_curve(y_test[:, i], CNN_MODEL_pred[:, i])\n",
    "    roc_auc[i] = auc(fpr[i], tpr[i])\n",
    "\n",
    "# Compute micro-average ROC curve and ROC area\n",
    "fpr[\"micro\"], tpr[\"micro\"], _ = roc_curve(y_test.ravel(), CNN_MODEL_pred.ravel())\n",
    "roc_auc[\"micro\"] = auc(fpr[\"micro\"], tpr[\"micro\"])\n",
    "\n",
    "# Compute macro-average ROC curve and ROC area\n",
    "\n",
    "# First aggregate all false positive rates\n",
    "all_fpr = np.unique(np.concatenate([fpr[i] for i in range(n_classes)]))\n",
    "\n",
    "# Then interpolate all ROC curves at this points\n",
    "mean_tpr = np.zeros_like(all_fpr)\n",
    "for i in range(n_classes):\n",
    "    mean_tpr += interp(all_fpr, fpr[i], tpr[i])\n",
    "\n",
    "# Finally average it and compute AUC\n",
    "mean_tpr /= n_classes\n",
    "\n",
    "fpr[\"macro\"] = all_fpr\n",
    "tpr[\"macro\"] = mean_tpr\n",
    "roc_auc[\"macro\"] = auc(fpr[\"macro\"], tpr[\"macro\"])\n",
    "\n",
    "# Plot all ROC curves\n",
    "plt.figure(1)\n",
    "plt.plot(fpr[\"micro\"], tpr[\"micro\"],\n",
    "         label='Both Sex (AUC = {0:0.1f})'\n",
    "               ''.format(roc_auc[\"micro\"]),marker = '.',\n",
    "         color='orange', linestyle=':', linewidth=2)\n",
    "\n",
    "plt.plot([0, 1], [0, 1], 'b--', label = 'Patients Last Status',linewidth=2, lw=lw)\n",
    "plt.xlim([0.0, 1.0])\n",
    "plt.ylim([0.0, 1.05])\n",
    "plt.xlabel('False Positive Rate')\n",
    "plt.ylabel('True Positive Rate')\n",
    "plt.title('Receiver Operating Characteristic Curve')\n",
    "plt.legend(loc=\"lower right\")\n",
    "plt.show()"
   ]
  },
  {
   "cell_type": "code",
   "execution_count": null,
   "metadata": {},
   "outputs": [],
   "source": []
  },
  {
   "cell_type": "code",
   "execution_count": null,
   "metadata": {},
   "outputs": [],
   "source": []
  },
  {
   "cell_type": "code",
   "execution_count": null,
   "metadata": {},
   "outputs": [],
   "source": []
  },
  {
   "cell_type": "code",
   "execution_count": 1,
   "metadata": {},
   "outputs": [],
   "source": [
    "## CONSIDER THE CONVOLUTIONAL NEURAL NETWORK FOR EACH GENDER SEPARATELY"
   ]
  },
  {
   "cell_type": "code",
   "execution_count": 2,
   "metadata": {},
   "outputs": [],
   "source": [
    "## Modules required\n",
    "import pandas as pd\n",
    "import numpy as np\n",
    "from scipy import misc \n",
    "from PIL import Image \n",
    "import glob \n",
    "from matplotlib.pyplot import imshow \n",
    "import seaborn as sn\n",
    "import pickle \n",
    "from keras.preprocessing import image \n",
    "from keras.preprocessing.image import load_img \n",
    "from keras.preprocessing.image import img_to_array \n",
    "from keras.applications.imagenet_utils import decode_predictions \n",
    "from keras.utils import layer_utils, np_utils \n",
    "from keras.utils.data_utils import get_file \n",
    "from keras.applications.imagenet_utils import preprocess_input \n",
    "from keras.utils.vis_utils import model_to_dot \n",
    "from keras.utils import plot_model \n",
    "from keras.initializers import glorot_uniform \n",
    "from keras import losses \n",
    "import keras.backend as K \n",
    "from keras.callbacks import ModelCheckpoint \n",
    "from sklearn.metrics import confusion_matrix, classification_report \n",
    "from keras import layers \n",
    "from IPython.display import SVG\n",
    "import matplotlib.pyplot as plt\n",
    "%matplotlib inline\n",
    "import keras\n",
    "import tensorflow as tf\n",
    "from tensorflow.keras.models import Sequential, Model, load_model\n",
    "from tensorflow.keras.layers import Dense,Dropout, Activation, Flatten, Input, Add, ZeroPadding2D, Conv2D, MaxPooling2D \n",
    "from hyperopt import Trials, STATUS_OK, tpe\n",
    "from hyperas import optim\n",
    "from hyperas.distributions import choice, uniform"
   ]
  },
  {
   "cell_type": "code",
   "execution_count": 3,
   "metadata": {},
   "outputs": [],
   "source": [
    "# Code\n",
    "MBC = (pd.read_excel('MBC.xlsx'))"
   ]
  },
  {
   "cell_type": "code",
   "execution_count": 4,
   "metadata": {},
   "outputs": [],
   "source": [
    "#Import 'train_test_split' from 'sklearn.model_selection'\n",
    "from sklearn.model_selection import train_test_split\n",
    "#Import numpy#\n",
    "import numpy as np"
   ]
  },
  {
   "cell_type": "code",
   "execution_count": 5,
   "metadata": {},
   "outputs": [],
   "source": [
    "## CONSIDER FITTING CONVOLUTIONAL NEURAL NETWORK FOR THE MALE GENDER"
   ]
  },
  {
   "cell_type": "code",
   "execution_count": 6,
   "metadata": {},
   "outputs": [
    {
     "data": {
      "text/html": [
       "<div>\n",
       "<style scoped>\n",
       "    .dataframe tbody tr th:only-of-type {\n",
       "        vertical-align: middle;\n",
       "    }\n",
       "\n",
       "    .dataframe tbody tr th {\n",
       "        vertical-align: top;\n",
       "    }\n",
       "\n",
       "    .dataframe thead th {\n",
       "        text-align: right;\n",
       "    }\n",
       "</style>\n",
       "<table border=\"1\" class=\"dataframe\">\n",
       "  <thead>\n",
       "    <tr style=\"text-align: right;\">\n",
       "      <th></th>\n",
       "      <th>PatStatus</th>\n",
       "      <th>Race</th>\n",
       "      <th>MarST</th>\n",
       "      <th>Gender</th>\n",
       "      <th>AgeDiag</th>\n",
       "      <th>Grade</th>\n",
       "      <th>Stability</th>\n",
       "      <th>No.Visits</th>\n",
       "      <th>Lstay</th>\n",
       "      <th>Laterality</th>\n",
       "      <th>...</th>\n",
       "      <th>LyNode</th>\n",
       "      <th>Amorph</th>\n",
       "      <th>Size</th>\n",
       "      <th>Eggshell</th>\n",
       "      <th>Milk</th>\n",
       "      <th>AxiAden</th>\n",
       "      <th>Distroph</th>\n",
       "      <th>Lucent</th>\n",
       "      <th>Dermal</th>\n",
       "      <th>SkinnLesson</th>\n",
       "    </tr>\n",
       "  </thead>\n",
       "  <tbody>\n",
       "    <tr>\n",
       "      <th>0</th>\n",
       "      <td>1</td>\n",
       "      <td>3</td>\n",
       "      <td>0</td>\n",
       "      <td>1</td>\n",
       "      <td>61</td>\n",
       "      <td>3</td>\n",
       "      <td>0</td>\n",
       "      <td>9</td>\n",
       "      <td>1</td>\n",
       "      <td>4</td>\n",
       "      <td>...</td>\n",
       "      <td>1</td>\n",
       "      <td>1</td>\n",
       "      <td>2</td>\n",
       "      <td>1</td>\n",
       "      <td>1</td>\n",
       "      <td>1</td>\n",
       "      <td>0</td>\n",
       "      <td>2</td>\n",
       "      <td>0</td>\n",
       "      <td>0</td>\n",
       "    </tr>\n",
       "    <tr>\n",
       "      <th>1</th>\n",
       "      <td>1</td>\n",
       "      <td>3</td>\n",
       "      <td>1</td>\n",
       "      <td>1</td>\n",
       "      <td>63</td>\n",
       "      <td>2</td>\n",
       "      <td>0</td>\n",
       "      <td>3</td>\n",
       "      <td>5</td>\n",
       "      <td>6</td>\n",
       "      <td>...</td>\n",
       "      <td>1</td>\n",
       "      <td>0</td>\n",
       "      <td>7</td>\n",
       "      <td>1</td>\n",
       "      <td>1</td>\n",
       "      <td>1</td>\n",
       "      <td>0</td>\n",
       "      <td>2</td>\n",
       "      <td>0</td>\n",
       "      <td>0</td>\n",
       "    </tr>\n",
       "    <tr>\n",
       "      <th>2</th>\n",
       "      <td>1</td>\n",
       "      <td>3</td>\n",
       "      <td>0</td>\n",
       "      <td>1</td>\n",
       "      <td>67</td>\n",
       "      <td>3</td>\n",
       "      <td>0</td>\n",
       "      <td>8</td>\n",
       "      <td>4</td>\n",
       "      <td>1</td>\n",
       "      <td>...</td>\n",
       "      <td>1</td>\n",
       "      <td>1</td>\n",
       "      <td>1</td>\n",
       "      <td>0</td>\n",
       "      <td>1</td>\n",
       "      <td>1</td>\n",
       "      <td>1</td>\n",
       "      <td>2</td>\n",
       "      <td>1</td>\n",
       "      <td>1</td>\n",
       "    </tr>\n",
       "    <tr>\n",
       "      <th>3</th>\n",
       "      <td>1</td>\n",
       "      <td>3</td>\n",
       "      <td>1</td>\n",
       "      <td>1</td>\n",
       "      <td>51</td>\n",
       "      <td>3</td>\n",
       "      <td>1</td>\n",
       "      <td>9</td>\n",
       "      <td>4</td>\n",
       "      <td>8</td>\n",
       "      <td>...</td>\n",
       "      <td>0</td>\n",
       "      <td>1</td>\n",
       "      <td>9</td>\n",
       "      <td>1</td>\n",
       "      <td>0</td>\n",
       "      <td>1</td>\n",
       "      <td>0</td>\n",
       "      <td>1</td>\n",
       "      <td>0</td>\n",
       "      <td>0</td>\n",
       "    </tr>\n",
       "    <tr>\n",
       "      <th>4</th>\n",
       "      <td>1</td>\n",
       "      <td>3</td>\n",
       "      <td>0</td>\n",
       "      <td>1</td>\n",
       "      <td>56</td>\n",
       "      <td>1</td>\n",
       "      <td>0</td>\n",
       "      <td>9</td>\n",
       "      <td>1</td>\n",
       "      <td>8</td>\n",
       "      <td>...</td>\n",
       "      <td>1</td>\n",
       "      <td>1</td>\n",
       "      <td>2</td>\n",
       "      <td>0</td>\n",
       "      <td>1</td>\n",
       "      <td>1</td>\n",
       "      <td>1</td>\n",
       "      <td>2</td>\n",
       "      <td>1</td>\n",
       "      <td>1</td>\n",
       "    </tr>\n",
       "  </tbody>\n",
       "</table>\n",
       "<p>5 rows × 25 columns</p>\n",
       "</div>"
      ],
      "text/plain": [
       "   PatStatus  Race  MarST  Gender  AgeDiag  Grade  Stability  No.Visits  \\\n",
       "0          1     3      0       1       61      3          0          9   \n",
       "1          1     3      1       1       63      2          0          3   \n",
       "2          1     3      0       1       67      3          0          8   \n",
       "3          1     3      1       1       51      3          1          9   \n",
       "4          1     3      0       1       56      1          0          9   \n",
       "\n",
       "   Lstay  Laterality  ...  LyNode  Amorph   Size  Eggshell  Milk  AxiAden  \\\n",
       "0      1           4  ...       1       1      2         1     1        1   \n",
       "1      5           6  ...       1       0      7         1     1        1   \n",
       "2      4           1  ...       1       1      1         0     1        1   \n",
       "3      4           8  ...       0       1      9         1     0        1   \n",
       "4      1           8  ...       1       1      2         0     1        1   \n",
       "\n",
       "   Distroph  Lucent  Dermal  SkinnLesson  \n",
       "0         0       2       0            0  \n",
       "1         0       2       0            0  \n",
       "2         1       2       1            1  \n",
       "3         0       1       0            0  \n",
       "4         1       2       1            1  \n",
       "\n",
       "[5 rows x 25 columns]"
      ]
     },
     "execution_count": 6,
     "metadata": {},
     "output_type": "execute_result"
    }
   ],
   "source": [
    "MBC.head()"
   ]
  },
  {
   "cell_type": "code",
   "execution_count": 7,
   "metadata": {},
   "outputs": [
    {
     "data": {
      "text/plain": [
       "array([[ 3,  1,  1, 51],\n",
       "       [ 3,  1,  9,  4],\n",
       "       [ 8,  1,  1,  0],\n",
       "       [ 1,  1,  0,  1],\n",
       "       [ 9,  1,  0,  1],\n",
       "       [ 0,  1,  0,  0]], dtype=int8)"
      ]
     },
     "execution_count": 7,
     "metadata": {},
     "output_type": "execute_result"
    }
   ],
   "source": [
    "## Reshaping into array\n",
    "MBC.iloc[3,1:].values.reshape(6,4).astype('int8')"
   ]
  },
  {
   "cell_type": "code",
   "execution_count": 8,
   "metadata": {},
   "outputs": [],
   "source": [
    "## Preprocessing the data"
   ]
  },
  {
   "cell_type": "code",
   "execution_count": 9,
   "metadata": {},
   "outputs": [],
   "source": [
    "## Storing the independent variables array in form length, width, height into df_x\n",
    "df_x = MBC.iloc[:,1:].values.reshape(len(MBC), 6, 4, 1)\n",
    "\n",
    "## Storing the dependent variables in y\n",
    "y = MBC.iloc[:,0].values"
   ]
  },
  {
   "cell_type": "code",
   "execution_count": 10,
   "metadata": {},
   "outputs": [],
   "source": [
    "# converting y to categorical\n",
    "df_y = keras.utils.to_categorical(y, num_classes = 2)\n"
   ]
  },
  {
   "cell_type": "code",
   "execution_count": 11,
   "metadata": {},
   "outputs": [],
   "source": [
    "df_x =np.array(df_x)\n",
    "df_y = np.array(df_y)"
   ]
  },
  {
   "cell_type": "code",
   "execution_count": 12,
   "metadata": {},
   "outputs": [
    {
     "data": {
      "text/plain": [
       "array([[0., 1.],\n",
       "       [0., 1.],\n",
       "       [0., 1.],\n",
       "       ...,\n",
       "       [1., 0.],\n",
       "       [1., 0.],\n",
       "       [1., 0.]], dtype=float32)"
      ]
     },
     "execution_count": 12,
     "metadata": {},
     "output_type": "execute_result"
    }
   ],
   "source": [
    "df_y"
   ]
  },
  {
   "cell_type": "code",
   "execution_count": 13,
   "metadata": {},
   "outputs": [
    {
     "data": {
      "text/plain": [
       "(15599, 6, 4, 1)"
      ]
     },
     "execution_count": 13,
     "metadata": {},
     "output_type": "execute_result"
    }
   ],
   "source": [
    "df_x.shape"
   ]
  },
  {
   "cell_type": "code",
   "execution_count": 14,
   "metadata": {},
   "outputs": [
    {
     "data": {
      "text/plain": [
       "(15599, 2)"
      ]
     },
     "execution_count": 14,
     "metadata": {},
     "output_type": "execute_result"
    }
   ],
   "source": [
    "df_y.shape"
   ]
  },
  {
   "cell_type": "code",
   "execution_count": 15,
   "metadata": {},
   "outputs": [],
   "source": [
    "#Import 'train_test_split' from 'sklearn.model_selection'\n",
    "from sklearn.model_selection import train_test_split\n",
    "\n",
    "#Import numpy#\n",
    "import numpy as np\n",
    "#Split the data into train and test sets #\n",
    "x_train, x_test, y_train, y_test=train_test_split(df_x,df_y, test_size=0.2, random_state=123)\n"
   ]
  },
  {
   "cell_type": "code",
   "execution_count": 16,
   "metadata": {},
   "outputs": [
    {
     "data": {
      "text/plain": [
       "(3120, 6, 4, 1)"
      ]
     },
     "execution_count": 16,
     "metadata": {},
     "output_type": "execute_result"
    }
   ],
   "source": [
    "x_test.shape"
   ]
  },
  {
   "cell_type": "code",
   "execution_count": 17,
   "metadata": {},
   "outputs": [
    {
     "data": {
      "text/plain": [
       "(3120, 2)"
      ]
     },
     "execution_count": 17,
     "metadata": {},
     "output_type": "execute_result"
    }
   ],
   "source": [
    "y_test.shape"
   ]
  },
  {
   "cell_type": "code",
   "execution_count": 18,
   "metadata": {},
   "outputs": [],
   "source": [
    "### CNN Model\n",
    "model = Sequential()\n",
    "model.add(Conv2D(64, (3,3), input_shape = (6, 4, 1)))\n",
    "model.add(Activation(\"relu\"))\n",
    "model.add(MaxPooling2D(pool_size=(1,1)))\n",
    "model.add(Dropout(0.25))\n",
    "\n",
    "model.add(Flatten())\n",
    "model.add(Dense(64))\n",
    "model.add(Dropout(0.25)) \n",
    "\n",
    "model.add(Dense(2))\n",
    "model.add(Activation('sigmoid'))\n",
    "model.compile(loss=\"categorical_crossentropy\", optimizer=\"adam\", metrics=['accuracy'])"
   ]
  },
  {
   "cell_type": "code",
   "execution_count": 19,
   "metadata": {},
   "outputs": [
    {
     "name": "stdout",
     "output_type": "stream",
     "text": [
      "Model: \"sequential\"\n",
      "_________________________________________________________________\n",
      "Layer (type)                 Output Shape              Param #   \n",
      "=================================================================\n",
      "conv2d (Conv2D)              (None, 4, 2, 64)          640       \n",
      "_________________________________________________________________\n",
      "activation (Activation)      (None, 4, 2, 64)          0         \n",
      "_________________________________________________________________\n",
      "max_pooling2d (MaxPooling2D) (None, 4, 2, 64)          0         \n",
      "_________________________________________________________________\n",
      "dropout (Dropout)            (None, 4, 2, 64)          0         \n",
      "_________________________________________________________________\n",
      "flatten (Flatten)            (None, 512)               0         \n",
      "_________________________________________________________________\n",
      "dense (Dense)                (None, 64)                32832     \n",
      "_________________________________________________________________\n",
      "dropout_1 (Dropout)          (None, 64)                0         \n",
      "_________________________________________________________________\n",
      "dense_1 (Dense)              (None, 2)                 130       \n",
      "_________________________________________________________________\n",
      "activation_1 (Activation)    (None, 2)                 0         \n",
      "=================================================================\n",
      "Total params: 33,602\n",
      "Trainable params: 33,602\n",
      "Non-trainable params: 0\n",
      "_________________________________________________________________\n"
     ]
    }
   ],
   "source": [
    "model.summary()"
   ]
  },
  {
   "cell_type": "code",
   "execution_count": 20,
   "metadata": {},
   "outputs": [
    {
     "name": "stdout",
     "output_type": "stream",
     "text": [
      "Epoch 1/10\n",
      "312/312 [==============================] - 1s 4ms/step - loss: 0.5219 - accuracy: 0.7045 - val_loss: 0.3930 - val_accuracy: 0.8240\n",
      "Epoch 2/10\n",
      "312/312 [==============================] - 1s 3ms/step - loss: 0.2359 - accuracy: 0.9140 - val_loss: 0.1334 - val_accuracy: 0.9526\n",
      "Epoch 3/10\n",
      "312/312 [==============================] - 1s 4ms/step - loss: 0.1407 - accuracy: 0.9507 - val_loss: 0.1234 - val_accuracy: 0.9548\n",
      "Epoch 4/10\n",
      "312/312 [==============================] - 2s 7ms/step - loss: 0.1234 - accuracy: 0.9548 - val_loss: 0.1206 - val_accuracy: 0.9497\n",
      "Epoch 5/10\n",
      "312/312 [==============================] - 1s 3ms/step - loss: 0.1168 - accuracy: 0.9578 - val_loss: 0.1221 - val_accuracy: 0.9545\n",
      "Epoch 6/10\n",
      "312/312 [==============================] - 1s 3ms/step - loss: 0.1119 - accuracy: 0.9574 - val_loss: 0.1098 - val_accuracy: 0.9548\n",
      "Epoch 7/10\n",
      "312/312 [==============================] - 2s 7ms/step - loss: 0.1063 - accuracy: 0.9607 - val_loss: 0.1035 - val_accuracy: 0.9564\n",
      "Epoch 8/10\n",
      "312/312 [==============================] - 1s 3ms/step - loss: 0.1053 - accuracy: 0.9594 - val_loss: 0.1070 - val_accuracy: 0.9548\n",
      "Epoch 9/10\n",
      "312/312 [==============================] - 2s 7ms/step - loss: 0.1009 - accuracy: 0.9606 - val_loss: 0.0941 - val_accuracy: 0.9599\n",
      "Epoch 10/10\n",
      "312/312 [==============================] - 1s 3ms/step - loss: 0.1017 - accuracy: 0.9606 - val_loss: 0.0966 - val_accuracy: 0.9599\n"
     ]
    }
   ],
   "source": [
    "## fitting the model with \n",
    "CNN_MODEL = model.fit(x_train, y_train, batch_size=40, epochs=10, validation_data=(x_test, y_test))"
   ]
  },
  {
   "cell_type": "code",
   "execution_count": 21,
   "metadata": {},
   "outputs": [],
   "source": [
    "## MODEL EVALUATION"
   ]
  },
  {
   "cell_type": "code",
   "execution_count": 22,
   "metadata": {},
   "outputs": [],
   "source": [
    "## Prediction loss and accuracy\n",
    "test_eval = model.evaluate(x_test, y_test, verbose=0)[1]"
   ]
  },
  {
   "cell_type": "code",
   "execution_count": 23,
   "metadata": {},
   "outputs": [
    {
     "name": "stdout",
     "output_type": "stream",
     "text": [
      "Test accuracy: 0.9599359035491943\n"
     ]
    }
   ],
   "source": [
    "print('Test accuracy:', test_eval)"
   ]
  },
  {
   "cell_type": "code",
   "execution_count": 24,
   "metadata": {},
   "outputs": [
    {
     "data": {
      "image/png": "[encoded data removed]",
      "text/plain": [
       "<Figure size 432x288 with 1 Axes>"
      ]
     },
     "metadata": {
      "needs_background": "light"
     },
     "output_type": "display_data"
    },
    {
     "data": {
      "image/png": "[encoded data removed]",
      "text/plain": [
       "<Figure size 432x288 with 1 Axes>"
      ]
     },
     "metadata": {
      "needs_background": "light"
     },
     "output_type": "display_data"
    }
   ],
   "source": [
    "##plot the accuracy and loss plots between training and validation data to check for over-fitting\n",
    "\n",
    "import numpy as np\n",
    "from keras.utils import to_categorical\n",
    "import matplotlib.pyplot as plt\n",
    "%matplotlib inline\n",
    "\n",
    "accuracy = CNN_MODEL.history['accuracy']\n",
    "val_accuracy = CNN_MODEL.history['val_accuracy']\n",
    "loss = CNN_MODEL.history['loss']\n",
    "val_loss = CNN_MODEL.history['val_loss']\n",
    "epochs = range(len(accuracy))\n",
    "plt.plot(epochs, accuracy, 'bo', label='Training accuracy')\n",
    "plt.plot(epochs, val_accuracy, 'orange', label='Validation accuracy')\n",
    "plt.title('Training and validation accuracy')\n",
    "plt.legend()\n",
    "plt.figure()\n",
    "plt.plot(epochs, loss, 'bo', label='Training loss')\n",
    "plt.plot(epochs, val_loss, 'orange', label='Validation loss')\n",
    "plt.title('Training and validation loss')\n",
    "plt.legend()\n",
    "plt.show()\n"
   ]
  },
  {
   "cell_type": "code",
   "execution_count": 25,
   "metadata": {},
   "outputs": [
    {
     "data": {
      "image/png": "[encoded data removed]",
      "text/plain": [
       "<Figure size 432x288 with 1 Axes>"
      ]
     },
     "metadata": {
      "needs_background": "light"
     },
     "output_type": "display_data"
    }
   ],
   "source": [
    "##plot our training accuracy and validation accuracy\n",
    "plt.plot(CNN_MODEL.history['accuracy'])\n",
    "plt.plot(CNN_MODEL.history['val_accuracy'])\n",
    "plt.title('Model accuracy')\n",
    "plt.ylabel('Accuracy')\n",
    "plt.xlabel('Epoch')\n",
    "plt.legend(['Train', 'Val'], loc='lower right')\n",
    "plt.show()\n"
   ]
  },
  {
   "cell_type": "code",
   "execution_count": 26,
   "metadata": {},
   "outputs": [
    {
     "name": "stdout",
     "output_type": "stream",
     "text": [
      "98/98 [==============================] - 0s 1ms/step\n"
     ]
    }
   ],
   "source": [
    "## Predicting using CNN\n",
    "CNN_MODEL_pred = model.predict(x_test, batch_size=32, verbose=1)\n",
    "CNN_MODEL_predicted = np.argmax(CNN_MODEL_pred, axis=1)"
   ]
  },
  {
   "cell_type": "code",
   "execution_count": 27,
   "metadata": {},
   "outputs": [
    {
     "data": {
      "image/png": "[encoded data removed]",
      "text/plain": [
       "<Figure size 576x576 with 1 Axes>"
      ]
     },
     "metadata": {
      "needs_background": "light"
     },
     "output_type": "display_data"
    }
   ],
   "source": [
    "## Confusion matrix for the CNN\n",
    "CNN_MODEL_cm = confusion_matrix(np.argmax(y_test, axis=1), CNN_MODEL_predicted)\n",
    "fig, ax = plt.subplots(figsize = (8, 8))\n",
    "ax.imshow(CNN_MODEL_cm)\n",
    "ax.grid(False)\n",
    "ax.xaxis.set(ticks=(0,1), ticklabels=('Actual 1s', 'Actual 0s'))\n",
    "ax.yaxis.set(ticks=(0,1), ticklabels=('predicted 1s', 'predicted 0s'))\n",
    "ax.set_ylim(1.5, -0.5)\n",
    "for i in range(2):\n",
    "    for j in range(2):\n",
    "        ax.text(j, i, CNN_MODEL_cm[i, j], ha= 'center', va= 'center', color= 'k')\n",
    "plt.show()"
   ]
  },
  {
   "cell_type": "code",
   "execution_count": 28,
   "metadata": {},
   "outputs": [],
   "source": [
    "test_cm = CNN_MODEL_cm"
   ]
  },
  {
   "cell_type": "code",
   "execution_count": 29,
   "metadata": {},
   "outputs": [
    {
     "name": "stdout",
     "output_type": "stream",
     "text": [
      "0.9424695977549111\n"
     ]
    }
   ],
   "source": [
    "## Sensitivity Analysis \n",
    "test_sens = test_cm[1, 1]/(test_cm[1, 1] + test_cm[0, 1])\n",
    "print(test_sens)"
   ]
  },
  {
   "cell_type": "code",
   "execution_count": 30,
   "metadata": {},
   "outputs": [
    {
     "name": "stdout",
     "output_type": "stream",
     "text": [
      "0.9979633401221996\n"
     ]
    }
   ],
   "source": [
    "## Specificity Analysis\n",
    "test_spec = test_cm[0, 0]/(test_cm[0, 0]+test_cm[1, 0])\n",
    "print(test_spec)"
   ]
  },
  {
   "cell_type": "code",
   "execution_count": 31,
   "metadata": {},
   "outputs": [
    {
     "name": "stdout",
     "output_type": "stream",
     "text": [
      "0.999008428358949\n"
     ]
    }
   ],
   "source": [
    "## PPV Analysis\n",
    "test_npv = test_cm[1, 1]/(test_cm[1, 1] + test_cm[1, 0])\n",
    "print(test_npv)"
   ]
  },
  {
   "cell_type": "code",
   "execution_count": 32,
   "metadata": {},
   "outputs": [
    {
     "name": "stdout",
     "output_type": "stream",
     "text": [
      "0.8884859474161378\n"
     ]
    }
   ],
   "source": [
    "## NPV Analysis\n",
    "test_npv = test_cm[0, 0]/(test_cm[0, 0]+test_cm[0, 1])\n",
    "print(test_npv)"
   ]
  },
  {
   "cell_type": "code",
   "execution_count": 33,
   "metadata": {},
   "outputs": [
    {
     "name": "stderr",
     "output_type": "stream",
     "text": [
      "C:\\Users\\eagye\\anaconda1\\lib\\site-packages\\ipykernel_launcher.py:33: DeprecationWarning: scipy.interp is deprecated and will be removed in SciPy 2.0.0, use numpy.interp instead\n",
      "C:\\Users\\eagye\\anaconda1\\lib\\site-packages\\ipykernel_launcher.py:49: MatplotlibDeprecationWarning: Saw kwargs ['lw', 'linewidth'] which are all aliases for 'linewidth'.  Kept value from 'linewidth'.  Passing multiple aliases for the same property will raise a TypeError in 3.3.\n"
     ]
    },
    {
     "data": {
      "image/png": "[encoded data removed]",
      "text/plain": [
       "<Figure size 432x288 with 1 Axes>"
      ]
     },
     "metadata": {
      "needs_background": "light"
     },
     "output_type": "display_data"
    }
   ],
   "source": [
    "from sklearn.datasets import make_classification\n",
    "from sklearn.preprocessing import label_binarize\n",
    "from scipy import interp\n",
    "from itertools import cycle\n",
    "\n",
    "n_classes = 1\n",
    "\n",
    "from sklearn.metrics import roc_curve, auc\n",
    "\n",
    "# Plot linewidth.\n",
    "lw = 8\n",
    "\n",
    "# Compute ROC curve and ROC area for each class\n",
    "fpr = dict()\n",
    "tpr = dict()\n",
    "roc_auc = dict()\n",
    "for i in range(n_classes):\n",
    "    fpr[i], tpr[i], _ = roc_curve(y_test[:, i], CNN_MODEL_pred[:, i])\n",
    "    roc_auc[i] = auc(fpr[i], tpr[i])\n",
    "\n",
    "# Compute micro-average ROC curve and ROC area\n",
    "fpr[\"micro\"], tpr[\"micro\"], _ = roc_curve(y_test.ravel(), CNN_MODEL_pred.ravel())\n",
    "roc_auc[\"micro\"] = auc(fpr[\"micro\"], tpr[\"micro\"])\n",
    "\n",
    "# Compute macro-average ROC curve and ROC area\n",
    "\n",
    "# First aggregate all false positive rates\n",
    "all_fpr = np.unique(np.concatenate([fpr[i] for i in range(n_classes)]))\n",
    "\n",
    "# Then interpolate all ROC curves at this points\n",
    "mean_tpr = np.zeros_like(all_fpr)\n",
    "for i in range(n_classes):\n",
    "    mean_tpr += interp(all_fpr, fpr[i], tpr[i])\n",
    "\n",
    "# Finally average it and compute AUC\n",
    "mean_tpr /= n_classes\n",
    "\n",
    "fpr[\"macro\"] = all_fpr\n",
    "tpr[\"macro\"] = mean_tpr\n",
    "roc_auc[\"macro\"] = auc(fpr[\"macro\"], tpr[\"macro\"])\n",
    "\n",
    "# Plot all ROC curves\n",
    "plt.figure(1)\n",
    "plt.plot(fpr[\"micro\"], tpr[\"micro\"],\n",
    "         label='Male (AUC = {0:0.2f})'\n",
    "               ''.format(roc_auc[\"micro\"]),marker = '.',\n",
    "         color='orange', linestyle=':', linewidth=2)\n",
    "\n",
    "plt.plot([0, 1], [0, 1], 'b--', label = 'Patients Last Status',linewidth=2, lw=lw)\n",
    "plt.xlim([0.0, 1.0])\n",
    "plt.ylim([0.0, 1.05])\n",
    "plt.xlabel('False Positive Rate')\n",
    "plt.ylabel('True Positive Rate')\n",
    "plt.title('Receiver Operating Characteristic Curve')\n",
    "plt.legend(loc=\"lower right\")\n",
    "plt.show()"
   ]
  },
  {
   "cell_type": "code",
   "execution_count": null,
   "metadata": {},
   "outputs": [],
   "source": []
  },
  {
   "cell_type": "code",
   "execution_count": null,
   "metadata": {},
   "outputs": [],
   "source": []
  },
  {
   "cell_type": "code",
   "execution_count": null,
   "metadata": {},
   "outputs": [],
   "source": []
  },
  {
   "cell_type": "code",
   "execution_count": 1,
   "metadata": {},
   "outputs": [],
   "source": [
    "## CONSIDERING THE FEMALE DATA SEPARATELY FOR THE ANALYSIS"
   ]
  },
  {
   "cell_type": "code",
   "execution_count": 2,
   "metadata": {},
   "outputs": [],
   "source": [
    "## Modules required\n",
    "import pandas as pd\n",
    "import numpy as np\n",
    "from scipy import misc \n",
    "from PIL import Image \n",
    "import glob \n",
    "from matplotlib.pyplot import imshow \n",
    "import seaborn as sn\n",
    "import pickle \n",
    "from keras.preprocessing import image \n",
    "from keras.preprocessing.image import load_img \n",
    "from keras.preprocessing.image import img_to_array \n",
    "from keras.applications.imagenet_utils import decode_predictions \n",
    "from keras.utils import layer_utils, np_utils \n",
    "from keras.utils.data_utils import get_file \n",
    "from keras.applications.imagenet_utils import preprocess_input \n",
    "from keras.utils.vis_utils import model_to_dot \n",
    "from keras.utils import plot_model \n",
    "from keras.initializers import glorot_uniform \n",
    "from keras import losses \n",
    "import keras.backend as K \n",
    "from keras.callbacks import ModelCheckpoint \n",
    "from sklearn.metrics import confusion_matrix, classification_report \n",
    "from keras import layers \n",
    "from IPython.display import SVG\n",
    "import matplotlib.pyplot as plt\n",
    "%matplotlib inline\n",
    "import keras\n",
    "import tensorflow as tf\n",
    "from tensorflow.keras.models import Sequential, Model, load_model\n",
    "from tensorflow.keras.layers import Dense,Dropout, Activation, Flatten, Input, Add, ZeroPadding2D, Conv2D, MaxPooling2D \n",
    "from hyperopt import Trials, STATUS_OK, tpe\n",
    "from hyperas import optim\n",
    "from hyperas.distributions import choice, uniform"
   ]
  },
  {
   "cell_type": "code",
   "execution_count": 3,
   "metadata": {},
   "outputs": [],
   "source": [
    "# Code\n",
    "FBC = (pd.read_excel('FBC.xlsx'))"
   ]
  },
  {
   "cell_type": "code",
   "execution_count": 4,
   "metadata": {},
   "outputs": [
    {
     "data": {
      "text/html": [
       "<div>\n",
       "<style scoped>\n",
       "    .dataframe tbody tr th:only-of-type {\n",
       "        vertical-align: middle;\n",
       "    }\n",
       "\n",
       "    .dataframe tbody tr th {\n",
       "        vertical-align: top;\n",
       "    }\n",
       "\n",
       "    .dataframe thead th {\n",
       "        text-align: right;\n",
       "    }\n",
       "</style>\n",
       "<table border=\"1\" class=\"dataframe\">\n",
       "  <thead>\n",
       "    <tr style=\"text-align: right;\">\n",
       "      <th></th>\n",
       "      <th>PatStatus</th>\n",
       "      <th>Race</th>\n",
       "      <th>MarST</th>\n",
       "      <th>Gender</th>\n",
       "      <th>AgeDiag</th>\n",
       "      <th>Grade</th>\n",
       "      <th>Stability</th>\n",
       "      <th>No.Visits</th>\n",
       "      <th>Lstay</th>\n",
       "      <th>Laterality</th>\n",
       "      <th>...</th>\n",
       "      <th>LyNode</th>\n",
       "      <th>Amorph</th>\n",
       "      <th>Size</th>\n",
       "      <th>Eggshell</th>\n",
       "      <th>Milk</th>\n",
       "      <th>AxiAden</th>\n",
       "      <th>Distroph</th>\n",
       "      <th>Lucent</th>\n",
       "      <th>Dermal</th>\n",
       "      <th>SkinnLesson</th>\n",
       "    </tr>\n",
       "  </thead>\n",
       "  <tbody>\n",
       "    <tr>\n",
       "      <th>0</th>\n",
       "      <td>1</td>\n",
       "      <td>3</td>\n",
       "      <td>1</td>\n",
       "      <td>0</td>\n",
       "      <td>52</td>\n",
       "      <td>3</td>\n",
       "      <td>0</td>\n",
       "      <td>5</td>\n",
       "      <td>1</td>\n",
       "      <td>4</td>\n",
       "      <td>...</td>\n",
       "      <td>1</td>\n",
       "      <td>1</td>\n",
       "      <td>5</td>\n",
       "      <td>1</td>\n",
       "      <td>1</td>\n",
       "      <td>1</td>\n",
       "      <td>1</td>\n",
       "      <td>2</td>\n",
       "      <td>1</td>\n",
       "      <td>1</td>\n",
       "    </tr>\n",
       "    <tr>\n",
       "      <th>1</th>\n",
       "      <td>1</td>\n",
       "      <td>3</td>\n",
       "      <td>1</td>\n",
       "      <td>0</td>\n",
       "      <td>48</td>\n",
       "      <td>3</td>\n",
       "      <td>0</td>\n",
       "      <td>4</td>\n",
       "      <td>3</td>\n",
       "      <td>5</td>\n",
       "      <td>...</td>\n",
       "      <td>1</td>\n",
       "      <td>1</td>\n",
       "      <td>1</td>\n",
       "      <td>1</td>\n",
       "      <td>0</td>\n",
       "      <td>1</td>\n",
       "      <td>0</td>\n",
       "      <td>1</td>\n",
       "      <td>0</td>\n",
       "      <td>1</td>\n",
       "    </tr>\n",
       "    <tr>\n",
       "      <th>2</th>\n",
       "      <td>0</td>\n",
       "      <td>3</td>\n",
       "      <td>0</td>\n",
       "      <td>0</td>\n",
       "      <td>69</td>\n",
       "      <td>2</td>\n",
       "      <td>0</td>\n",
       "      <td>7</td>\n",
       "      <td>9</td>\n",
       "      <td>8</td>\n",
       "      <td>...</td>\n",
       "      <td>1</td>\n",
       "      <td>0</td>\n",
       "      <td>1</td>\n",
       "      <td>1</td>\n",
       "      <td>1</td>\n",
       "      <td>1</td>\n",
       "      <td>1</td>\n",
       "      <td>2</td>\n",
       "      <td>1</td>\n",
       "      <td>1</td>\n",
       "    </tr>\n",
       "    <tr>\n",
       "      <th>3</th>\n",
       "      <td>1</td>\n",
       "      <td>3</td>\n",
       "      <td>0</td>\n",
       "      <td>0</td>\n",
       "      <td>47</td>\n",
       "      <td>2</td>\n",
       "      <td>0</td>\n",
       "      <td>15</td>\n",
       "      <td>9</td>\n",
       "      <td>9</td>\n",
       "      <td>...</td>\n",
       "      <td>1</td>\n",
       "      <td>1</td>\n",
       "      <td>2</td>\n",
       "      <td>0</td>\n",
       "      <td>1</td>\n",
       "      <td>1</td>\n",
       "      <td>0</td>\n",
       "      <td>1</td>\n",
       "      <td>0</td>\n",
       "      <td>1</td>\n",
       "    </tr>\n",
       "    <tr>\n",
       "      <th>4</th>\n",
       "      <td>1</td>\n",
       "      <td>3</td>\n",
       "      <td>0</td>\n",
       "      <td>0</td>\n",
       "      <td>66</td>\n",
       "      <td>3</td>\n",
       "      <td>0</td>\n",
       "      <td>9</td>\n",
       "      <td>5</td>\n",
       "      <td>4</td>\n",
       "      <td>...</td>\n",
       "      <td>1</td>\n",
       "      <td>0</td>\n",
       "      <td>6</td>\n",
       "      <td>1</td>\n",
       "      <td>1</td>\n",
       "      <td>1</td>\n",
       "      <td>0</td>\n",
       "      <td>1</td>\n",
       "      <td>0</td>\n",
       "      <td>0</td>\n",
       "    </tr>\n",
       "  </tbody>\n",
       "</table>\n",
       "<p>5 rows × 25 columns</p>\n",
       "</div>"
      ],
      "text/plain": [
       "   PatStatus  Race  MarST  Gender  AgeDiag  Grade  Stability  No.Visits  \\\n",
       "0          1     3      1       0       52      3          0          5   \n",
       "1          1     3      1       0       48      3          0          4   \n",
       "2          0     3      0       0       69      2          0          7   \n",
       "3          1     3      0       0       47      2          0         15   \n",
       "4          1     3      0       0       66      3          0          9   \n",
       "\n",
       "   Lstay  Laterality  ...  LyNode  Amorph   Size  Eggshell  Milk  AxiAden  \\\n",
       "0      1           4  ...       1       1      5         1     1        1   \n",
       "1      3           5  ...       1       1      1         1     0        1   \n",
       "2      9           8  ...       1       0      1         1     1        1   \n",
       "3      9           9  ...       1       1      2         0     1        1   \n",
       "4      5           4  ...       1       0      6         1     1        1   \n",
       "\n",
       "   Distroph  Lucent  Dermal  SkinnLesson  \n",
       "0         1       2       1            1  \n",
       "1         0       1       0            1  \n",
       "2         1       2       1            1  \n",
       "3         0       1       0            1  \n",
       "4         0       1       0            0  \n",
       "\n",
       "[5 rows x 25 columns]"
      ]
     },
     "execution_count": 4,
     "metadata": {},
     "output_type": "execute_result"
    }
   ],
   "source": [
    "## CONSIDERING THE FEMALE DATA SEPARATELY FOR THE ANALYSIS\n",
    "FBC.head()"
   ]
  },
  {
   "cell_type": "code",
   "execution_count": 5,
   "metadata": {},
   "outputs": [
    {
     "data": {
      "text/plain": [
       "array([[ 3,  0,  0, 47],\n",
       "       [ 2,  0, 15,  9],\n",
       "       [ 9,  1,  1,  0],\n",
       "       [ 3,  1,  1,  1],\n",
       "       [ 2,  0,  1,  1],\n",
       "       [ 0,  1,  0,  1]], dtype=int8)"
      ]
     },
     "execution_count": 5,
     "metadata": {},
     "output_type": "execute_result"
    }
   ],
   "source": [
    "## The new fitted logistic regression model with selected variables\n",
    "## Modules required\n",
    "import pandas as pd\n",
    "import numpy as np\n",
    "import matplotlib.pyplot as plt\n",
    "%matplotlib inline\n",
    "import keras\n",
    "import tensorflow as tf\n",
    "from tensorflow.keras.models import Sequential\n",
    "from tensorflow.keras.layers import Dense,Dropout, Activation, Flatten, Conv2D, MaxPooling2D \n",
    "from hyperopt import Trials, STATUS_OK, tpe\n",
    "from hyperas import optim\n",
    "from hyperas.distributions import choice, uniform\n",
    "\n",
    "## Reshaping into array\n",
    "FBC.iloc[3,1:].values.reshape(6,4).astype('int8')"
   ]
  },
  {
   "cell_type": "code",
   "execution_count": 6,
   "metadata": {},
   "outputs": [],
   "source": [
    "## Preprocessing the data"
   ]
  },
  {
   "cell_type": "code",
   "execution_count": 7,
   "metadata": {},
   "outputs": [],
   "source": [
    "## Storing the independent variables array in form length, width, height into df_x\n",
    "df_x = FBC.iloc[:,1:].values.reshape(len(FBC), 6, 4, 1)\n",
    "\n",
    "## Storing the dependent variables in y\n",
    "y = FBC.iloc[:,0].values"
   ]
  },
  {
   "cell_type": "code",
   "execution_count": 8,
   "metadata": {},
   "outputs": [],
   "source": [
    "# converting y to categorical\n",
    "df_y = keras.utils.to_categorical(y, num_classes = 2)\n"
   ]
  },
  {
   "cell_type": "code",
   "execution_count": 9,
   "metadata": {},
   "outputs": [],
   "source": [
    "df_x =np.array(df_x)\n",
    "df_y = np.array(df_y)"
   ]
  },
  {
   "cell_type": "code",
   "execution_count": 10,
   "metadata": {},
   "outputs": [
    {
     "data": {
      "text/plain": [
       "array([[0., 1.],\n",
       "       [0., 1.],\n",
       "       [1., 0.],\n",
       "       ...,\n",
       "       [0., 1.],\n",
       "       [0., 1.],\n",
       "       [0., 1.]], dtype=float32)"
      ]
     },
     "execution_count": 10,
     "metadata": {},
     "output_type": "execute_result"
    }
   ],
   "source": [
    "df_y"
   ]
  },
  {
   "cell_type": "code",
   "execution_count": 11,
   "metadata": {},
   "outputs": [
    {
     "data": {
      "text/plain": [
       "(84403, 6, 4, 1)"
      ]
     },
     "execution_count": 11,
     "metadata": {},
     "output_type": "execute_result"
    }
   ],
   "source": [
    "df_x.shape"
   ]
  },
  {
   "cell_type": "code",
   "execution_count": 12,
   "metadata": {},
   "outputs": [
    {
     "data": {
      "text/plain": [
       "(84403, 2)"
      ]
     },
     "execution_count": 12,
     "metadata": {},
     "output_type": "execute_result"
    }
   ],
   "source": [
    "df_y.shape"
   ]
  },
  {
   "cell_type": "code",
   "execution_count": 13,
   "metadata": {},
   "outputs": [],
   "source": [
    "#Import 'train_test_split' from 'sklearn.model_selection'\n",
    "from sklearn.model_selection import train_test_split\n",
    "\n",
    "#Import numpy#\n",
    "import numpy as np\n",
    "#Split the data into train and test sets #\n",
    "x_train, x_test, y_train, y_test=train_test_split(df_x,df_y, test_size=0.2, random_state=123)\n"
   ]
  },
  {
   "cell_type": "code",
   "execution_count": 14,
   "metadata": {},
   "outputs": [
    {
     "data": {
      "text/plain": [
       "(16881, 6, 4, 1)"
      ]
     },
     "execution_count": 14,
     "metadata": {},
     "output_type": "execute_result"
    }
   ],
   "source": [
    "x_test.shape"
   ]
  },
  {
   "cell_type": "code",
   "execution_count": 15,
   "metadata": {},
   "outputs": [
    {
     "data": {
      "text/plain": [
       "(16881, 2)"
      ]
     },
     "execution_count": 15,
     "metadata": {},
     "output_type": "execute_result"
    }
   ],
   "source": [
    "y_test.shape"
   ]
  },
  {
   "cell_type": "code",
   "execution_count": 16,
   "metadata": {},
   "outputs": [],
   "source": [
    "### CNN Model\n",
    "model = Sequential()\n",
    "model.add(Conv2D(64, (2,3), input_shape = (6, 4, 1)))\n",
    "model.add(Activation('relu'))\n",
    "model.add(MaxPooling2D(pool_size=(1,1)))\n",
    "model.add(Dropout(0.25))\n",
    "\n",
    "model.add(Flatten())\n",
    "model.add(Dense(64))\n",
    "model.add(Dropout(0.25)) \n",
    "\n",
    "model.add(Dense(2))\n",
    "model.add(Activation('sigmoid'))\n",
    "model.compile(loss=\"categorical_crossentropy\", optimizer=\"adam\", metrics=['accuracy'])"
   ]
  },
  {
   "cell_type": "code",
   "execution_count": 17,
   "metadata": {},
   "outputs": [
    {
     "name": "stdout",
     "output_type": "stream",
     "text": [
      "Model: \"sequential\"\n",
      "_________________________________________________________________\n",
      "Layer (type)                 Output Shape              Param #   \n",
      "=================================================================\n",
      "conv2d (Conv2D)              (None, 5, 2, 64)          448       \n",
      "_________________________________________________________________\n",
      "activation (Activation)      (None, 5, 2, 64)          0         \n",
      "_________________________________________________________________\n",
      "max_pooling2d (MaxPooling2D) (None, 5, 2, 64)          0         \n",
      "_________________________________________________________________\n",
      "dropout (Dropout)            (None, 5, 2, 64)          0         \n",
      "_________________________________________________________________\n",
      "flatten (Flatten)            (None, 640)               0         \n",
      "_________________________________________________________________\n",
      "dense (Dense)                (None, 64)                41024     \n",
      "_________________________________________________________________\n",
      "dropout_1 (Dropout)          (None, 64)                0         \n",
      "_________________________________________________________________\n",
      "dense_1 (Dense)              (None, 2)                 130       \n",
      "_________________________________________________________________\n",
      "activation_1 (Activation)    (None, 2)                 0         \n",
      "=================================================================\n",
      "Total params: 41,602\n",
      "Trainable params: 41,602\n",
      "Non-trainable params: 0\n",
      "_________________________________________________________________\n"
     ]
    }
   ],
   "source": [
    "model.summary()"
   ]
  },
  {
   "cell_type": "code",
   "execution_count": 18,
   "metadata": {},
   "outputs": [
    {
     "name": "stdout",
     "output_type": "stream",
     "text": [
      "Epoch 1/10\n",
      "2251/2251 [==============================] - 11s 5ms/step - loss: 0.3300 - accuracy: 0.8355 - val_loss: 0.2250 - val_accuracy: 0.8900\n",
      "Epoch 2/10\n",
      "2251/2251 [==============================] - 12s 5ms/step - loss: 0.2363 - accuracy: 0.8785 - val_loss: 0.2042 - val_accuracy: 0.8833\n",
      "Epoch 3/10\n",
      "2251/2251 [==============================] - 12s 5ms/step - loss: 0.2270 - accuracy: 0.8755 - val_loss: 0.2016 - val_accuracy: 0.8850\n",
      "Epoch 4/10\n",
      "2251/2251 [==============================] - 11s 5ms/step - loss: 0.2207 - accuracy: 0.8771 - val_loss: 0.1945 - val_accuracy: 0.8856\n",
      "Epoch 5/10\n",
      "2251/2251 [==============================] - 12s 5ms/step - loss: 0.2167 - accuracy: 0.8775 - val_loss: 0.1924 - val_accuracy: 0.8865\n",
      "Epoch 6/10\n",
      "2251/2251 [==============================] - 12s 5ms/step - loss: 0.2132 - accuracy: 0.8797 - val_loss: 0.1938 - val_accuracy: 0.8849\n",
      "Epoch 7/10\n",
      "2251/2251 [==============================] - 13s 6ms/step - loss: 0.2108 - accuracy: 0.8802 - val_loss: 0.1892 - val_accuracy: 0.8867\n",
      "Epoch 8/10\n",
      "2251/2251 [==============================] - 13s 6ms/step - loss: 0.2091 - accuracy: 0.8803 - val_loss: 0.1935 - val_accuracy: 0.8873\n",
      "Epoch 9/10\n",
      "2251/2251 [==============================] - 13s 6ms/step - loss: 0.2083 - accuracy: 0.8809 - val_loss: 0.1885 - val_accuracy: 0.8861\n",
      "Epoch 10/10\n",
      "2251/2251 [==============================] - 12s 5ms/step - loss: 0.2059 - accuracy: 0.8813 - val_loss: 0.1941 - val_accuracy: 0.8878\n"
     ]
    }
   ],
   "source": [
    "## fitting the model with \n",
    "CNN_MODEL = model.fit(x_train, y_train, batch_size=30, epochs=10, validation_data=(x_test, y_test))"
   ]
  },
  {
   "cell_type": "code",
   "execution_count": 19,
   "metadata": {},
   "outputs": [],
   "source": [
    "## MODEL EVALUATION"
   ]
  },
  {
   "cell_type": "code",
   "execution_count": 20,
   "metadata": {},
   "outputs": [],
   "source": [
    "## Prediction loss and accuracy\n",
    "test_eval = model.evaluate(x_test, y_test, verbose=0)[1]"
   ]
  },
  {
   "cell_type": "code",
   "execution_count": 21,
   "metadata": {},
   "outputs": [
    {
     "name": "stdout",
     "output_type": "stream",
     "text": [
      "Test accuracy: 0.8878028392791748\n"
     ]
    }
   ],
   "source": [
    "print('Test accuracy:', test_eval)"
   ]
  },
  {
   "cell_type": "code",
   "execution_count": 22,
   "metadata": {},
   "outputs": [
    {
     "data": {
      "image/png": "[encoded data removed]",
      "text/plain": [
       "<Figure size 432x288 with 1 Axes>"
      ]
     },
     "metadata": {
      "needs_background": "light"
     },
     "output_type": "display_data"
    },
    {
     "data": {
      "image/png": "[encoded data removed]",
      "text/plain": [
       "<Figure size 432x288 with 1 Axes>"
      ]
     },
     "metadata": {
      "needs_background": "light"
     },
     "output_type": "display_data"
    }
   ],
   "source": [
    "##plot the accuracy and loss plots between training and validation data to check for over-fitting\n",
    "\n",
    "import numpy as np\n",
    "from keras.utils import to_categorical\n",
    "import matplotlib.pyplot as plt\n",
    "%matplotlib inline\n",
    "\n",
    "accuracy = CNN_MODEL.history['accuracy']\n",
    "val_accuracy = CNN_MODEL.history['val_accuracy']\n",
    "loss = CNN_MODEL.history['loss']\n",
    "val_loss = CNN_MODEL.history['val_loss']\n",
    "epochs = range(len(accuracy))\n",
    "plt.plot(epochs, accuracy, 'bo', label='Training accuracy')\n",
    "plt.plot(epochs, val_accuracy, 'orange', label='Validation accuracy')\n",
    "plt.title('Training and validation accuracy')\n",
    "plt.legend()\n",
    "plt.figure()\n",
    "plt.plot(epochs, loss, 'bo', label='Training loss')\n",
    "plt.plot(epochs, val_loss, 'orange', label='Validation loss')\n",
    "plt.title('Training and validation loss')\n",
    "plt.legend()\n",
    "plt.show()\n"
   ]
  },
  {
   "cell_type": "code",
   "execution_count": 23,
   "metadata": {},
   "outputs": [
    {
     "data": {
      "image/png": "[encoded data removed]",
      "text/plain": [
       "<Figure size 432x288 with 1 Axes>"
      ]
     },
     "metadata": {
      "needs_background": "light"
     },
     "output_type": "display_data"
    }
   ],
   "source": [
    "##plot our training accuracy and validation accuracy\n",
    "plt.plot(CNN_MODEL.history['accuracy'])\n",
    "plt.plot(CNN_MODEL.history['val_accuracy'])\n",
    "plt.title('Model accuracy')\n",
    "plt.ylabel('Accuracy')\n",
    "plt.xlabel('Epoch')\n",
    "plt.legend(['Train', 'Val'], loc='lower right')\n",
    "plt.show()"
   ]
  },
  {
   "cell_type": "code",
   "execution_count": 24,
   "metadata": {},
   "outputs": [
    {
     "name": "stdout",
     "output_type": "stream",
     "text": [
      "528/528 [==============================] - 1s 1ms/step\n"
     ]
    }
   ],
   "source": [
    "## Predicting using CNN\n",
    "CNN_MODEL_pred = model.predict(x_test, batch_size=32, verbose=1)\n",
    "CNN_MODEL_predicted = np.argmax(CNN_MODEL_pred, axis=1)"
   ]
  },
  {
   "cell_type": "code",
   "execution_count": 25,
   "metadata": {},
   "outputs": [
    {
     "data": {
      "image/png": "[encoded data removed]",
      "text/plain": [
       "<Figure size 576x576 with 1 Axes>"
      ]
     },
     "metadata": {
      "needs_background": "light"
     },
     "output_type": "display_data"
    }
   ],
   "source": [
    "## Confusion matrix for the CNN\n",
    "CNN_MODEL_cm = confusion_matrix(np.argmax(y_test, axis=1), CNN_MODEL_predicted)\n",
    "fig, ax = plt.subplots(figsize = (8, 8))\n",
    "ax.imshow(CNN_MODEL_cm)\n",
    "ax.grid(False)\n",
    "ax.xaxis.set(ticks=(0,1), ticklabels=('Actual 1s', 'Actual 0s'))\n",
    "ax.yaxis.set(ticks=(0,1), ticklabels=('predicted 1s', 'predicted 0s'))\n",
    "ax.set_ylim(1.5, -0.5)\n",
    "for i in range(2):\n",
    "    for j in range(2):\n",
    "        ax.text(j, i, CNN_MODEL_cm[i, j], ha= 'center', va= 'center', color= 'k')\n",
    "plt.show()"
   ]
  },
  {
   "cell_type": "code",
   "execution_count": 26,
   "metadata": {},
   "outputs": [],
   "source": [
    "test_cm = CNN_MODEL_cm"
   ]
  },
  {
   "cell_type": "code",
   "execution_count": 27,
   "metadata": {},
   "outputs": [
    {
     "name": "stdout",
     "output_type": "stream",
     "text": [
      "0.8450632911392405\n"
     ]
    }
   ],
   "source": [
    "## Sensitivity Analysis \n",
    "test_sens = test_cm[1, 1]/(test_cm[1, 1] + test_cm[0, 1])\n",
    "print(test_sens)"
   ]
  },
  {
   "cell_type": "code",
   "execution_count": 28,
   "metadata": {},
   "outputs": [
    {
     "name": "stdout",
     "output_type": "stream",
     "text": [
      "0.948044533257208\n"
     ]
    }
   ],
   "source": [
    "## Specificity Analysis\n",
    "test_spec = test_cm[0, 0]/(test_cm[0, 0]+test_cm[1, 0])\n",
    "print(test_spec)"
   ]
  },
  {
   "cell_type": "code",
   "execution_count": 29,
   "metadata": {},
   "outputs": [
    {
     "name": "stdout",
     "output_type": "stream",
     "text": [
      "0.9582041566195889\n"
     ]
    }
   ],
   "source": [
    "## PPV Analysis\n",
    "test_npv = test_cm[1, 1]/(test_cm[1, 1] + test_cm[1, 0])\n",
    "print(test_npv)"
   ]
  },
  {
   "cell_type": "code",
   "execution_count": 30,
   "metadata": {},
   "outputs": [
    {
     "name": "stdout",
     "output_type": "stream",
     "text": [
      "0.8127753303964758\n"
     ]
    }
   ],
   "source": [
    "## NPV Analysis\n",
    "test_npv = test_cm[0, 0]/(test_cm[0, 0]+test_cm[0, 1])\n",
    "print(test_npv)"
   ]
  },
  {
   "cell_type": "code",
   "execution_count": 32,
   "metadata": {},
   "outputs": [
    {
     "name": "stderr",
     "output_type": "stream",
     "text": [
      "C:\\Users\\eagye\\anaconda1\\lib\\site-packages\\ipykernel_launcher.py:33: DeprecationWarning: scipy.interp is deprecated and will be removed in SciPy 2.0.0, use numpy.interp instead\n",
      "C:\\Users\\eagye\\anaconda1\\lib\\site-packages\\ipykernel_launcher.py:49: MatplotlibDeprecationWarning: Saw kwargs ['lw', 'linewidth'] which are all aliases for 'linewidth'.  Kept value from 'linewidth'.  Passing multiple aliases for the same property will raise a TypeError in 3.3.\n"
     ]
    },
    {
     "data": {
      "image/png": "[encoded data removed]",
      "text/plain": [
       "<Figure size 432x288 with 1 Axes>"
      ]
     },
     "metadata": {
      "needs_background": "light"
     },
     "output_type": "display_data"
    }
   ],
   "source": [
    "from sklearn.datasets import make_classification\n",
    "from sklearn.preprocessing import label_binarize\n",
    "from scipy import interp\n",
    "from itertools import cycle\n",
    "\n",
    "n_classes = 1\n",
    "\n",
    "from sklearn.metrics import roc_curve, auc\n",
    "\n",
    "# Plot linewidth.\n",
    "lw = 8\n",
    "\n",
    "# Compute ROC curve and ROC area for each class\n",
    "fpr = dict()\n",
    "tpr = dict()\n",
    "roc_auc = dict()\n",
    "for i in range(n_classes):\n",
    "    fpr[i], tpr[i], _ = roc_curve(y_test[:, i], CNN_MODEL_pred[:, i])\n",
    "    roc_auc[i] = auc(fpr[i], tpr[i])\n",
    "\n",
    "# Compute micro-average ROC curve and ROC area\n",
    "fpr[\"micro\"], tpr[\"micro\"], _ = roc_curve(y_test.ravel(), CNN_MODEL_pred.ravel())\n",
    "roc_auc[\"micro\"] = auc(fpr[\"micro\"], tpr[\"micro\"])\n",
    "\n",
    "# Compute macro-average ROC curve and ROC area\n",
    "\n",
    "# First aggregate all false positive rates\n",
    "all_fpr = np.unique(np.concatenate([fpr[i] for i in range(n_classes)]))\n",
    "\n",
    "# Then interpolate all ROC curves at this points\n",
    "mean_tpr = np.zeros_like(all_fpr)\n",
    "for i in range(n_classes):\n",
    "    mean_tpr += interp(all_fpr, fpr[i], tpr[i])\n",
    "\n",
    "# Finally average it and compute AUC\n",
    "mean_tpr /= n_classes\n",
    "\n",
    "fpr[\"macro\"] = all_fpr\n",
    "tpr[\"macro\"] = mean_tpr\n",
    "roc_auc[\"macro\"] = auc(fpr[\"macro\"], tpr[\"macro\"])\n",
    "\n",
    "# Plot all ROC curves\n",
    "plt.figure(1)\n",
    "plt.plot(fpr[\"micro\"], tpr[\"micro\"],\n",
    "         label='Female (AUC = {0:0.1f})'\n",
    "               ''.format(roc_auc[\"micro\"]),marker = '.',\n",
    "         color='orange', linestyle=':', linewidth=2)\n",
    "\n",
    "plt.plot([0, 1], [0, 1], 'b--', label = 'Patients Last Status',linewidth=2, lw=lw)\n",
    "plt.xlim([0.0, 1.0])\n",
    "plt.ylim([0.0, 1.05])\n",
    "plt.xlabel('False Positive Rate')\n",
    "plt.ylabel('True Positive Rate')\n",
    "plt.title('Receiver Operating Characteristic Curve')\n",
    "plt.legend(loc=\"lower right\")\n",
    "plt.show()"
   ]
  },
  {
   "cell_type": "code",
   "execution_count": null,
   "metadata": {},
   "outputs": [],
   "source": []
  },
  {
   "cell_type": "code",
   "execution_count": null,
   "metadata": {},
   "outputs": [],
   "source": []
  },
  {
   "cell_type": "code",
   "execution_count": null,
   "metadata": {},
   "outputs": [],
   "source": []
  },
  {
   "cell_type": "code",
   "execution_count": null,
   "metadata": {},
   "outputs": [],
   "source": []
  },
  {
   "cell_type": "code",
   "execution_count": null,
   "metadata": {},
   "outputs": [],
   "source": []
  },
  {
   "cell_type": "code",
   "execution_count": null,
   "metadata": {},
   "outputs": [],
   "source": []
  },
  {
   "cell_type": "code",
   "execution_count": null,
   "metadata": {},
   "outputs": [],
   "source": []
  }
 ],
 "metadata": {
  "kernelspec": {
   "display_name": "Python 3",
   "language": "python",
   "name": "python3"
  },
  "language_info": {
   "codemirror_mode": {
    "name": "ipython",
    "version": 3
   },
   "file_extension": ".py",
   "mimetype": "text/x-python",
   "name": "python",
   "nbconvert_exporter": "python",
   "pygments_lexer": "ipython3",
   "version": "3.7.6"
  }
 },
 "nbformat": 4,
 "nbformat_minor": 4
}
