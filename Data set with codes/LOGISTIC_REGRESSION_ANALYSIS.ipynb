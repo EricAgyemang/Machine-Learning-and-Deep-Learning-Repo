{
 "cells": [
  {
   "cell_type": "code",
   "execution_count": 1,
   "metadata": {},
   "outputs": [],
   "source": [
    "## ANALYSIS OF BREAST CANCER DATA USING LOGISTIC REGRESSION\n",
    "import pandas as pd\n",
    "import numpy as np\n",
    "import matplotlib.pyplot as plt\n",
    "import seaborn as sns\n",
    "import pylab\n",
    "import math"
   ]
  },
  {
   "cell_type": "code",
   "execution_count": 2,
   "metadata": {},
   "outputs": [],
   "source": [
    "from scipy.stats import norm\n",
    "from scipy import stats\n",
    "import statsmodels.api as sm\n",
    "from sklearn import datasets, linear_model\n",
    "from statsmodels.stats import diagnostic as diag\n",
    "from statsmodels.stats.outliers_influence import variance_inflation_factor\n",
    "from sklearn.linear_model import LogisticRegression\n",
    "%matplotlib inline"
   ]
  },
  {
   "cell_type": "code",
   "execution_count": 3,
   "metadata": {},
   "outputs": [],
   "source": [
    "BC = pd.read_excel('cancer.xlsx')"
   ]
  },
  {
   "cell_type": "code",
   "execution_count": 4,
   "metadata": {},
   "outputs": [
    {
     "data": {
      "text/html": [
       "<div>\n",
       "<style scoped>\n",
       "    .dataframe tbody tr th:only-of-type {\n",
       "        vertical-align: middle;\n",
       "    }\n",
       "\n",
       "    .dataframe tbody tr th {\n",
       "        vertical-align: top;\n",
       "    }\n",
       "\n",
       "    .dataframe thead th {\n",
       "        text-align: right;\n",
       "    }\n",
       "</style>\n",
       "<table border=\"1\" class=\"dataframe\">\n",
       "  <thead>\n",
       "    <tr style=\"text-align: right;\">\n",
       "      <th></th>\n",
       "      <th>PAT_ID</th>\n",
       "      <th>Race</th>\n",
       "      <th>MarST</th>\n",
       "      <th>Gender</th>\n",
       "      <th>PatStatus</th>\n",
       "      <th>AgeDiag</th>\n",
       "      <th>Grade</th>\n",
       "      <th>Stability</th>\n",
       "      <th>No.Visits</th>\n",
       "      <th>Lstay</th>\n",
       "      <th>...</th>\n",
       "      <th>LyNode</th>\n",
       "      <th>Amorph</th>\n",
       "      <th>Size</th>\n",
       "      <th>Eggshell</th>\n",
       "      <th>Milk</th>\n",
       "      <th>AxiAden</th>\n",
       "      <th>Distroph</th>\n",
       "      <th>Lucent</th>\n",
       "      <th>Dermal</th>\n",
       "      <th>SkinnLesson</th>\n",
       "    </tr>\n",
       "  </thead>\n",
       "  <tbody>\n",
       "    <tr>\n",
       "      <th>0</th>\n",
       "      <td>32400010</td>\n",
       "      <td>3</td>\n",
       "      <td>1</td>\n",
       "      <td>0</td>\n",
       "      <td>1</td>\n",
       "      <td>52</td>\n",
       "      <td>3</td>\n",
       "      <td>0</td>\n",
       "      <td>5</td>\n",
       "      <td>1</td>\n",
       "      <td>...</td>\n",
       "      <td>1</td>\n",
       "      <td>1</td>\n",
       "      <td>5</td>\n",
       "      <td>1</td>\n",
       "      <td>1</td>\n",
       "      <td>1</td>\n",
       "      <td>1</td>\n",
       "      <td>2</td>\n",
       "      <td>1</td>\n",
       "      <td>1</td>\n",
       "    </tr>\n",
       "    <tr>\n",
       "      <th>1</th>\n",
       "      <td>32400023</td>\n",
       "      <td>3</td>\n",
       "      <td>1</td>\n",
       "      <td>0</td>\n",
       "      <td>1</td>\n",
       "      <td>48</td>\n",
       "      <td>3</td>\n",
       "      <td>0</td>\n",
       "      <td>4</td>\n",
       "      <td>3</td>\n",
       "      <td>...</td>\n",
       "      <td>1</td>\n",
       "      <td>1</td>\n",
       "      <td>1</td>\n",
       "      <td>1</td>\n",
       "      <td>0</td>\n",
       "      <td>1</td>\n",
       "      <td>0</td>\n",
       "      <td>1</td>\n",
       "      <td>0</td>\n",
       "      <td>1</td>\n",
       "    </tr>\n",
       "    <tr>\n",
       "      <th>2</th>\n",
       "      <td>32400073</td>\n",
       "      <td>3</td>\n",
       "      <td>0</td>\n",
       "      <td>1</td>\n",
       "      <td>1</td>\n",
       "      <td>61</td>\n",
       "      <td>3</td>\n",
       "      <td>0</td>\n",
       "      <td>9</td>\n",
       "      <td>1</td>\n",
       "      <td>...</td>\n",
       "      <td>1</td>\n",
       "      <td>1</td>\n",
       "      <td>2</td>\n",
       "      <td>1</td>\n",
       "      <td>1</td>\n",
       "      <td>1</td>\n",
       "      <td>0</td>\n",
       "      <td>2</td>\n",
       "      <td>0</td>\n",
       "      <td>0</td>\n",
       "    </tr>\n",
       "    <tr>\n",
       "      <th>3</th>\n",
       "      <td>32400073</td>\n",
       "      <td>3</td>\n",
       "      <td>1</td>\n",
       "      <td>1</td>\n",
       "      <td>1</td>\n",
       "      <td>63</td>\n",
       "      <td>2</td>\n",
       "      <td>0</td>\n",
       "      <td>3</td>\n",
       "      <td>5</td>\n",
       "      <td>...</td>\n",
       "      <td>1</td>\n",
       "      <td>0</td>\n",
       "      <td>7</td>\n",
       "      <td>1</td>\n",
       "      <td>1</td>\n",
       "      <td>1</td>\n",
       "      <td>0</td>\n",
       "      <td>2</td>\n",
       "      <td>0</td>\n",
       "      <td>0</td>\n",
       "    </tr>\n",
       "    <tr>\n",
       "      <th>4</th>\n",
       "      <td>32400396</td>\n",
       "      <td>3</td>\n",
       "      <td>0</td>\n",
       "      <td>0</td>\n",
       "      <td>0</td>\n",
       "      <td>69</td>\n",
       "      <td>2</td>\n",
       "      <td>0</td>\n",
       "      <td>7</td>\n",
       "      <td>9</td>\n",
       "      <td>...</td>\n",
       "      <td>1</td>\n",
       "      <td>0</td>\n",
       "      <td>1</td>\n",
       "      <td>1</td>\n",
       "      <td>1</td>\n",
       "      <td>1</td>\n",
       "      <td>1</td>\n",
       "      <td>2</td>\n",
       "      <td>1</td>\n",
       "      <td>1</td>\n",
       "    </tr>\n",
       "  </tbody>\n",
       "</table>\n",
       "<p>5 rows × 26 columns</p>\n",
       "</div>"
      ],
      "text/plain": [
       "     PAT_ID  Race  MarST  Gender  PatStatus  AgeDiag  Grade  Stability  \\\n",
       "0  32400010     3      1       0          1       52      3          0   \n",
       "1  32400023     3      1       0          1       48      3          0   \n",
       "2  32400073     3      0       1          1       61      3          0   \n",
       "3  32400073     3      1       1          1       63      2          0   \n",
       "4  32400396     3      0       0          0       69      2          0   \n",
       "\n",
       "   No.Visits  Lstay  ...  LyNode  Amorph   Size  Eggshell  Milk  AxiAden  \\\n",
       "0          5      1  ...       1       1      5         1     1        1   \n",
       "1          4      3  ...       1       1      1         1     0        1   \n",
       "2          9      1  ...       1       1      2         1     1        1   \n",
       "3          3      5  ...       1       0      7         1     1        1   \n",
       "4          7      9  ...       1       0      1         1     1        1   \n",
       "\n",
       "   Distroph  Lucent  Dermal  SkinnLesson  \n",
       "0         1       2       1            1  \n",
       "1         0       1       0            1  \n",
       "2         0       2       0            0  \n",
       "3         0       2       0            0  \n",
       "4         1       2       1            1  \n",
       "\n",
       "[5 rows x 26 columns]"
      ]
     },
     "execution_count": 4,
     "metadata": {},
     "output_type": "execute_result"
    }
   ],
   "source": [
    "BC.head()"
   ]
  },
  {
   "cell_type": "code",
   "execution_count": 5,
   "metadata": {},
   "outputs": [],
   "source": [
    "## We Consider Both Sex\n",
    "\n",
    "#Import 'train_test_split' from 'sklearn.model_selection'\n",
    "from sklearn.model_selection import train_test_split\n",
    "\n",
    "#Import numpy#\n",
    "import numpy as np"
   ]
  },
  {
   "cell_type": "code",
   "execution_count": 7,
   "metadata": {},
   "outputs": [],
   "source": [
    "y = BC.PatStatus\n",
    "x = BC.drop(['PatStatus','PAT_ID'], axis = 1)\n"
   ]
  },
  {
   "cell_type": "code",
   "execution_count": 8,
   "metadata": {},
   "outputs": [],
   "source": [
    "#Split the data into train and test sets #\n",
    "x_train, x_test, y_train, y_test=train_test_split(x,y, test_size=0.2, random_state=123)\n",
    "\n",
    "## Scaling the data\n",
    "from sklearn.preprocessing import MinMaxScaler\n",
    "from sklearn import preprocessing\n",
    "import numpy as np\n",
    "\n",
    "min_max_scaler = preprocessing.MinMaxScaler()\n",
    "x_train_minmax = min_max_scaler.fit_transform(x_train)\n",
    "x_test_minmax = min_max_scaler.fit_transform(x_test)\n"
   ]
  },
  {
   "cell_type": "code",
   "execution_count": 9,
   "metadata": {},
   "outputs": [
    {
     "name": "stdout",
     "output_type": "stream",
     "text": [
      "Optimization terminated successfully.\n",
      "         Current function value: 0.451584\n",
      "         Iterations 7\n"
     ]
    }
   ],
   "source": [
    "log_reg = sm.Logit(y_train, x_train)\n",
    "log_reg = log_reg.fit()"
   ]
  },
  {
   "cell_type": "code",
   "execution_count": 10,
   "metadata": {},
   "outputs": [
    {
     "name": "stdout",
     "output_type": "stream",
     "text": [
      "                           Logit Regression Results                           \n",
      "==============================================================================\n",
      "Dep. Variable:              PatStatus   No. Observations:                80001\n",
      "Model:                          Logit   Df Residuals:                    79977\n",
      "Method:                           MLE   Df Model:                           23\n",
      "Date:                Thu, 16 Jul 2020   Pseudo R-squ.:                  0.3466\n",
      "Time:                        00:02:16   Log-Likelihood:                -36127.\n",
      "converged:                       True   LL-Null:                       -55289.\n",
      "Covariance Type:            nonrobust   LLR p-value:                     0.000\n",
      "===============================================================================\n",
      "                  coef    std err          z      P>|z|      [0.025      0.975]\n",
      "-------------------------------------------------------------------------------\n",
      "Race            0.0056      0.001      8.874      0.000       0.004       0.007\n",
      "MarST           0.0538      0.019      2.895      0.004       0.017       0.090\n",
      "Gender         -0.0592      0.026     -2.255      0.024      -0.111      -0.008\n",
      "AgeDiag         0.0066      0.001     10.397      0.000       0.005       0.008\n",
      "Grade          -0.0159      0.012     -1.286      0.198      -0.040       0.008\n",
      "Stability       0.2178      0.035      6.280      0.000       0.150       0.286\n",
      "No.Visits       0.0335      0.003     12.467      0.000       0.028       0.039\n",
      "Lstay          -0.1740      0.003    -51.229      0.000      -0.181      -0.167\n",
      "Laterality     -0.0810      0.004    -22.634      0.000      -0.088      -0.074\n",
      "FamHist        -3.3407      0.063    -53.148      0.000      -3.464      -3.217\n",
      "PrioBSurgy     -0.3006      0.025    -12.034      0.000      -0.350      -0.252\n",
      "Suture          0.0427      0.022      1.932      0.053      -0.001       0.086\n",
      " Density        0.2365      0.015     16.194      0.000       0.208       0.265\n",
      "NipRet          2.1587      0.033     64.839      0.000       2.093       2.224\n",
      "LyNode          0.3620      0.029     12.287      0.000       0.304       0.420\n",
      "Amorph          0.1636      0.030      5.422      0.000       0.104       0.223\n",
      " Size          -0.1563      0.015    -10.446      0.000      -0.186      -0.127\n",
      "Eggshell       -0.4962      0.024    -20.468      0.000      -0.544      -0.449\n",
      "Milk            0.8963      0.025     35.627      0.000       0.847       0.946\n",
      "AxiAden         1.0621      0.021     50.061      0.000       1.021       1.104\n",
      "Distroph       -0.7367      0.038    -19.439      0.000      -0.811      -0.662\n",
      "Lucent          1.9973      0.037     53.432      0.000       1.924       2.071\n",
      "Dermal          0.0292      0.023      1.254      0.210      -0.016       0.075\n",
      "SkinnLesson    -1.6329      0.020    -80.003      0.000      -1.673      -1.593\n",
      "===============================================================================\n"
     ]
    }
   ],
   "source": [
    "print(log_reg.summary())"
   ]
  },
  {
   "cell_type": "code",
   "execution_count": 11,
   "metadata": {},
   "outputs": [],
   "source": [
    "## exclude insignificant variables in the model\n",
    "y = BC.PatStatus\n",
    "x = BC.drop(['PatStatus', 'PAT_ID','Grade','Suture','Dermal'], axis = 1)"
   ]
  },
  {
   "cell_type": "code",
   "execution_count": 12,
   "metadata": {},
   "outputs": [],
   "source": [
    "#Split the data into train and test sets #\n",
    "x_train, x_test, y_train, y_test=train_test_split(x,y, test_size=0.2, random_state=123)\n",
    "\n",
    "\n",
    "## Scaling the data\n",
    "from sklearn.preprocessing import MinMaxScaler\n",
    "from sklearn import preprocessing\n",
    "import numpy as np\n",
    "\n",
    "min_max_scaler = preprocessing.MinMaxScaler()\n",
    "x_train_minmax = min_max_scaler.fit_transform(x_train)\n",
    "x_test_minmax = min_max_scaler.fit_transform(x_test)\n",
    "\n"
   ]
  },
  {
   "cell_type": "code",
   "execution_count": 13,
   "metadata": {},
   "outputs": [
    {
     "name": "stdout",
     "output_type": "stream",
     "text": [
      "Optimization terminated successfully.\n",
      "         Current function value: 0.451626\n",
      "         Iterations 7\n"
     ]
    },
    {
     "data": {
      "text/plain": [
       "LogisticRegression(C=1.0, class_weight=None, dual=False, fit_intercept=True,\n",
       "                   intercept_scaling=1, l1_ratio=None, max_iter=100,\n",
       "                   multi_class='auto', n_jobs=None, penalty='l2',\n",
       "                   random_state=None, solver='lbfgs', tol=0.0001, verbose=0,\n",
       "                   warm_start=False)"
      ]
     },
     "execution_count": 13,
     "metadata": {},
     "output_type": "execute_result"
    }
   ],
   "source": [
    "\n",
    "## The new fitted logistic regression model with selected variables\n",
    "import statsmodels.api as sm\n",
    "log_reg = sm.Logit(y_train, x_train)\n",
    "log_reg = log_reg.fit()\n",
    "\n",
    "log_reg1 = LogisticRegression()\n",
    "log_reg1.fit(x_train_minmax, y_train)"
   ]
  },
  {
   "cell_type": "code",
   "execution_count": 14,
   "metadata": {},
   "outputs": [
    {
     "name": "stdout",
     "output_type": "stream",
     "text": [
      "                           Logit Regression Results                           \n",
      "==============================================================================\n",
      "Dep. Variable:              PatStatus   No. Observations:                80001\n",
      "Model:                          Logit   Df Residuals:                    79980\n",
      "Method:                           MLE   Df Model:                           20\n",
      "Date:                Thu, 16 Jul 2020   Pseudo R-squ.:                  0.3465\n",
      "Time:                        00:38:12   Log-Likelihood:                -36131.\n",
      "converged:                       True   LL-Null:                       -55289.\n",
      "Covariance Type:            nonrobust   LLR p-value:                     0.000\n",
      "===============================================================================\n",
      "                  coef    std err          z      P>|z|      [0.025      0.975]\n",
      "-------------------------------------------------------------------------------\n",
      "Race            0.0056      0.001      8.858      0.000       0.004       0.007\n",
      "MarST           0.0535      0.019      2.882      0.004       0.017       0.090\n",
      "Gender         -0.0567      0.026     -2.166      0.030      -0.108      -0.005\n",
      "AgeDiag         0.0065      0.001     10.360      0.000       0.005       0.008\n",
      "Stability       0.2168      0.035      6.256      0.000       0.149       0.285\n",
      "No.Visits       0.0336      0.003     12.592      0.000       0.028       0.039\n",
      "Lstay          -0.1741      0.003    -51.358      0.000      -0.181      -0.167\n",
      "Laterality     -0.0812      0.004    -22.710      0.000      -0.088      -0.074\n",
      "FamHist        -3.3429      0.062    -53.584      0.000      -3.465      -3.221\n",
      "PrioBSurgy     -0.3001      0.025    -12.021      0.000      -0.349      -0.251\n",
      " Density        0.2380      0.015     16.366      0.000       0.209       0.266\n",
      "NipRet          2.1586      0.033     65.045      0.000       2.094       2.224\n",
      "LyNode          0.3696      0.029     12.677      0.000       0.312       0.427\n",
      "Amorph          0.1559      0.030      5.216      0.000       0.097       0.214\n",
      " Size          -0.1575      0.015    -10.587      0.000      -0.187      -0.128\n",
      "Eggshell       -0.4944      0.024    -20.452      0.000      -0.542      -0.447\n",
      "Milk            0.8986      0.025     35.828      0.000       0.849       0.948\n",
      "AxiAden         1.0612      0.021     50.045      0.000       1.020       1.103\n",
      "Distroph       -0.7165      0.036    -19.853      0.000      -0.787      -0.646\n",
      "Lucent          1.9938      0.037     54.102      0.000       1.922       2.066\n",
      "SkinnLesson    -1.6347      0.020    -80.147      0.000      -1.675      -1.595\n",
      "===============================================================================\n"
     ]
    }
   ],
   "source": [
    "print(log_reg.summary())"
   ]
  },
  {
   "cell_type": "code",
   "execution_count": 15,
   "metadata": {},
   "outputs": [
    {
     "name": "stdout",
     "output_type": "stream",
     "text": [
      "Accuracy 0.8024098795060247\n"
     ]
    }
   ],
   "source": [
    "## Score of the model giving the accuracy of the model\n",
    "print(\"Accuracy\", (log_reg1.score(x_test_minmax, y_test)))"
   ]
  },
  {
   "cell_type": "code",
   "execution_count": 16,
   "metadata": {},
   "outputs": [],
   "source": [
    "### PREDICTION ON THE TEST DATASET"
   ]
  },
  {
   "cell_type": "code",
   "execution_count": 17,
   "metadata": {},
   "outputs": [],
   "source": [
    "### Getting the prediction for the Testing dataset\n",
    "from sklearn.datasets import make_classification\n",
    "from sklearn.metrics import confusion_matrix, roc_curve, roc_auc_score, plot_roc_curve\n",
    "from sklearn.model_selection import cross_val_score, cross_validate\n",
    "\n",
    "x_train = x_train_minmax\n",
    "x_test = x_test_minmax "
   ]
  },
  {
   "cell_type": "code",
   "execution_count": 18,
   "metadata": {},
   "outputs": [],
   "source": [
    "tns_probs=[0 for _ in range(len(y_test))]\n",
    "y_predict = log_reg1.predict(x_test)"
   ]
  },
  {
   "cell_type": "code",
   "execution_count": 19,
   "metadata": {},
   "outputs": [],
   "source": [
    " ## Keeping the probabilities for Testing outcomes\n",
    "y_pred = log_reg1.predict_proba(x_test)\n",
    "y_pred = y_pred[:,1]"
   ]
  },
  {
   "cell_type": "code",
   "execution_count": 20,
   "metadata": {},
   "outputs": [
    {
     "data": {
      "image/png": "[encoded data removed]",
      "text/plain": [
       "<Figure size 576x576 with 1 Axes>"
      ]
     },
     "metadata": {
      "needs_background": "light"
     },
     "output_type": "display_data"
    }
   ],
   "source": [
    " ## confusion matrix\n",
    "test_cm = confusion_matrix(y_test, np.round(y_predict))\n",
    "fig, ax = plt.subplots(figsize = (8, 8))\n",
    "ax.imshow(test_cm)\n",
    "ax.grid(False)\n",
    "ax.xaxis.set(ticks=(0,1), ticklabels=('Actual 1s', 'Actual 0s'))\n",
    "ax.yaxis.set(ticks=(0,1), ticklabels=('predicted 1s', 'predicted 0s'))\n",
    "ax.set_ylim(1.5, -0.5)\n",
    "for i in range(2):\n",
    "    for j in range(2):\n",
    "        ax.text(j, i, test_cm[i, j], ha= 'center', va= 'center', color= 'black')\n",
    "plt.show()"
   ]
  },
  {
   "cell_type": "code",
   "execution_count": 21,
   "metadata": {},
   "outputs": [
    {
     "name": "stdout",
     "output_type": "stream",
     "text": [
      "0.1975901204939753\n"
     ]
    }
   ],
   "source": [
    " ## Error for the prediction for test dataset outcomes\n",
    "test_error = (test_cm[0,1] + test_cm[1,0])/np.sum(test_cm)\n",
    "print(test_error)"
   ]
  },
  {
   "cell_type": "code",
   "execution_count": 22,
   "metadata": {},
   "outputs": [
    {
     "data": {
      "text/plain": [
       "0.8024098795060247"
      ]
     },
     "execution_count": 22,
     "metadata": {},
     "output_type": "execute_result"
    }
   ],
   "source": [
    "## Accuracy of prediction\n",
    "1-test_error"
   ]
  },
  {
   "cell_type": "code",
   "execution_count": 23,
   "metadata": {},
   "outputs": [
    {
     "name": "stdout",
     "output_type": "stream",
     "text": [
      "0.8905586784444189\n"
     ]
    }
   ],
   "source": [
    "## Sensitivity Analysis\n",
    "test_sens = test_cm[1, 1]/(test_cm[1, 1] + test_cm[0, 1])\n",
    "print(test_sens)"
   ]
  },
  {
   "cell_type": "code",
   "execution_count": 24,
   "metadata": {},
   "outputs": [
    {
     "name": "stdout",
     "output_type": "stream",
     "text": [
      "0.7343140730237504\n"
     ]
    }
   ],
   "source": [
    " ## Specificity Analysis\n",
    "test_spec = test_cm[0, 0]/(test_cm[0, 0]+test_cm[1, 0])\n",
    "print(test_spec)"
   ]
  },
  {
   "cell_type": "code",
   "execution_count": 25,
   "metadata": {},
   "outputs": [
    {
     "name": "stdout",
     "output_type": "stream",
     "text": [
      "0.7214013567512313\n"
     ]
    }
   ],
   "source": [
    " ## PPV Analysis\n",
    "test_npv = test_cm[1, 1]/(test_cm[1, 1] + test_cm[1, 0])\n",
    "print(test_npv)"
   ]
  },
  {
   "cell_type": "code",
   "execution_count": 26,
   "metadata": {},
   "outputs": [
    {
     "name": "stdout",
     "output_type": "stream",
     "text": [
      "0.8967532467532467\n"
     ]
    }
   ],
   "source": [
    "## NPV Analysis\n",
    "test_npv = test_cm[0, 0]/(test_cm[0, 0]+test_cm[0, 1])\n",
    "print(test_npv)"
   ]
  },
  {
   "cell_type": "code",
   "execution_count": 27,
   "metadata": {},
   "outputs": [],
   "source": [
    "## The AUC Score\n",
    "test_auc = roc_auc_score(y_test, tns_probs)\n",
    "y_pred_auc = np.round(roc_auc_score(y_test, y_pred), decimals = 2)"
   ]
  },
  {
   "cell_type": "code",
   "execution_count": 28,
   "metadata": {},
   "outputs": [
    {
     "name": "stdout",
     "output_type": "stream",
     "text": [
      "0.5\n"
     ]
    }
   ],
   "source": [
    " print(test_auc)"
   ]
  },
  {
   "cell_type": "code",
   "execution_count": 29,
   "metadata": {},
   "outputs": [
    {
     "name": "stdout",
     "output_type": "stream",
     "text": [
      "0.88\n"
     ]
    }
   ],
   "source": [
    "print(np.round(y_pred_auc, decimals = 2))"
   ]
  },
  {
   "cell_type": "code",
   "execution_count": 30,
   "metadata": {},
   "outputs": [],
   "source": [
    "## calculate ROC Curves\n",
    "test_fpr, test_tpr, _ = roc_curve(y_test, tns_probs)\n",
    "y_pred_fpr, y_pred_tpr, _ = roc_curve(y_test, y_pred)"
   ]
  },
  {
   "cell_type": "code",
   "execution_count": 31,
   "metadata": {},
   "outputs": [
    {
     "data": {
      "text/plain": [
       "<matplotlib.legend.Legend at 0x1b868388208>"
      ]
     },
     "execution_count": 31,
     "metadata": {},
     "output_type": "execute_result"
    },
    {
     "data": {
      "image/png": "[encoded data removed]",
      "text/plain": [
       "<Figure size 432x288 with 1 Axes>"
      ]
     },
     "metadata": {
      "needs_background": "light"
     },
     "output_type": "display_data"
    }
   ],
   "source": [
    "## Plot Curve for the model\n",
    "import numpy as np\n",
    "import matplotlib.pyplot as plt\n",
    "plt.plot(test_fpr, test_tpr, linestyle = '--', label = 'Patients Last Status')\n",
    "plt.plot(y_pred_fpr, y_pred_tpr, marker = '.', label = 'Both Sex')\n",
    "plt.text(0.7, 0.2, \"AUC = \" + str(y_pred_auc), fontsize = 14)\n",
    "## Axis lable\n",
    "plt.xlabel(\"False Positve Rate\")\n",
    "plt.ylabel(\"True Positive Rate\")\n",
    "## Show Legend\n",
    "plt.legend()"
   ]
  },
  {
   "cell_type": "code",
   "execution_count": null,
   "metadata": {},
   "outputs": [],
   "source": []
  },
  {
   "cell_type": "code",
   "execution_count": null,
   "metadata": {},
   "outputs": [],
   "source": []
  },
  {
   "cell_type": "code",
   "execution_count": 1,
   "metadata": {},
   "outputs": [],
   "source": [
    "## WE CONSIDER THE MALE AND FEMALE GENDER SEPERATELY FOR THE ANALYSIS"
   ]
  },
  {
   "cell_type": "code",
   "execution_count": 2,
   "metadata": {},
   "outputs": [],
   "source": [
    "## Modules required\n",
    "import pandas as pd\n",
    "import numpy as np\n",
    "import matplotlib.pyplot as plt\n",
    "%matplotlib inline"
   ]
  },
  {
   "cell_type": "code",
   "execution_count": 3,
   "metadata": {},
   "outputs": [],
   "source": [
    "# Code\n",
    "BC = (pd.read_excel('cancer.xlsx'))"
   ]
  },
  {
   "cell_type": "code",
   "execution_count": 4,
   "metadata": {},
   "outputs": [],
   "source": [
    "#Import 'train_test_split' from 'sklearn.model_selection'\n",
    "from sklearn.model_selection import train_test_split\n",
    "#Import numpy#\n",
    "import numpy as np\n",
    "\n",
    "## SPLITTING DATA INTO MALE AND FEMALE\n",
    "BCM=BC[BC.Gender==1]\n",
    "BCF=BC[BC.Gender==0]"
   ]
  },
  {
   "cell_type": "code",
   "execution_count": 5,
   "metadata": {},
   "outputs": [],
   "source": [
    "#### THE MALE DATASET\n",
    "my=BCM.PatStatus\n",
    "mx=BCM.drop(['PatStatus','PAT_ID', 'Gender'], axis=1)"
   ]
  },
  {
   "cell_type": "code",
   "execution_count": 6,
   "metadata": {},
   "outputs": [],
   "source": [
    "## THE FEMALE DATASET\n",
    "fy=BCF.PatStatus\n",
    "fx=BCF.drop(['PatStatus','PAT_ID', 'Gender'],axis=1)"
   ]
  },
  {
   "cell_type": "code",
   "execution_count": 7,
   "metadata": {},
   "outputs": [],
   "source": [
    "#Split the Male data into train and test sets #\n",
    "mx_train, mx_test, my_train, my_test=train_test_split(mx,my, test_size=0.2, random_state=124)\n"
   ]
  },
  {
   "cell_type": "code",
   "execution_count": 8,
   "metadata": {},
   "outputs": [
    {
     "data": {
      "text/html": [
       "<div>\n",
       "<style scoped>\n",
       "    .dataframe tbody tr th:only-of-type {\n",
       "        vertical-align: middle;\n",
       "    }\n",
       "\n",
       "    .dataframe tbody tr th {\n",
       "        vertical-align: top;\n",
       "    }\n",
       "\n",
       "    .dataframe thead th {\n",
       "        text-align: right;\n",
       "    }\n",
       "</style>\n",
       "<table border=\"1\" class=\"dataframe\">\n",
       "  <thead>\n",
       "    <tr style=\"text-align: right;\">\n",
       "      <th></th>\n",
       "      <th>Race</th>\n",
       "      <th>MarST</th>\n",
       "      <th>AgeDiag</th>\n",
       "      <th>Grade</th>\n",
       "      <th>Stability</th>\n",
       "      <th>No.Visits</th>\n",
       "      <th>Lstay</th>\n",
       "      <th>Laterality</th>\n",
       "      <th>FamHist</th>\n",
       "      <th>PrioBSurgy</th>\n",
       "      <th>...</th>\n",
       "      <th>LyNode</th>\n",
       "      <th>Amorph</th>\n",
       "      <th>Size</th>\n",
       "      <th>Eggshell</th>\n",
       "      <th>Milk</th>\n",
       "      <th>AxiAden</th>\n",
       "      <th>Distroph</th>\n",
       "      <th>Lucent</th>\n",
       "      <th>Dermal</th>\n",
       "      <th>SkinnLesson</th>\n",
       "    </tr>\n",
       "  </thead>\n",
       "  <tbody>\n",
       "    <tr>\n",
       "      <th>41599</th>\n",
       "      <td>1</td>\n",
       "      <td>1</td>\n",
       "      <td>65</td>\n",
       "      <td>3</td>\n",
       "      <td>0</td>\n",
       "      <td>16</td>\n",
       "      <td>9</td>\n",
       "      <td>2</td>\n",
       "      <td>1</td>\n",
       "      <td>0</td>\n",
       "      <td>...</td>\n",
       "      <td>1</td>\n",
       "      <td>0</td>\n",
       "      <td>2</td>\n",
       "      <td>1</td>\n",
       "      <td>1</td>\n",
       "      <td>1</td>\n",
       "      <td>0</td>\n",
       "      <td>1</td>\n",
       "      <td>0</td>\n",
       "      <td>1</td>\n",
       "    </tr>\n",
       "    <tr>\n",
       "      <th>25664</th>\n",
       "      <td>1</td>\n",
       "      <td>1</td>\n",
       "      <td>61</td>\n",
       "      <td>3</td>\n",
       "      <td>1</td>\n",
       "      <td>16</td>\n",
       "      <td>9</td>\n",
       "      <td>5</td>\n",
       "      <td>1</td>\n",
       "      <td>0</td>\n",
       "      <td>...</td>\n",
       "      <td>1</td>\n",
       "      <td>1</td>\n",
       "      <td>3</td>\n",
       "      <td>1</td>\n",
       "      <td>1</td>\n",
       "      <td>1</td>\n",
       "      <td>0</td>\n",
       "      <td>1</td>\n",
       "      <td>0</td>\n",
       "      <td>0</td>\n",
       "    </tr>\n",
       "    <tr>\n",
       "      <th>44540</th>\n",
       "      <td>6</td>\n",
       "      <td>0</td>\n",
       "      <td>74</td>\n",
       "      <td>2</td>\n",
       "      <td>0</td>\n",
       "      <td>10</td>\n",
       "      <td>9</td>\n",
       "      <td>8</td>\n",
       "      <td>1</td>\n",
       "      <td>0</td>\n",
       "      <td>...</td>\n",
       "      <td>1</td>\n",
       "      <td>0</td>\n",
       "      <td>2</td>\n",
       "      <td>1</td>\n",
       "      <td>1</td>\n",
       "      <td>1</td>\n",
       "      <td>0</td>\n",
       "      <td>1</td>\n",
       "      <td>0</td>\n",
       "      <td>1</td>\n",
       "    </tr>\n",
       "    <tr>\n",
       "      <th>46913</th>\n",
       "      <td>1</td>\n",
       "      <td>0</td>\n",
       "      <td>90</td>\n",
       "      <td>3</td>\n",
       "      <td>0</td>\n",
       "      <td>10</td>\n",
       "      <td>12</td>\n",
       "      <td>3</td>\n",
       "      <td>1</td>\n",
       "      <td>0</td>\n",
       "      <td>...</td>\n",
       "      <td>1</td>\n",
       "      <td>0</td>\n",
       "      <td>2</td>\n",
       "      <td>0</td>\n",
       "      <td>1</td>\n",
       "      <td>1</td>\n",
       "      <td>0</td>\n",
       "      <td>1</td>\n",
       "      <td>1</td>\n",
       "      <td>1</td>\n",
       "    </tr>\n",
       "    <tr>\n",
       "      <th>31494</th>\n",
       "      <td>1</td>\n",
       "      <td>1</td>\n",
       "      <td>71</td>\n",
       "      <td>3</td>\n",
       "      <td>0</td>\n",
       "      <td>10</td>\n",
       "      <td>9</td>\n",
       "      <td>4</td>\n",
       "      <td>1</td>\n",
       "      <td>0</td>\n",
       "      <td>...</td>\n",
       "      <td>1</td>\n",
       "      <td>0</td>\n",
       "      <td>2</td>\n",
       "      <td>1</td>\n",
       "      <td>1</td>\n",
       "      <td>1</td>\n",
       "      <td>0</td>\n",
       "      <td>1</td>\n",
       "      <td>1</td>\n",
       "      <td>1</td>\n",
       "    </tr>\n",
       "  </tbody>\n",
       "</table>\n",
       "<p>5 rows × 23 columns</p>\n",
       "</div>"
      ],
      "text/plain": [
       "       Race  MarST  AgeDiag  Grade  Stability  No.Visits  Lstay  Laterality  \\\n",
       "41599     1      1       65      3          0         16      9           2   \n",
       "25664     1      1       61      3          1         16      9           5   \n",
       "44540     6      0       74      2          0         10      9           8   \n",
       "46913     1      0       90      3          0         10     12           3   \n",
       "31494     1      1       71      3          0         10      9           4   \n",
       "\n",
       "       FamHist  PrioBSurgy  ...  LyNode  Amorph   Size  Eggshell  Milk  \\\n",
       "41599        1           0  ...       1       0      2         1     1   \n",
       "25664        1           0  ...       1       1      3         1     1   \n",
       "44540        1           0  ...       1       0      2         1     1   \n",
       "46913        1           0  ...       1       0      2         0     1   \n",
       "31494        1           0  ...       1       0      2         1     1   \n",
       "\n",
       "       AxiAden  Distroph  Lucent  Dermal  SkinnLesson  \n",
       "41599        1         0       1       0            1  \n",
       "25664        1         0       1       0            0  \n",
       "44540        1         0       1       0            1  \n",
       "46913        1         0       1       1            1  \n",
       "31494        1         0       1       1            1  \n",
       "\n",
       "[5 rows x 23 columns]"
      ]
     },
     "execution_count": 8,
     "metadata": {},
     "output_type": "execute_result"
    }
   ],
   "source": [
    "## CONSIDERING THE MALE DATA\n",
    "mx_train.head()"
   ]
  },
  {
   "cell_type": "code",
   "execution_count": 9,
   "metadata": {},
   "outputs": [
    {
     "data": {
      "text/html": [
       "<div>\n",
       "<style scoped>\n",
       "    .dataframe tbody tr th:only-of-type {\n",
       "        vertical-align: middle;\n",
       "    }\n",
       "\n",
       "    .dataframe tbody tr th {\n",
       "        vertical-align: top;\n",
       "    }\n",
       "\n",
       "    .dataframe thead th {\n",
       "        text-align: right;\n",
       "    }\n",
       "</style>\n",
       "<table border=\"1\" class=\"dataframe\">\n",
       "  <thead>\n",
       "    <tr style=\"text-align: right;\">\n",
       "      <th></th>\n",
       "      <th>Race</th>\n",
       "      <th>MarST</th>\n",
       "      <th>AgeDiag</th>\n",
       "      <th>Grade</th>\n",
       "      <th>Stability</th>\n",
       "      <th>No.Visits</th>\n",
       "      <th>Lstay</th>\n",
       "      <th>Laterality</th>\n",
       "      <th>FamHist</th>\n",
       "      <th>PrioBSurgy</th>\n",
       "      <th>...</th>\n",
       "      <th>LyNode</th>\n",
       "      <th>Amorph</th>\n",
       "      <th>Size</th>\n",
       "      <th>Eggshell</th>\n",
       "      <th>Milk</th>\n",
       "      <th>AxiAden</th>\n",
       "      <th>Distroph</th>\n",
       "      <th>Lucent</th>\n",
       "      <th>Dermal</th>\n",
       "      <th>SkinnLesson</th>\n",
       "    </tr>\n",
       "  </thead>\n",
       "  <tbody>\n",
       "    <tr>\n",
       "      <th>3055</th>\n",
       "      <td>1</td>\n",
       "      <td>0</td>\n",
       "      <td>62</td>\n",
       "      <td>1</td>\n",
       "      <td>0</td>\n",
       "      <td>4</td>\n",
       "      <td>5</td>\n",
       "      <td>5</td>\n",
       "      <td>1</td>\n",
       "      <td>0</td>\n",
       "      <td>...</td>\n",
       "      <td>1</td>\n",
       "      <td>0</td>\n",
       "      <td>1</td>\n",
       "      <td>1</td>\n",
       "      <td>0</td>\n",
       "      <td>1</td>\n",
       "      <td>0</td>\n",
       "      <td>2</td>\n",
       "      <td>0</td>\n",
       "      <td>0</td>\n",
       "    </tr>\n",
       "    <tr>\n",
       "      <th>30043</th>\n",
       "      <td>1</td>\n",
       "      <td>0</td>\n",
       "      <td>76</td>\n",
       "      <td>3</td>\n",
       "      <td>0</td>\n",
       "      <td>10</td>\n",
       "      <td>9</td>\n",
       "      <td>4</td>\n",
       "      <td>1</td>\n",
       "      <td>0</td>\n",
       "      <td>...</td>\n",
       "      <td>1</td>\n",
       "      <td>0</td>\n",
       "      <td>2</td>\n",
       "      <td>1</td>\n",
       "      <td>1</td>\n",
       "      <td>1</td>\n",
       "      <td>0</td>\n",
       "      <td>1</td>\n",
       "      <td>0</td>\n",
       "      <td>0</td>\n",
       "    </tr>\n",
       "    <tr>\n",
       "      <th>27137</th>\n",
       "      <td>1</td>\n",
       "      <td>0</td>\n",
       "      <td>85</td>\n",
       "      <td>2</td>\n",
       "      <td>0</td>\n",
       "      <td>10</td>\n",
       "      <td>9</td>\n",
       "      <td>4</td>\n",
       "      <td>1</td>\n",
       "      <td>0</td>\n",
       "      <td>...</td>\n",
       "      <td>1</td>\n",
       "      <td>0</td>\n",
       "      <td>2</td>\n",
       "      <td>0</td>\n",
       "      <td>1</td>\n",
       "      <td>1</td>\n",
       "      <td>0</td>\n",
       "      <td>1</td>\n",
       "      <td>0</td>\n",
       "      <td>0</td>\n",
       "    </tr>\n",
       "    <tr>\n",
       "      <th>22922</th>\n",
       "      <td>1</td>\n",
       "      <td>1</td>\n",
       "      <td>78</td>\n",
       "      <td>2</td>\n",
       "      <td>0</td>\n",
       "      <td>10</td>\n",
       "      <td>9</td>\n",
       "      <td>8</td>\n",
       "      <td>1</td>\n",
       "      <td>0</td>\n",
       "      <td>...</td>\n",
       "      <td>1</td>\n",
       "      <td>1</td>\n",
       "      <td>3</td>\n",
       "      <td>1</td>\n",
       "      <td>1</td>\n",
       "      <td>1</td>\n",
       "      <td>0</td>\n",
       "      <td>1</td>\n",
       "      <td>0</td>\n",
       "      <td>0</td>\n",
       "    </tr>\n",
       "    <tr>\n",
       "      <th>44064</th>\n",
       "      <td>1</td>\n",
       "      <td>1</td>\n",
       "      <td>45</td>\n",
       "      <td>2</td>\n",
       "      <td>0</td>\n",
       "      <td>14</td>\n",
       "      <td>9</td>\n",
       "      <td>2</td>\n",
       "      <td>1</td>\n",
       "      <td>0</td>\n",
       "      <td>...</td>\n",
       "      <td>1</td>\n",
       "      <td>0</td>\n",
       "      <td>2</td>\n",
       "      <td>0</td>\n",
       "      <td>1</td>\n",
       "      <td>1</td>\n",
       "      <td>0</td>\n",
       "      <td>1</td>\n",
       "      <td>0</td>\n",
       "      <td>1</td>\n",
       "    </tr>\n",
       "  </tbody>\n",
       "</table>\n",
       "<p>5 rows × 23 columns</p>\n",
       "</div>"
      ],
      "text/plain": [
       "       Race  MarST  AgeDiag  Grade  Stability  No.Visits  Lstay  Laterality  \\\n",
       "3055      1      0       62      1          0          4      5           5   \n",
       "30043     1      0       76      3          0         10      9           4   \n",
       "27137     1      0       85      2          0         10      9           4   \n",
       "22922     1      1       78      2          0         10      9           8   \n",
       "44064     1      1       45      2          0         14      9           2   \n",
       "\n",
       "       FamHist  PrioBSurgy  ...  LyNode  Amorph   Size  Eggshell  Milk  \\\n",
       "3055         1           0  ...       1       0      1         1     0   \n",
       "30043        1           0  ...       1       0      2         1     1   \n",
       "27137        1           0  ...       1       0      2         0     1   \n",
       "22922        1           0  ...       1       1      3         1     1   \n",
       "44064        1           0  ...       1       0      2         0     1   \n",
       "\n",
       "       AxiAden  Distroph  Lucent  Dermal  SkinnLesson  \n",
       "3055         1         0       2       0            0  \n",
       "30043        1         0       1       0            0  \n",
       "27137        1         0       1       0            0  \n",
       "22922        1         0       1       0            0  \n",
       "44064        1         0       1       0            1  \n",
       "\n",
       "[5 rows x 23 columns]"
      ]
     },
     "execution_count": 9,
     "metadata": {},
     "output_type": "execute_result"
    }
   ],
   "source": [
    "mx_test.head()"
   ]
  },
  {
   "cell_type": "code",
   "execution_count": 10,
   "metadata": {},
   "outputs": [
    {
     "data": {
      "text/plain": [
       "(12479, 23)"
      ]
     },
     "execution_count": 10,
     "metadata": {},
     "output_type": "execute_result"
    }
   ],
   "source": [
    "mx_train.shape"
   ]
  },
  {
   "cell_type": "code",
   "execution_count": 11,
   "metadata": {},
   "outputs": [
    {
     "data": {
      "text/plain": [
       "(3120, 23)"
      ]
     },
     "execution_count": 11,
     "metadata": {},
     "output_type": "execute_result"
    }
   ],
   "source": [
    "mx_test.shape"
   ]
  },
  {
   "cell_type": "code",
   "execution_count": 12,
   "metadata": {},
   "outputs": [],
   "source": [
    "## Scaling the data\n",
    "from sklearn.preprocessing import MinMaxScaler\n",
    "from sklearn import preprocessing\n",
    "import numpy as np\n",
    "\n",
    "min_max_scaler = preprocessing.MinMaxScaler()\n",
    "mx_train_minmax = min_max_scaler.fit_transform(mx_train)\n",
    "mx_test_minmax = min_max_scaler.fit_transform(mx_test)\n",
    "\n"
   ]
  },
  {
   "cell_type": "code",
   "execution_count": 13,
   "metadata": {},
   "outputs": [],
   "source": [
    " ## FITTING LOGISTIC REGRESSION FOR MALE DATA\n",
    "import pandas as pd\n",
    "import numpy as np\n",
    "import matplotlib.pyplot as plt\n",
    "import seaborn as sns\n",
    "import pylab\n",
    "import math\n",
    "\n",
    "from scipy.stats import norm\n",
    "from scipy import stats\n",
    "import statsmodels.api as sm\n",
    "from sklearn import datasets, linear_model\n",
    "from statsmodels.stats import diagnostic as diag\n",
    "from statsmodels.stats.outliers_influence import variance_inflation_factor\n",
    "from sklearn.linear_model import LogisticRegression\n",
    "%matplotlib inline\n",
    "\n",
    "from sklearn.datasets import make_classification\n",
    "from sklearn.metrics import confusion_matrix, roc_curve, roc_auc_score, plot_roc_curve\n",
    "from sklearn.model_selection import cross_val_score, cross_validate"
   ]
  },
  {
   "cell_type": "code",
   "execution_count": 14,
   "metadata": {},
   "outputs": [
    {
     "name": "stdout",
     "output_type": "stream",
     "text": [
      "Optimization terminated successfully.\n",
      "         Current function value: 0.410336\n",
      "         Iterations 8\n"
     ]
    }
   ],
   "source": [
    "mlog_reg = sm.Logit(my_train, mx_train)\n",
    "mlog_reg = mlog_reg.fit()"
   ]
  },
  {
   "cell_type": "code",
   "execution_count": 15,
   "metadata": {},
   "outputs": [
    {
     "name": "stdout",
     "output_type": "stream",
     "text": [
      "                           Logit Regression Results                           \n",
      "==============================================================================\n",
      "Dep. Variable:              PatStatus   No. Observations:                12479\n",
      "Model:                          Logit   Df Residuals:                    12456\n",
      "Method:                           MLE   Df Model:                           22\n",
      "Date:                Thu, 16 Jul 2020   Pseudo R-squ.:                  0.3622\n",
      "Time:                        10:37:40   Log-Likelihood:                -5120.6\n",
      "converged:                       True   LL-Null:                       -8029.1\n",
      "Covariance Type:            nonrobust   LLR p-value:                     0.000\n",
      "===============================================================================\n",
      "                  coef    std err          z      P>|z|      [0.025      0.975]\n",
      "-------------------------------------------------------------------------------\n",
      "Race           -0.0008      0.002     -0.353      0.724      -0.005       0.004\n",
      "MarST          -0.0004      0.050     -0.009      0.993      -0.099       0.098\n",
      "AgeDiag         0.0026      0.002      1.357      0.175      -0.001       0.006\n",
      "Grade           0.1192      0.035      3.425      0.001       0.051       0.187\n",
      "Stability       0.0759      0.086      0.883      0.377      -0.093       0.245\n",
      "No.Visits      -0.0218      0.010     -2.180      0.029      -0.041      -0.002\n",
      "Lstay          -0.1344      0.012    -10.926      0.000      -0.158      -0.110\n",
      "Laterality     -0.0121      0.009     -1.288      0.198      -0.030       0.006\n",
      "FamHist        -2.6038      0.405     -6.423      0.000      -3.398      -1.809\n",
      "PrioBSurgy     -0.3056      0.131     -2.325      0.020      -0.563      -0.048\n",
      "Suture          0.1467      0.062      2.373      0.018       0.026       0.268\n",
      " Density        0.2654      0.063      4.196      0.000       0.141       0.389\n",
      "NipRet          0.8825      0.147      6.009      0.000       0.595       1.170\n",
      "LyNode          2.6183      0.231     11.352      0.000       2.166       3.070\n",
      "Amorph          1.4480      0.173      8.354      0.000       1.108       1.788\n",
      " Size           0.5909      0.068      8.684      0.000       0.458       0.724\n",
      "Eggshell        0.1048      0.067      1.561      0.118      -0.027       0.236\n",
      "Milk           -0.8173      0.180     -4.553      0.000      -1.169      -0.465\n",
      "AxiAden         0.0887      0.063      1.400      0.161      -0.035       0.213\n",
      "Distroph       -0.1351      0.162     -0.835      0.404      -0.452       0.182\n",
      "Lucent          0.9937      0.144      6.921      0.000       0.712       1.275\n",
      "Dermal          0.1767      0.063      2.796      0.005       0.053       0.300\n",
      "SkinnLesson    -2.7320      0.068    -40.352      0.000      -2.865      -2.599\n",
      "===============================================================================\n"
     ]
    }
   ],
   "source": [
    "print(mlog_reg.summary())"
   ]
  },
  {
   "cell_type": "code",
   "execution_count": 16,
   "metadata": {},
   "outputs": [],
   "source": [
    "## Exclude insignificant variables in the model\n",
    "my=BCM.PatStatus\n",
    "mx=BCM.drop(['PatStatus','PAT_ID', 'Race', 'MarST','AgeDiag', 'Stability', 'Laterality', 'Eggshell', 'AxiAden', 'Distroph'], axis=1)"
   ]
  },
  {
   "cell_type": "code",
   "execution_count": 17,
   "metadata": {},
   "outputs": [],
   "source": [
    "#Split the data into train and test sets #\n",
    "mx_train, mx_test, my_train, my_test=train_test_split(mx,my, test_size=0.2, random_state=124)\n",
    "\n",
    "## Scaling the data\n",
    "from sklearn.preprocessing import MinMaxScaler\n",
    "from sklearn import preprocessing\n",
    "import numpy as np\n",
    "\n",
    "min_max_scaler = preprocessing.MinMaxScaler()\n",
    "mx_train_minmax = min_max_scaler.fit_transform(mx_train)\n",
    "mx_test_minmax = min_max_scaler.fit_transform(mx_test)\n"
   ]
  },
  {
   "cell_type": "code",
   "execution_count": 18,
   "metadata": {},
   "outputs": [
    {
     "name": "stdout",
     "output_type": "stream",
     "text": [
      "Optimization terminated successfully.\n",
      "         Current function value: 0.410184\n",
      "         Iterations 8\n"
     ]
    },
    {
     "name": "stderr",
     "output_type": "stream",
     "text": [
      "C:\\Users\\eagye\\anaconda1\\lib\\site-packages\\sklearn\\linear_model\\_logistic.py:940: ConvergenceWarning: lbfgs failed to converge (status=1):\n",
      "STOP: TOTAL NO. of ITERATIONS REACHED LIMIT.\n",
      "\n",
      "Increase the number of iterations (max_iter) or scale the data as shown in:\n",
      "    https://scikit-learn.org/stable/modules/preprocessing.html\n",
      "Please also refer to the documentation for alternative solver options:\n",
      "    https://scikit-learn.org/stable/modules/linear_model.html#logistic-regression\n",
      "  extra_warning_msg=_LOGISTIC_SOLVER_CONVERGENCE_MSG)\n"
     ]
    },
    {
     "data": {
      "text/plain": [
       "LogisticRegression(C=1.0, class_weight=None, dual=False, fit_intercept=True,\n",
       "                   intercept_scaling=1, l1_ratio=None, max_iter=100,\n",
       "                   multi_class='auto', n_jobs=None, penalty='l2',\n",
       "                   random_state=None, solver='lbfgs', tol=0.0001, verbose=0,\n",
       "                   warm_start=False)"
      ]
     },
     "execution_count": 18,
     "metadata": {},
     "output_type": "execute_result"
    }
   ],
   "source": [
    "## The new fitted logistic regression model with selected variables\n",
    "import statsmodels.api as sm\n",
    "mlog_reg = sm.Logit(my_train, mx_train)\n",
    "mlog_reg = mlog_reg.fit()\n",
    "\n",
    "mlog_reg1 = LogisticRegression()\n",
    "mlog_reg1.fit(mx_train_minmax, my_train)"
   ]
  },
  {
   "cell_type": "code",
   "execution_count": 19,
   "metadata": {},
   "outputs": [
    {
     "name": "stdout",
     "output_type": "stream",
     "text": [
      "                           Logit Regression Results                           \n",
      "==============================================================================\n",
      "Dep. Variable:              PatStatus   No. Observations:                12479\n",
      "Model:                          Logit   Df Residuals:                    12463\n",
      "Method:                           MLE   Df Model:                           15\n",
      "Date:                Thu, 16 Jul 2020   Pseudo R-squ.:                  0.3625\n",
      "Time:                        11:02:20   Log-Likelihood:                -5118.7\n",
      "converged:                       True   LL-Null:                       -8029.1\n",
      "Covariance Type:            nonrobust   LLR p-value:                     0.000\n",
      "===============================================================================\n",
      "                  coef    std err          z      P>|z|      [0.025      0.975]\n",
      "-------------------------------------------------------------------------------\n",
      "Gender          3.2186      1.137      2.832      0.005       0.991       5.446\n",
      "Grade           0.1079      0.035      3.086      0.002       0.039       0.176\n",
      "No.Visits      -0.0300      0.009     -3.302      0.001      -0.048      -0.012\n",
      "Lstay          -0.1381      0.012    -11.135      0.000      -0.162      -0.114\n",
      "FamHist        -4.7898      1.066     -4.493      0.000      -6.879      -2.700\n",
      "PrioBSurgy     -0.3844      0.133     -2.888      0.004      -0.645      -0.124\n",
      "Suture          0.1390      0.062      2.251      0.024       0.018       0.260\n",
      " Density        0.2094      0.065      3.204      0.001       0.081       0.338\n",
      "NipRet          0.8124      0.149      5.441      0.000       0.520       1.105\n",
      "LyNode          2.6812      0.220     12.215      0.000       2.251       3.111\n",
      "Amorph          1.3794      0.173      7.975      0.000       1.040       1.718\n",
      " Size           0.5364      0.069      7.803      0.000       0.402       0.671\n",
      "Milk           -0.9406      0.185     -5.089      0.000      -1.303      -0.578\n",
      "Lucent          0.7765      0.159      4.895      0.000       0.466       1.087\n",
      "Dermal          0.1519      0.059      2.560      0.010       0.036       0.268\n",
      "SkinnLesson    -2.7614      0.069    -40.273      0.000      -2.896      -2.627\n",
      "===============================================================================\n"
     ]
    }
   ],
   "source": [
    "print(mlog_reg.summary())"
   ]
  },
  {
   "cell_type": "code",
   "execution_count": 20,
   "metadata": {},
   "outputs": [
    {
     "name": "stdout",
     "output_type": "stream",
     "text": [
      "Accuracy 0.8233974358974359\n"
     ]
    }
   ],
   "source": [
    "## Score of the model giving the accuracy of the model\n",
    "print(\"Accuracy\", (mlog_reg1.score(mx_test_minmax, my_test)))"
   ]
  },
  {
   "cell_type": "code",
   "execution_count": 21,
   "metadata": {},
   "outputs": [],
   "source": [
    "### PREDICTION ON THE TEST DATASET"
   ]
  },
  {
   "cell_type": "code",
   "execution_count": 22,
   "metadata": {},
   "outputs": [],
   "source": [
    "### Getting the prediction for the Testing dataset\n",
    "from sklearn.datasets import make_classification\n",
    "from sklearn.metrics import confusion_matrix, roc_curve, roc_auc_score, plot_roc_curve\n",
    "from sklearn.model_selection import cross_val_score, cross_validate\n",
    "\n",
    "mx_train = mx_train_minmax\n",
    "mx_test = mx_test_minmax "
   ]
  },
  {
   "cell_type": "code",
   "execution_count": 23,
   "metadata": {},
   "outputs": [],
   "source": [
    "tns_probs=[0 for _ in range(len(my_test))]\n",
    "my_predict = mlog_reg1.predict(mx_test)"
   ]
  },
  {
   "cell_type": "code",
   "execution_count": 24,
   "metadata": {},
   "outputs": [],
   "source": [
    "## Keeping the probabilities for Testing outcomes\n",
    "my_pred = mlog_reg1.predict_proba(mx_test)\n",
    "my_pred = my_pred[:, 1]"
   ]
  },
  {
   "cell_type": "code",
   "execution_count": 25,
   "metadata": {},
   "outputs": [
    {
     "data": {
      "image/png": "[encoded data removed]",
      "text/plain": [
       "<Figure size 576x576 with 1 Axes>"
      ]
     },
     "metadata": {
      "needs_background": "light"
     },
     "output_type": "display_data"
    }
   ],
   "source": [
    " ## confusion matrix\n",
    "mtest_cm = confusion_matrix(my_test, np.round(my_predict))\n",
    "fig, ax = plt.subplots(figsize = (8, 8))\n",
    "ax.imshow(mtest_cm)\n",
    "ax.grid(False)\n",
    "ax.xaxis.set(ticks=(0,1), ticklabels=('Actual 1s', 'Actual 0s'))\n",
    "ax.yaxis.set(ticks=(0,1), ticklabels=('predicted 1s', 'predicted 0s'))\n",
    "ax.set_ylim(1.5, -0.5)\n",
    "for i in range(2):\n",
    "    for j in range(2):\n",
    "        ax.text(j, i, mtest_cm[i, j], ha= 'center', va= 'center', color= 'black')\n",
    "plt.show()"
   ]
  },
  {
   "cell_type": "code",
   "execution_count": 26,
   "metadata": {},
   "outputs": [
    {
     "name": "stdout",
     "output_type": "stream",
     "text": [
      "0.1766025641025641\n"
     ]
    }
   ],
   "source": [
    " ## Error for the prediction for test dataset outcomes\n",
    "mtest_error = (mtest_cm[0,1] + mtest_cm[1,0])/np.sum(mtest_cm)\n",
    "print(mtest_error)"
   ]
  },
  {
   "cell_type": "code",
   "execution_count": 27,
   "metadata": {},
   "outputs": [
    {
     "data": {
      "text/plain": [
       "0.8233974358974359"
      ]
     },
     "execution_count": 27,
     "metadata": {},
     "output_type": "execute_result"
    }
   ],
   "source": [
    "## Accuracy of prediction\n",
    "1-mtest_error"
   ]
  },
  {
   "cell_type": "code",
   "execution_count": 28,
   "metadata": {},
   "outputs": [
    {
     "name": "stdout",
     "output_type": "stream",
     "text": [
      "0.9195979899497487\n"
     ]
    }
   ],
   "source": [
    "## Sensitivity Analysis\n",
    "mtest_sens = mtest_cm[1, 1]/(mtest_cm[1, 1] + mtest_cm[0, 1])\n",
    "print(mtest_sens)"
   ]
  },
  {
   "cell_type": "code",
   "execution_count": 29,
   "metadata": {},
   "outputs": [
    {
     "name": "stdout",
     "output_type": "stream",
     "text": [
      "0.6937547027840482\n"
     ]
    }
   ],
   "source": [
    " ## Specificity Analysis\n",
    "mtest_spec = mtest_cm[0, 0]/(mtest_cm[0, 0] + mtest_cm[1, 0])\n",
    "print(mtest_spec)"
   ]
  },
  {
   "cell_type": "code",
   "execution_count": 30,
   "metadata": {},
   "outputs": [
    {
     "name": "stdout",
     "output_type": "stream",
     "text": [
      "0.8018500486854917\n"
     ]
    }
   ],
   "source": [
    " ## PPV Analysis\n",
    "mtest_npv = mtest_cm[1, 1]/(mtest_cm[1, 1] + mtest_cm[1, 0])\n",
    "print(mtest_npv)"
   ]
  },
  {
   "cell_type": "code",
   "execution_count": 31,
   "metadata": {},
   "outputs": [
    {
     "name": "stdout",
     "output_type": "stream",
     "text": [
      "0.8649155722326454\n"
     ]
    }
   ],
   "source": [
    "## NPV Analysis\n",
    "mtest_npv = mtest_cm[0, 0]/(mtest_cm[0, 0] + mtest_cm[0, 1])\n",
    "print(mtest_npv)"
   ]
  },
  {
   "cell_type": "code",
   "execution_count": 32,
   "metadata": {},
   "outputs": [],
   "source": [
    "## The AUC Score\n",
    "mtest_auc = roc_auc_score(my_test, tns_probs)\n",
    "my_pred_auc = np.round(roc_auc_score(my_test, my_pred), decimals = 2)"
   ]
  },
  {
   "cell_type": "code",
   "execution_count": 33,
   "metadata": {},
   "outputs": [
    {
     "name": "stdout",
     "output_type": "stream",
     "text": [
      "0.5\n"
     ]
    }
   ],
   "source": [
    " print(mtest_auc)"
   ]
  },
  {
   "cell_type": "code",
   "execution_count": 34,
   "metadata": {},
   "outputs": [
    {
     "name": "stdout",
     "output_type": "stream",
     "text": [
      "0.87\n"
     ]
    }
   ],
   "source": [
    "print(np.round(my_pred_auc, decimals = 2))"
   ]
  },
  {
   "cell_type": "code",
   "execution_count": 35,
   "metadata": {},
   "outputs": [],
   "source": [
    "## calculate ROC Curves\n",
    "mtest_fpr, mtest_tpr, _ = roc_curve(my_test, tns_probs)\n",
    "my_pred_fpr, my_pred_tpr, _ = roc_curve(my_test, my_pred)"
   ]
  },
  {
   "cell_type": "code",
   "execution_count": 37,
   "metadata": {},
   "outputs": [
    {
     "data": {
      "text/plain": [
       "<matplotlib.legend.Legend at 0x188f82b6e48>"
      ]
     },
     "execution_count": 37,
     "metadata": {},
     "output_type": "execute_result"
    },
    {
     "data": {
      "image/png": "[encoded data removed]",
      "text/plain": [
       "<Figure size 432x288 with 1 Axes>"
      ]
     },
     "metadata": {
      "needs_background": "light"
     },
     "output_type": "display_data"
    }
   ],
   "source": [
    "## Plot Curve for the model\n",
    "import numpy as np\n",
    "import matplotlib.pyplot as plt\n",
    "\n",
    "plt.plot(mtest_fpr, mtest_tpr, linestyle = '--', label = 'Patients Last Status')\n",
    "plt.plot(my_pred_fpr, my_pred_tpr, marker = '.', label = 'Males')\n",
    "plt.text(0.7, 0.2, \"AUC = \" + str(my_pred_auc), fontsize = 14)\n",
    "## Axis lable\n",
    "plt.xlabel(\"False Positve Rate\")\n",
    "plt.ylabel(\"True Positive Rate\")\n",
    "## Show Legend\n",
    "plt.legend()"
   ]
  },
  {
   "cell_type": "code",
   "execution_count": null,
   "metadata": {},
   "outputs": [],
   "source": []
  },
  {
   "cell_type": "code",
   "execution_count": null,
   "metadata": {},
   "outputs": [],
   "source": []
  },
  {
   "cell_type": "code",
   "execution_count": null,
   "metadata": {},
   "outputs": [],
   "source": []
  },
  {
   "cell_type": "code",
   "execution_count": 1,
   "metadata": {},
   "outputs": [],
   "source": [
    "## CONSIDERING THE FEMALE DATA\n",
    "## The new fitted logistic regression model with selected variables\n",
    "## Modules required\n",
    "import pandas as pd\n",
    "import numpy as np\n",
    "import matplotlib.pyplot as plt\n",
    "%matplotlib inline\n",
    "BC = (pd.read_excel('cancer.xlsx'))\n",
    "BCF=BC[BC.Gender==0]\n",
    "\n",
    "fy=BCF.PatStatus\n",
    "fx=BCF.drop(['PatStatus','PAT_ID', 'Gender'],axis=1)\n"
   ]
  },
  {
   "cell_type": "code",
   "execution_count": 2,
   "metadata": {},
   "outputs": [],
   "source": [
    "#Import 'train_test_split' from 'sklearn.model_selection'\n",
    "from sklearn.model_selection import train_test_split\n",
    "\n",
    "#Import numpy#\n",
    "import numpy as np\n",
    "#Split the Male data into train and test sets #\n",
    "fx_train, fx_test, fy_train, fy_test=train_test_split(fx,fy, test_size=0.2, random_state=125)\n"
   ]
  },
  {
   "cell_type": "code",
   "execution_count": 3,
   "metadata": {},
   "outputs": [],
   "source": [
    "# Scaling the data\n",
    "from sklearn.preprocessing import MinMaxScaler\n",
    "from sklearn import preprocessing\n",
    "import numpy as np\n",
    "\n",
    "min_max_scaler = preprocessing.MinMaxScaler()\n",
    "fx_train_minmax = min_max_scaler.fit_transform(fx_train)\n",
    "fx_test_minmax = min_max_scaler.fit_transform(fx_test)\n"
   ]
  },
  {
   "cell_type": "code",
   "execution_count": 4,
   "metadata": {},
   "outputs": [],
   "source": [
    " ## FITTING LOGISTIC REGRESSION FOR FEMALE DATA\n",
    "from scipy.stats import norm\n",
    "from scipy import stats\n",
    "import statsmodels.api as sm\n",
    "from sklearn import datasets, linear_model\n",
    "from statsmodels.stats import diagnostic as diag\n",
    "from statsmodels.stats.outliers_influence import variance_inflation_factor\n",
    "from sklearn.linear_model import LogisticRegression\n",
    "%matplotlib inline\n",
    "\n",
    "from sklearn.datasets import make_classification\n",
    "from sklearn.metrics import confusion_matrix, roc_curve, roc_auc_score, plot_roc_curve\n",
    "from sklearn.model_selection import cross_val_score, cross_validate"
   ]
  },
  {
   "cell_type": "code",
   "execution_count": 5,
   "metadata": {},
   "outputs": [
    {
     "name": "stdout",
     "output_type": "stream",
     "text": [
      "Optimization terminated successfully.\n",
      "         Current function value: 0.433132\n",
      "         Iterations 7\n"
     ]
    }
   ],
   "source": [
    "flog_reg = sm.Logit(fy_train, fx_train)\n",
    "flog_reg = flog_reg.fit()"
   ]
  },
  {
   "cell_type": "code",
   "execution_count": 6,
   "metadata": {},
   "outputs": [
    {
     "name": "stdout",
     "output_type": "stream",
     "text": [
      "                           Logit Regression Results                           \n",
      "==============================================================================\n",
      "Dep. Variable:              PatStatus   No. Observations:                67522\n",
      "Model:                          Logit   Df Residuals:                    67499\n",
      "Method:                           MLE   Df Model:                           22\n",
      "Date:                Thu, 16 Jul 2020   Pseudo R-squ.:                  0.3749\n",
      "Time:                        12:56:46   Log-Likelihood:                -29246.\n",
      "converged:                       True   LL-Null:                       -46789.\n",
      "Covariance Type:            nonrobust   LLR p-value:                     0.000\n",
      "===============================================================================\n",
      "                  coef    std err          z      P>|z|      [0.025      0.975]\n",
      "-------------------------------------------------------------------------------\n",
      "Race            0.0059      0.001      9.034      0.000       0.005       0.007\n",
      "MarST           0.0730      0.021      3.523      0.000       0.032       0.114\n",
      "AgeDiag         0.0078      0.001     11.084      0.000       0.006       0.009\n",
      "Grade          -0.0393      0.014     -2.863      0.004      -0.066      -0.012\n",
      "Stability       0.1699      0.039      4.314      0.000       0.093       0.247\n",
      "No.Visits       0.0507      0.003     17.406      0.000       0.045       0.056\n",
      "Lstay          -0.1656      0.004    -45.392      0.000      -0.173      -0.158\n",
      "Laterality     -0.0942      0.004    -23.309      0.000      -0.102      -0.086\n",
      "FamHist        -3.2622      0.064    -50.609      0.000      -3.388      -3.136\n",
      "PrioBSurgy     -0.2662      0.026    -10.256      0.000      -0.317      -0.215\n",
      "Suture         -0.0323      0.024     -1.321      0.187      -0.080       0.016\n",
      " Density        0.1879      0.015     12.304      0.000       0.158       0.218\n",
      "NipRet          2.2790      0.035     64.601      0.000       2.210       2.348\n",
      "LyNode          0.1978      0.031      6.426      0.000       0.137       0.258\n",
      "Amorph         -0.1152      0.033     -3.479      0.001      -0.180      -0.050\n",
      " Size          -0.2425      0.016    -14.893      0.000      -0.274      -0.211\n",
      "Eggshell       -0.5637      0.027    -20.885      0.000      -0.617      -0.511\n",
      "Milk            0.9166      0.026     35.257      0.000       0.866       0.968\n",
      "AxiAden         1.2250      0.023     52.419      0.000       1.179       1.271\n",
      "Distroph       -0.6857      0.040    -17.217      0.000      -0.764      -0.608\n",
      "Lucent          2.0236      0.040     51.090      0.000       1.946       2.101\n",
      "Dermal         -0.0202      0.026     -0.775      0.438      -0.071       0.031\n",
      "SkinnLesson    -1.4800      0.022    -66.078      0.000      -1.524      -1.436\n",
      "===============================================================================\n"
     ]
    }
   ],
   "source": [
    "print(flog_reg.summary())"
   ]
  },
  {
   "cell_type": "code",
   "execution_count": 7,
   "metadata": {},
   "outputs": [],
   "source": [
    "### The new fitted logistic regression model with selected variables\n",
    "## Modules required\n",
    "import pandas as pd\n",
    "import numpy as np\n",
    "import matplotlib.pyplot as plt\n",
    "%matplotlib inline\n",
    "BC = (pd.read_excel('cancer.xlsx'))\n",
    "BCF=BC[BC.Gender==0]\n",
    "\n",
    "fy=BCF.PatStatus\n",
    "fx=BCF.drop(['PatStatus','PAT_ID', 'Gender','Suture','Dermal'],axis=1)"
   ]
  },
  {
   "cell_type": "code",
   "execution_count": 8,
   "metadata": {},
   "outputs": [],
   "source": [
    "#Import 'train_test_split' from 'sklearn.model_selection'\n",
    "from sklearn.model_selection import train_test_split\n",
    "\n",
    "#Import numpy#\n",
    "import numpy as np\n",
    "#Split the Male data into train and test sets #\n",
    "fx_train, fx_test, fy_train, fy_test=train_test_split(fx,fy, test_size=0.2, random_state=125)\n"
   ]
  },
  {
   "cell_type": "code",
   "execution_count": 9,
   "metadata": {},
   "outputs": [
    {
     "data": {
      "text/html": [
       "<div>\n",
       "<style scoped>\n",
       "    .dataframe tbody tr th:only-of-type {\n",
       "        vertical-align: middle;\n",
       "    }\n",
       "\n",
       "    .dataframe tbody tr th {\n",
       "        vertical-align: top;\n",
       "    }\n",
       "\n",
       "    .dataframe thead th {\n",
       "        text-align: right;\n",
       "    }\n",
       "</style>\n",
       "<table border=\"1\" class=\"dataframe\">\n",
       "  <thead>\n",
       "    <tr style=\"text-align: right;\">\n",
       "      <th></th>\n",
       "      <th>Race</th>\n",
       "      <th>MarST</th>\n",
       "      <th>AgeDiag</th>\n",
       "      <th>Grade</th>\n",
       "      <th>Stability</th>\n",
       "      <th>No.Visits</th>\n",
       "      <th>Lstay</th>\n",
       "      <th>Laterality</th>\n",
       "      <th>FamHist</th>\n",
       "      <th>PrioBSurgy</th>\n",
       "      <th>...</th>\n",
       "      <th>NipRet</th>\n",
       "      <th>LyNode</th>\n",
       "      <th>Amorph</th>\n",
       "      <th>Size</th>\n",
       "      <th>Eggshell</th>\n",
       "      <th>Milk</th>\n",
       "      <th>AxiAden</th>\n",
       "      <th>Distroph</th>\n",
       "      <th>Lucent</th>\n",
       "      <th>SkinnLesson</th>\n",
       "    </tr>\n",
       "  </thead>\n",
       "  <tbody>\n",
       "    <tr>\n",
       "      <th>88023</th>\n",
       "      <td>1</td>\n",
       "      <td>0</td>\n",
       "      <td>42</td>\n",
       "      <td>3</td>\n",
       "      <td>0</td>\n",
       "      <td>9</td>\n",
       "      <td>15</td>\n",
       "      <td>4</td>\n",
       "      <td>1</td>\n",
       "      <td>1</td>\n",
       "      <td>...</td>\n",
       "      <td>1</td>\n",
       "      <td>0</td>\n",
       "      <td>1</td>\n",
       "      <td>2</td>\n",
       "      <td>1</td>\n",
       "      <td>0</td>\n",
       "      <td>1</td>\n",
       "      <td>0</td>\n",
       "      <td>1</td>\n",
       "      <td>0</td>\n",
       "    </tr>\n",
       "    <tr>\n",
       "      <th>92578</th>\n",
       "      <td>1</td>\n",
       "      <td>0</td>\n",
       "      <td>66</td>\n",
       "      <td>1</td>\n",
       "      <td>0</td>\n",
       "      <td>8</td>\n",
       "      <td>8</td>\n",
       "      <td>3</td>\n",
       "      <td>1</td>\n",
       "      <td>1</td>\n",
       "      <td>...</td>\n",
       "      <td>0</td>\n",
       "      <td>0</td>\n",
       "      <td>1</td>\n",
       "      <td>2</td>\n",
       "      <td>0</td>\n",
       "      <td>1</td>\n",
       "      <td>1</td>\n",
       "      <td>0</td>\n",
       "      <td>1</td>\n",
       "      <td>1</td>\n",
       "    </tr>\n",
       "    <tr>\n",
       "      <th>75760</th>\n",
       "      <td>1</td>\n",
       "      <td>1</td>\n",
       "      <td>61</td>\n",
       "      <td>3</td>\n",
       "      <td>0</td>\n",
       "      <td>9</td>\n",
       "      <td>9</td>\n",
       "      <td>5</td>\n",
       "      <td>1</td>\n",
       "      <td>1</td>\n",
       "      <td>...</td>\n",
       "      <td>0</td>\n",
       "      <td>0</td>\n",
       "      <td>0</td>\n",
       "      <td>2</td>\n",
       "      <td>1</td>\n",
       "      <td>1</td>\n",
       "      <td>0</td>\n",
       "      <td>1</td>\n",
       "      <td>2</td>\n",
       "      <td>0</td>\n",
       "    </tr>\n",
       "    <tr>\n",
       "      <th>51727</th>\n",
       "      <td>1</td>\n",
       "      <td>1</td>\n",
       "      <td>50</td>\n",
       "      <td>1</td>\n",
       "      <td>0</td>\n",
       "      <td>15</td>\n",
       "      <td>10</td>\n",
       "      <td>4</td>\n",
       "      <td>1</td>\n",
       "      <td>1</td>\n",
       "      <td>...</td>\n",
       "      <td>1</td>\n",
       "      <td>0</td>\n",
       "      <td>1</td>\n",
       "      <td>4</td>\n",
       "      <td>1</td>\n",
       "      <td>0</td>\n",
       "      <td>0</td>\n",
       "      <td>0</td>\n",
       "      <td>1</td>\n",
       "      <td>0</td>\n",
       "    </tr>\n",
       "    <tr>\n",
       "      <th>3377</th>\n",
       "      <td>1</td>\n",
       "      <td>1</td>\n",
       "      <td>78</td>\n",
       "      <td>2</td>\n",
       "      <td>1</td>\n",
       "      <td>5</td>\n",
       "      <td>2</td>\n",
       "      <td>8</td>\n",
       "      <td>1</td>\n",
       "      <td>1</td>\n",
       "      <td>...</td>\n",
       "      <td>1</td>\n",
       "      <td>1</td>\n",
       "      <td>0</td>\n",
       "      <td>1</td>\n",
       "      <td>1</td>\n",
       "      <td>0</td>\n",
       "      <td>1</td>\n",
       "      <td>0</td>\n",
       "      <td>2</td>\n",
       "      <td>0</td>\n",
       "    </tr>\n",
       "  </tbody>\n",
       "</table>\n",
       "<p>5 rows × 21 columns</p>\n",
       "</div>"
      ],
      "text/plain": [
       "       Race  MarST  AgeDiag  Grade  Stability  No.Visits  Lstay  Laterality  \\\n",
       "88023     1      0       42      3          0          9     15           4   \n",
       "92578     1      0       66      1          0          8      8           3   \n",
       "75760     1      1       61      3          0          9      9           5   \n",
       "51727     1      1       50      1          0         15     10           4   \n",
       "3377      1      1       78      2          1          5      2           8   \n",
       "\n",
       "       FamHist  PrioBSurgy  ...  NipRet  LyNode  Amorph   Size  Eggshell  \\\n",
       "88023        1           1  ...       1       0       1      2         1   \n",
       "92578        1           1  ...       0       0       1      2         0   \n",
       "75760        1           1  ...       0       0       0      2         1   \n",
       "51727        1           1  ...       1       0       1      4         1   \n",
       "3377         1           1  ...       1       1       0      1         1   \n",
       "\n",
       "       Milk  AxiAden  Distroph  Lucent  SkinnLesson  \n",
       "88023     0        1         0       1            0  \n",
       "92578     1        1         0       1            1  \n",
       "75760     1        0         1       2            0  \n",
       "51727     0        0         0       1            0  \n",
       "3377      0        1         0       2            0  \n",
       "\n",
       "[5 rows x 21 columns]"
      ]
     },
     "execution_count": 9,
     "metadata": {},
     "output_type": "execute_result"
    }
   ],
   "source": [
    "fx_train.head()"
   ]
  },
  {
   "cell_type": "code",
   "execution_count": 10,
   "metadata": {},
   "outputs": [
    {
     "data": {
      "text/html": [
       "<div>\n",
       "<style scoped>\n",
       "    .dataframe tbody tr th:only-of-type {\n",
       "        vertical-align: middle;\n",
       "    }\n",
       "\n",
       "    .dataframe tbody tr th {\n",
       "        vertical-align: top;\n",
       "    }\n",
       "\n",
       "    .dataframe thead th {\n",
       "        text-align: right;\n",
       "    }\n",
       "</style>\n",
       "<table border=\"1\" class=\"dataframe\">\n",
       "  <thead>\n",
       "    <tr style=\"text-align: right;\">\n",
       "      <th></th>\n",
       "      <th>Race</th>\n",
       "      <th>MarST</th>\n",
       "      <th>AgeDiag</th>\n",
       "      <th>Grade</th>\n",
       "      <th>Stability</th>\n",
       "      <th>No.Visits</th>\n",
       "      <th>Lstay</th>\n",
       "      <th>Laterality</th>\n",
       "      <th>FamHist</th>\n",
       "      <th>PrioBSurgy</th>\n",
       "      <th>...</th>\n",
       "      <th>NipRet</th>\n",
       "      <th>LyNode</th>\n",
       "      <th>Amorph</th>\n",
       "      <th>Size</th>\n",
       "      <th>Eggshell</th>\n",
       "      <th>Milk</th>\n",
       "      <th>AxiAden</th>\n",
       "      <th>Distroph</th>\n",
       "      <th>Lucent</th>\n",
       "      <th>SkinnLesson</th>\n",
       "    </tr>\n",
       "  </thead>\n",
       "  <tbody>\n",
       "    <tr>\n",
       "      <th>41774</th>\n",
       "      <td>1</td>\n",
       "      <td>1</td>\n",
       "      <td>67</td>\n",
       "      <td>2</td>\n",
       "      <td>0</td>\n",
       "      <td>16</td>\n",
       "      <td>9</td>\n",
       "      <td>2</td>\n",
       "      <td>1</td>\n",
       "      <td>0</td>\n",
       "      <td>...</td>\n",
       "      <td>1</td>\n",
       "      <td>1</td>\n",
       "      <td>0</td>\n",
       "      <td>2</td>\n",
       "      <td>1</td>\n",
       "      <td>1</td>\n",
       "      <td>1</td>\n",
       "      <td>0</td>\n",
       "      <td>1</td>\n",
       "      <td>1</td>\n",
       "    </tr>\n",
       "    <tr>\n",
       "      <th>84188</th>\n",
       "      <td>16</td>\n",
       "      <td>1</td>\n",
       "      <td>41</td>\n",
       "      <td>3</td>\n",
       "      <td>0</td>\n",
       "      <td>8</td>\n",
       "      <td>8</td>\n",
       "      <td>8</td>\n",
       "      <td>1</td>\n",
       "      <td>1</td>\n",
       "      <td>...</td>\n",
       "      <td>1</td>\n",
       "      <td>0</td>\n",
       "      <td>1</td>\n",
       "      <td>2</td>\n",
       "      <td>1</td>\n",
       "      <td>0</td>\n",
       "      <td>1</td>\n",
       "      <td>1</td>\n",
       "      <td>2</td>\n",
       "      <td>0</td>\n",
       "    </tr>\n",
       "    <tr>\n",
       "      <th>55207</th>\n",
       "      <td>1</td>\n",
       "      <td>1</td>\n",
       "      <td>50</td>\n",
       "      <td>1</td>\n",
       "      <td>0</td>\n",
       "      <td>6</td>\n",
       "      <td>10</td>\n",
       "      <td>9</td>\n",
       "      <td>1</td>\n",
       "      <td>0</td>\n",
       "      <td>...</td>\n",
       "      <td>0</td>\n",
       "      <td>1</td>\n",
       "      <td>1</td>\n",
       "      <td>3</td>\n",
       "      <td>1</td>\n",
       "      <td>0</td>\n",
       "      <td>0</td>\n",
       "      <td>1</td>\n",
       "      <td>2</td>\n",
       "      <td>0</td>\n",
       "    </tr>\n",
       "    <tr>\n",
       "      <th>51157</th>\n",
       "      <td>1</td>\n",
       "      <td>1</td>\n",
       "      <td>78</td>\n",
       "      <td>3</td>\n",
       "      <td>0</td>\n",
       "      <td>1</td>\n",
       "      <td>10</td>\n",
       "      <td>9</td>\n",
       "      <td>1</td>\n",
       "      <td>1</td>\n",
       "      <td>...</td>\n",
       "      <td>1</td>\n",
       "      <td>1</td>\n",
       "      <td>1</td>\n",
       "      <td>3</td>\n",
       "      <td>1</td>\n",
       "      <td>1</td>\n",
       "      <td>1</td>\n",
       "      <td>0</td>\n",
       "      <td>1</td>\n",
       "      <td>1</td>\n",
       "    </tr>\n",
       "    <tr>\n",
       "      <th>99358</th>\n",
       "      <td>1</td>\n",
       "      <td>1</td>\n",
       "      <td>77</td>\n",
       "      <td>2</td>\n",
       "      <td>0</td>\n",
       "      <td>10</td>\n",
       "      <td>12</td>\n",
       "      <td>3</td>\n",
       "      <td>1</td>\n",
       "      <td>0</td>\n",
       "      <td>...</td>\n",
       "      <td>1</td>\n",
       "      <td>1</td>\n",
       "      <td>0</td>\n",
       "      <td>2</td>\n",
       "      <td>0</td>\n",
       "      <td>1</td>\n",
       "      <td>1</td>\n",
       "      <td>0</td>\n",
       "      <td>1</td>\n",
       "      <td>1</td>\n",
       "    </tr>\n",
       "  </tbody>\n",
       "</table>\n",
       "<p>5 rows × 21 columns</p>\n",
       "</div>"
      ],
      "text/plain": [
       "       Race  MarST  AgeDiag  Grade  Stability  No.Visits  Lstay  Laterality  \\\n",
       "41774     1      1       67      2          0         16      9           2   \n",
       "84188    16      1       41      3          0          8      8           8   \n",
       "55207     1      1       50      1          0          6     10           9   \n",
       "51157     1      1       78      3          0          1     10           9   \n",
       "99358     1      1       77      2          0         10     12           3   \n",
       "\n",
       "       FamHist  PrioBSurgy  ...  NipRet  LyNode  Amorph   Size  Eggshell  \\\n",
       "41774        1           0  ...       1       1       0      2         1   \n",
       "84188        1           1  ...       1       0       1      2         1   \n",
       "55207        1           0  ...       0       1       1      3         1   \n",
       "51157        1           1  ...       1       1       1      3         1   \n",
       "99358        1           0  ...       1       1       0      2         0   \n",
       "\n",
       "       Milk  AxiAden  Distroph  Lucent  SkinnLesson  \n",
       "41774     1        1         0       1            1  \n",
       "84188     0        1         1       2            0  \n",
       "55207     0        0         1       2            0  \n",
       "51157     1        1         0       1            1  \n",
       "99358     1        1         0       1            1  \n",
       "\n",
       "[5 rows x 21 columns]"
      ]
     },
     "execution_count": 10,
     "metadata": {},
     "output_type": "execute_result"
    }
   ],
   "source": [
    "fx_test.head()"
   ]
  },
  {
   "cell_type": "code",
   "execution_count": 11,
   "metadata": {},
   "outputs": [
    {
     "data": {
      "text/plain": [
       "(67522, 21)"
      ]
     },
     "execution_count": 11,
     "metadata": {},
     "output_type": "execute_result"
    }
   ],
   "source": [
    "fx_train.shape"
   ]
  },
  {
   "cell_type": "code",
   "execution_count": 12,
   "metadata": {},
   "outputs": [
    {
     "data": {
      "text/plain": [
       "(16881, 21)"
      ]
     },
     "execution_count": 12,
     "metadata": {},
     "output_type": "execute_result"
    }
   ],
   "source": [
    "fx_test.shape"
   ]
  },
  {
   "cell_type": "code",
   "execution_count": 13,
   "metadata": {},
   "outputs": [],
   "source": [
    "# Scaling the data\n",
    "from sklearn.preprocessing import MinMaxScaler\n",
    "from sklearn import preprocessing\n",
    "import numpy as np\n",
    "\n",
    "min_max_scaler = preprocessing.MinMaxScaler()\n",
    "fx_train_minmax = min_max_scaler.fit_transform(fx_train)\n",
    "fx_test_minmax = min_max_scaler.fit_transform(fx_test)\n"
   ]
  },
  {
   "cell_type": "code",
   "execution_count": 14,
   "metadata": {},
   "outputs": [],
   "source": [
    " ## FITTING LOGISTIC REGRESSION FOR FEMALE DATA\n",
    "from scipy.stats import norm\n",
    "from scipy import stats\n",
    "import statsmodels.api as sm\n",
    "from sklearn import datasets, linear_model\n",
    "from statsmodels.stats import diagnostic as diag\n",
    "from statsmodels.stats.outliers_influence import variance_inflation_factor\n",
    "from sklearn.linear_model import LogisticRegression\n",
    "%matplotlib inline\n",
    "\n",
    "from sklearn.datasets import make_classification\n",
    "from sklearn.metrics import confusion_matrix, roc_curve, roc_auc_score, plot_roc_curve\n",
    "from sklearn.model_selection import cross_val_score, cross_validate"
   ]
  },
  {
   "cell_type": "code",
   "execution_count": 15,
   "metadata": {},
   "outputs": [
    {
     "name": "stdout",
     "output_type": "stream",
     "text": [
      "Optimization terminated successfully.\n",
      "         Current function value: 0.433149\n",
      "         Iterations 7\n"
     ]
    },
    {
     "name": "stderr",
     "output_type": "stream",
     "text": [
      "C:\\Users\\eagye\\anaconda1\\lib\\site-packages\\sklearn\\linear_model\\_logistic.py:940: ConvergenceWarning: lbfgs failed to converge (status=1):\n",
      "STOP: TOTAL NO. of ITERATIONS REACHED LIMIT.\n",
      "\n",
      "Increase the number of iterations (max_iter) or scale the data as shown in:\n",
      "    https://scikit-learn.org/stable/modules/preprocessing.html\n",
      "Please also refer to the documentation for alternative solver options:\n",
      "    https://scikit-learn.org/stable/modules/linear_model.html#logistic-regression\n",
      "  extra_warning_msg=_LOGISTIC_SOLVER_CONVERGENCE_MSG)\n"
     ]
    },
    {
     "data": {
      "text/plain": [
       "LogisticRegression(C=1.0, class_weight=None, dual=False, fit_intercept=True,\n",
       "                   intercept_scaling=1, l1_ratio=None, max_iter=100,\n",
       "                   multi_class='auto', n_jobs=None, penalty='l2',\n",
       "                   random_state=None, solver='lbfgs', tol=0.0001, verbose=0,\n",
       "                   warm_start=False)"
      ]
     },
     "execution_count": 15,
     "metadata": {},
     "output_type": "execute_result"
    }
   ],
   "source": [
    "flog_reg = sm.Logit(fy_train, fx_train)\n",
    "flog_reg = flog_reg.fit()\n",
    "\n",
    "flog_reg1 = LogisticRegression()\n",
    "flog_reg1.fit(fx_train, fy_train)"
   ]
  },
  {
   "cell_type": "code",
   "execution_count": 16,
   "metadata": {},
   "outputs": [
    {
     "name": "stdout",
     "output_type": "stream",
     "text": [
      "                           Logit Regression Results                           \n",
      "==============================================================================\n",
      "Dep. Variable:              PatStatus   No. Observations:                67522\n",
      "Model:                          Logit   Df Residuals:                    67501\n",
      "Method:                           MLE   Df Model:                           20\n",
      "Date:                Thu, 16 Jul 2020   Pseudo R-squ.:                  0.3749\n",
      "Time:                        12:59:29   Log-Likelihood:                -29247.\n",
      "converged:                       True   LL-Null:                       -46789.\n",
      "Covariance Type:            nonrobust   LLR p-value:                     0.000\n",
      "===============================================================================\n",
      "                  coef    std err          z      P>|z|      [0.025      0.975]\n",
      "-------------------------------------------------------------------------------\n",
      "Race            0.0059      0.001      9.026      0.000       0.005       0.007\n",
      "MarST           0.0728      0.021      3.513      0.000       0.032       0.113\n",
      "AgeDiag         0.0078      0.001     11.070      0.000       0.006       0.009\n",
      "Grade          -0.0393      0.014     -2.862      0.004      -0.066      -0.012\n",
      "Stability       0.1703      0.039      4.325      0.000       0.093       0.247\n",
      "No.Visits       0.0504      0.003     17.358      0.000       0.045       0.056\n",
      "Lstay          -0.1658      0.004    -45.434      0.000      -0.173      -0.159\n",
      "Laterality     -0.0941      0.004    -23.298      0.000      -0.102      -0.086\n",
      "FamHist        -3.2673      0.064    -50.755      0.000      -3.393      -3.141\n",
      "PrioBSurgy     -0.2673      0.026    -10.311      0.000      -0.318      -0.216\n",
      " Density        0.1860      0.015     12.236      0.000       0.156       0.216\n",
      "NipRet          2.2776      0.035     64.651      0.000       2.209       2.347\n",
      "LyNode          0.1914      0.030      6.281      0.000       0.132       0.251\n",
      "Amorph         -0.1097      0.033     -3.348      0.001      -0.174      -0.045\n",
      " Size          -0.2427      0.016    -14.960      0.000      -0.275      -0.211\n",
      "Eggshell       -0.5663      0.027    -21.028      0.000      -0.619      -0.514\n",
      "Milk            0.9140      0.026     35.258      0.000       0.863       0.965\n",
      "AxiAden         1.2251      0.023     52.431      0.000       1.179       1.271\n",
      "Distroph       -0.6975      0.038    -18.382      0.000      -0.772      -0.623\n",
      "Lucent          2.0218      0.039     51.615      0.000       1.945       2.099\n",
      "SkinnLesson    -1.4795      0.022    -66.083      0.000      -1.523      -1.436\n",
      "===============================================================================\n"
     ]
    }
   ],
   "source": [
    "print(flog_reg.summary())"
   ]
  },
  {
   "cell_type": "code",
   "execution_count": 17,
   "metadata": {},
   "outputs": [
    {
     "name": "stdout",
     "output_type": "stream",
     "text": [
      "Accuracy 0.7837213435223032\n"
     ]
    }
   ],
   "source": [
    "## Score of the model giving the accuracy of the model\n",
    "print(\"Accuracy\", (flog_reg1.score(fx_test_minmax, fy_test)))"
   ]
  },
  {
   "cell_type": "code",
   "execution_count": 18,
   "metadata": {},
   "outputs": [],
   "source": [
    "### PREDICTION ON THE TEST DATASET"
   ]
  },
  {
   "cell_type": "code",
   "execution_count": 20,
   "metadata": {},
   "outputs": [],
   "source": [
    "### Getting the prediction for the Testing dataset\n",
    "from sklearn.datasets import make_classification\n",
    "from sklearn.metrics import confusion_matrix, roc_curve, roc_auc_score, plot_roc_curve\n",
    "from sklearn.model_selection import cross_val_score, cross_validate\n",
    "\n",
    "fx_train = fx_train_minmax\n",
    "fx_test = fx_test_minmax "
   ]
  },
  {
   "cell_type": "code",
   "execution_count": 24,
   "metadata": {},
   "outputs": [],
   "source": [
    "tns_probs=[0 for _ in range(len(fy_test))]\n",
    "fy_predict = flog_reg1.predict(fx_test)"
   ]
  },
  {
   "cell_type": "code",
   "execution_count": 25,
   "metadata": {},
   "outputs": [],
   "source": [
    "## Keeping the probabilities for Testing outcomes\n",
    "fy_pred = flog_reg1.predict_proba(fx_test)\n",
    "fy_pred = fy_pred[:, 1]"
   ]
  },
  {
   "cell_type": "code",
   "execution_count": 26,
   "metadata": {},
   "outputs": [
    {
     "data": {
      "image/png": "[encoded data removed]",
      "text/plain": [
       "<Figure size 576x576 with 1 Axes>"
      ]
     },
     "metadata": {
      "needs_background": "light"
     },
     "output_type": "display_data"
    }
   ],
   "source": [
    " ## confusion matrix\n",
    "ftest_cm = confusion_matrix(fy_test, np.round(fy_predict))\n",
    "fig, ax = plt.subplots(figsize = (8, 8))\n",
    "ax.imshow(ftest_cm)\n",
    "ax.grid(False)\n",
    "ax.xaxis.set(ticks=(0,1), ticklabels=('Actual 1s', 'Actual 0s'))\n",
    "ax.yaxis.set(ticks=(0,1), ticklabels=('predicted 1s', 'predicted 0s'))\n",
    "ax.set_ylim(1.5, -0.5)\n",
    "for i in range(2):\n",
    "    for j in range(2):\n",
    "        ax.text(j, i, ftest_cm[i, j], ha= 'center', va= 'center', color= 'black')\n",
    "plt.show()"
   ]
  },
  {
   "cell_type": "code",
   "execution_count": 27,
   "metadata": {},
   "outputs": [
    {
     "name": "stdout",
     "output_type": "stream",
     "text": [
      "0.2162786564776968\n"
     ]
    }
   ],
   "source": [
    "## Error for the prediction for test dataset outcomes\n",
    "ftest_error = (ftest_cm[0,1] + ftest_cm[1,0])/np.sum(ftest_cm)\n",
    "print(ftest_error)"
   ]
  },
  {
   "cell_type": "code",
   "execution_count": 28,
   "metadata": {},
   "outputs": [
    {
     "data": {
      "text/plain": [
       "0.7837213435223032"
      ]
     },
     "execution_count": 28,
     "metadata": {},
     "output_type": "execute_result"
    }
   ],
   "source": [
    "## Accuracy of prediction\n",
    "1-ftest_error"
   ]
  },
  {
   "cell_type": "code",
   "execution_count": 29,
   "metadata": {},
   "outputs": [
    {
     "name": "stdout",
     "output_type": "stream",
     "text": [
      "0.7890153274500696\n"
     ]
    }
   ],
   "source": [
    "## Sensitivity Analysis\n",
    "ftest_sens = ftest_cm[1, 1]/(ftest_cm[1, 1] + ftest_cm[0, 1])\n",
    "print(ftest_sens)"
   ]
  },
  {
   "cell_type": "code",
   "execution_count": 30,
   "metadata": {},
   "outputs": [
    {
     "name": "stdout",
     "output_type": "stream",
     "text": [
      "0.7782077639375983\n"
     ]
    }
   ],
   "source": [
    "## Specificity Analysis\n",
    "ftest_spec = ftest_cm[0, 0]/(ftest_cm[0, 0] + ftest_cm[1, 0])\n",
    "print(ftest_spec)"
   ]
  },
  {
   "cell_type": "code",
   "execution_count": 31,
   "metadata": {},
   "outputs": [
    {
     "name": "stdout",
     "output_type": "stream",
     "text": [
      "0.7874608877042532\n"
     ]
    }
   ],
   "source": [
    "## PPV Analysis\n",
    "ftest_npv = ftest_cm[1, 1]/(ftest_cm[1, 1] + ftest_cm[1, 0])\n",
    "print(ftest_npv)"
   ]
  },
  {
   "cell_type": "code",
   "execution_count": 32,
   "metadata": {},
   "outputs": [
    {
     "name": "stdout",
     "output_type": "stream",
     "text": [
      "0.7798109549200194\n"
     ]
    }
   ],
   "source": [
    "## NPV Analysis\n",
    "ftest_npv = ftest_cm[0, 0]/(ftest_cm[0, 0] + ftest_cm[0, 1])\n",
    "print(ftest_npv)"
   ]
  },
  {
   "cell_type": "code",
   "execution_count": 33,
   "metadata": {},
   "outputs": [],
   "source": [
    "## The AUC Score\n",
    "ftest_auc = roc_auc_score(fy_test, tns_probs)\n",
    "fy_pred_auc = np.round(roc_auc_score(fy_test, fy_pred), decimals = 2)"
   ]
  },
  {
   "cell_type": "code",
   "execution_count": 34,
   "metadata": {},
   "outputs": [
    {
     "name": "stdout",
     "output_type": "stream",
     "text": [
      "0.5\n"
     ]
    }
   ],
   "source": [
    " print(ftest_auc)"
   ]
  },
  {
   "cell_type": "code",
   "execution_count": 35,
   "metadata": {},
   "outputs": [
    {
     "name": "stdout",
     "output_type": "stream",
     "text": [
      "0.86\n"
     ]
    }
   ],
   "source": [
    "print(np.round(fy_pred_auc, decimals = 2))"
   ]
  },
  {
   "cell_type": "code",
   "execution_count": 36,
   "metadata": {},
   "outputs": [],
   "source": [
    "## calculate ROC Curves\n",
    "ftest_fpr, ftest_tpr, _ = roc_curve(fy_test, tns_probs)\n",
    "fy_pred_fpr, fy_pred_tpr, _ = roc_curve(fy_test, fy_pred)"
   ]
  },
  {
   "cell_type": "code",
   "execution_count": 37,
   "metadata": {},
   "outputs": [
    {
     "data": {
      "text/plain": [
       "<matplotlib.legend.Legend at 0x1eb06c904c8>"
      ]
     },
     "execution_count": 37,
     "metadata": {},
     "output_type": "execute_result"
    },
    {
     "data": {
      "image/png": "[encoded data removed]",
      "text/plain": [
       "<Figure size 432x288 with 1 Axes>"
      ]
     },
     "metadata": {
      "needs_background": "light"
     },
     "output_type": "display_data"
    }
   ],
   "source": [
    "## Plot Curve for the model\n",
    "import numpy as np\n",
    "import matplotlib.pyplot as plt\n",
    "\n",
    "plt.plot(ftest_fpr, ftest_tpr, linestyle = '--', label = 'Patients Last Status')\n",
    "plt.plot(fy_pred_fpr, fy_pred_tpr, marker = '.', label = 'Females')\n",
    "plt.text(0.7, 0.2, \"AUC = \" + str(fy_pred_auc), fontsize = 14)\n",
    "## Axis lable\n",
    "plt.xlabel(\"False Positve Rate\")\n",
    "plt.ylabel(\"True Positive Rate\")\n",
    "## Show Legend\n",
    "plt.legend()"
   ]
  },
  {
   "cell_type": "code",
   "execution_count": null,
   "metadata": {},
   "outputs": [],
   "source": []
  },
  {
   "cell_type": "code",
   "execution_count": null,
   "metadata": {},
   "outputs": [],
   "source": []
  }
 ],
 "metadata": {
  "kernelspec": {
   "display_name": "Python 3",
   "language": "python",
   "name": "python3"
  },
  "language_info": {
   "codemirror_mode": {
    "name": "ipython",
    "version": 3
   },
   "file_extension": ".py",
   "mimetype": "text/x-python",
   "name": "python",
   "nbconvert_exporter": "python",
   "pygments_lexer": "ipython3",
   "version": "3.7.6"
  }
 },
 "nbformat": 4,
 "nbformat_minor": 4
}
