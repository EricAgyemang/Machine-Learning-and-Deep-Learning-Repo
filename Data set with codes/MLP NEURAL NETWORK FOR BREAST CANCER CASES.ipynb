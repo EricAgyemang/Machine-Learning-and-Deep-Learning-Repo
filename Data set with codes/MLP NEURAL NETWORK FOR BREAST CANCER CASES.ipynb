{
 "cells": [
  {
   "cell_type": "code",
   "execution_count": 1,
   "metadata": {},
   "outputs": [],
   "source": [
    "### BREAST CANCER CASES ###\n",
    "###### NEURAL NETWORK CODE IN JUPYTER NOTEBOOK #####"
   ]
  },
  {
   "cell_type": "code",
   "execution_count": 2,
   "metadata": {},
   "outputs": [],
   "source": [
    "## Modules required\n",
    "import pandas as pd\n",
    "import numpy as np\n",
    "import matplotlib.pyplot as plt\n",
    "%matplotlib inline"
   ]
  },
  {
   "cell_type": "code",
   "execution_count": 3,
   "metadata": {},
   "outputs": [],
   "source": [
    "# Code\n",
    "BC = (pd.read_excel('cancer.xlsx'))\n"
   ]
  },
  {
   "cell_type": "code",
   "execution_count": 4,
   "metadata": {},
   "outputs": [
    {
     "data": {
      "text/html": [
       "<div>\n",
       "<style scoped>\n",
       "    .dataframe tbody tr th:only-of-type {\n",
       "        vertical-align: middle;\n",
       "    }\n",
       "\n",
       "    .dataframe tbody tr th {\n",
       "        vertical-align: top;\n",
       "    }\n",
       "\n",
       "    .dataframe thead th {\n",
       "        text-align: right;\n",
       "    }\n",
       "</style>\n",
       "<table border=\"1\" class=\"dataframe\">\n",
       "  <thead>\n",
       "    <tr style=\"text-align: right;\">\n",
       "      <th></th>\n",
       "      <th>PatStatus</th>\n",
       "      <th>Race</th>\n",
       "      <th>MarST</th>\n",
       "      <th>Gender</th>\n",
       "      <th>AgeDiag</th>\n",
       "      <th>Grade</th>\n",
       "      <th>Stability</th>\n",
       "      <th>No.Visits</th>\n",
       "      <th>Lstay</th>\n",
       "      <th>Laterality</th>\n",
       "      <th>...</th>\n",
       "      <th>LyNode</th>\n",
       "      <th>Amorph</th>\n",
       "      <th>Size</th>\n",
       "      <th>Eggshell</th>\n",
       "      <th>Milk</th>\n",
       "      <th>AxiAden</th>\n",
       "      <th>Distroph</th>\n",
       "      <th>Lucent</th>\n",
       "      <th>Dermal</th>\n",
       "      <th>SkinnLesson</th>\n",
       "    </tr>\n",
       "  </thead>\n",
       "  <tbody>\n",
       "    <tr>\n",
       "      <th>0</th>\n",
       "      <td>1</td>\n",
       "      <td>3</td>\n",
       "      <td>1</td>\n",
       "      <td>0</td>\n",
       "      <td>52</td>\n",
       "      <td>3</td>\n",
       "      <td>0</td>\n",
       "      <td>5</td>\n",
       "      <td>1</td>\n",
       "      <td>4</td>\n",
       "      <td>...</td>\n",
       "      <td>1</td>\n",
       "      <td>1</td>\n",
       "      <td>5</td>\n",
       "      <td>1</td>\n",
       "      <td>1</td>\n",
       "      <td>1</td>\n",
       "      <td>1</td>\n",
       "      <td>2</td>\n",
       "      <td>1</td>\n",
       "      <td>1</td>\n",
       "    </tr>\n",
       "    <tr>\n",
       "      <th>1</th>\n",
       "      <td>1</td>\n",
       "      <td>3</td>\n",
       "      <td>1</td>\n",
       "      <td>0</td>\n",
       "      <td>48</td>\n",
       "      <td>3</td>\n",
       "      <td>0</td>\n",
       "      <td>4</td>\n",
       "      <td>3</td>\n",
       "      <td>5</td>\n",
       "      <td>...</td>\n",
       "      <td>1</td>\n",
       "      <td>1</td>\n",
       "      <td>1</td>\n",
       "      <td>1</td>\n",
       "      <td>0</td>\n",
       "      <td>1</td>\n",
       "      <td>0</td>\n",
       "      <td>1</td>\n",
       "      <td>0</td>\n",
       "      <td>1</td>\n",
       "    </tr>\n",
       "    <tr>\n",
       "      <th>2</th>\n",
       "      <td>0</td>\n",
       "      <td>3</td>\n",
       "      <td>0</td>\n",
       "      <td>0</td>\n",
       "      <td>69</td>\n",
       "      <td>2</td>\n",
       "      <td>0</td>\n",
       "      <td>7</td>\n",
       "      <td>9</td>\n",
       "      <td>8</td>\n",
       "      <td>...</td>\n",
       "      <td>1</td>\n",
       "      <td>0</td>\n",
       "      <td>1</td>\n",
       "      <td>1</td>\n",
       "      <td>1</td>\n",
       "      <td>1</td>\n",
       "      <td>1</td>\n",
       "      <td>2</td>\n",
       "      <td>1</td>\n",
       "      <td>1</td>\n",
       "    </tr>\n",
       "    <tr>\n",
       "      <th>3</th>\n",
       "      <td>1</td>\n",
       "      <td>3</td>\n",
       "      <td>0</td>\n",
       "      <td>0</td>\n",
       "      <td>47</td>\n",
       "      <td>2</td>\n",
       "      <td>0</td>\n",
       "      <td>15</td>\n",
       "      <td>9</td>\n",
       "      <td>9</td>\n",
       "      <td>...</td>\n",
       "      <td>1</td>\n",
       "      <td>1</td>\n",
       "      <td>2</td>\n",
       "      <td>0</td>\n",
       "      <td>1</td>\n",
       "      <td>1</td>\n",
       "      <td>0</td>\n",
       "      <td>1</td>\n",
       "      <td>0</td>\n",
       "      <td>1</td>\n",
       "    </tr>\n",
       "    <tr>\n",
       "      <th>4</th>\n",
       "      <td>1</td>\n",
       "      <td>3</td>\n",
       "      <td>0</td>\n",
       "      <td>0</td>\n",
       "      <td>66</td>\n",
       "      <td>3</td>\n",
       "      <td>0</td>\n",
       "      <td>9</td>\n",
       "      <td>5</td>\n",
       "      <td>4</td>\n",
       "      <td>...</td>\n",
       "      <td>1</td>\n",
       "      <td>0</td>\n",
       "      <td>6</td>\n",
       "      <td>1</td>\n",
       "      <td>1</td>\n",
       "      <td>1</td>\n",
       "      <td>0</td>\n",
       "      <td>1</td>\n",
       "      <td>0</td>\n",
       "      <td>0</td>\n",
       "    </tr>\n",
       "  </tbody>\n",
       "</table>\n",
       "<p>5 rows × 25 columns</p>\n",
       "</div>"
      ],
      "text/plain": [
       "   PatStatus  Race  MarST  Gender  AgeDiag  Grade  Stability  No.Visits  \\\n",
       "0          1     3      1       0       52      3          0          5   \n",
       "1          1     3      1       0       48      3          0          4   \n",
       "2          0     3      0       0       69      2          0          7   \n",
       "3          1     3      0       0       47      2          0         15   \n",
       "4          1     3      0       0       66      3          0          9   \n",
       "\n",
       "   Lstay  Laterality  ...  LyNode  Amorph   Size  Eggshell  Milk  AxiAden  \\\n",
       "0      1           4  ...       1       1      5         1     1        1   \n",
       "1      3           5  ...       1       1      1         1     0        1   \n",
       "2      9           8  ...       1       0      1         1     1        1   \n",
       "3      9           9  ...       1       1      2         0     1        1   \n",
       "4      5           4  ...       1       0      6         1     1        1   \n",
       "\n",
       "   Distroph  Lucent  Dermal  SkinnLesson  \n",
       "0         1       2       1            1  \n",
       "1         0       1       0            1  \n",
       "2         1       2       1            1  \n",
       "3         0       1       0            1  \n",
       "4         0       1       0            0  \n",
       "\n",
       "[5 rows x 25 columns]"
      ]
     },
     "execution_count": 4,
     "metadata": {},
     "output_type": "execute_result"
    }
   ],
   "source": [
    "BC.head()"
   ]
  },
  {
   "cell_type": "code",
   "execution_count": 5,
   "metadata": {},
   "outputs": [],
   "source": [
    "#Import 'train_test_split' from 'sklearn.model_selection'\n",
    "from sklearn.model_selection import train_test_split\n",
    "\n",
    "#Import numpy#\n",
    "import numpy as np\n"
   ]
  },
  {
   "cell_type": "code",
   "execution_count": 6,
   "metadata": {},
   "outputs": [],
   "source": [
    "y = BC.PatStatus\n",
    "x = BC.drop(['PatStatus'], axis = 1)\n"
   ]
  },
  {
   "cell_type": "code",
   "execution_count": 7,
   "metadata": {},
   "outputs": [],
   "source": [
    "#Split the data into train and test sets #\n",
    "x_train, x_test, y_train, y_test=train_test_split(x,y, test_size=0.2, random_state=123)\n",
    "\n",
    "\n",
    "## Scaling the data\n",
    "from sklearn.preprocessing import MinMaxScaler\n",
    "from sklearn import preprocessing\n",
    "import numpy as np\n",
    "\n",
    "min_max_scaler = preprocessing.MinMaxScaler()\n",
    "x_train_minmax = min_max_scaler.fit_transform(x_train)\n",
    "x_test_minmax = min_max_scaler.fit_transform(x_test)\n"
   ]
  },
  {
   "cell_type": "code",
   "execution_count": 8,
   "metadata": {},
   "outputs": [],
   "source": [
    "x_train = x_train_minmax\n",
    "x_test = x_test_minmax"
   ]
  },
  {
   "cell_type": "code",
   "execution_count": 9,
   "metadata": {},
   "outputs": [
    {
     "data": {
      "text/plain": [
       "(80001, 24)"
      ]
     },
     "execution_count": 9,
     "metadata": {},
     "output_type": "execute_result"
    }
   ],
   "source": [
    "x_train.shape"
   ]
  },
  {
   "cell_type": "code",
   "execution_count": 10,
   "metadata": {},
   "outputs": [
    {
     "data": {
      "text/plain": [
       "(20001, 24)"
      ]
     },
     "execution_count": 10,
     "metadata": {},
     "output_type": "execute_result"
    }
   ],
   "source": [
    "x_test.shape"
   ]
  },
  {
   "cell_type": "code",
   "execution_count": 11,
   "metadata": {},
   "outputs": [],
   "source": [
    "from sklearn.neural_network import MLPClassifier\n",
    "from sklearn.datasets import make_classification\n",
    "from sklearn.metrics import confusion_matrix, roc_curve, roc_auc_score, plot_roc_curve\n",
    "from sklearn.model_selection import cross_val_score, cross_validate"
   ]
  },
  {
   "cell_type": "code",
   "execution_count": 12,
   "metadata": {},
   "outputs": [],
   "source": [
    "##Fitting the neural network model using training dataset\n",
    "tns_probs=[0 for _ in range(len(y_test))]"
   ]
  },
  {
   "cell_type": "code",
   "execution_count": 20,
   "metadata": {
    "scrolled": true
   },
   "outputs": [
    {
     "data": {
      "text/plain": [
       "MLPClassifier(activation='relu', alpha=0.01, batch_size='auto', beta_1=0.9,\n",
       "              beta_2=0.999, early_stopping=False, epsilon=1e-08,\n",
       "              hidden_layer_sizes=(6, 6, 6, 6), learning_rate='adaptive',\n",
       "              learning_rate_init=0.001, max_fun=15000, max_iter=10000,\n",
       "              momentum=0.9, n_iter_no_change=10, nesterovs_momentum=True,\n",
       "              power_t=0.5, random_state=None, shuffle=True, solver='adam',\n",
       "              tol=0.0001, validation_fraction=0.1, verbose=False,\n",
       "              warm_start=False)"
      ]
     },
     "execution_count": 20,
     "metadata": {},
     "output_type": "execute_result"
    }
   ],
   "source": [
    "tmlp=MLPClassifier(hidden_layer_sizes=(6, 6, 6, 6), activation ='relu', solver = 'adam' ,alpha= 0.01, batch_size='auto', learning_rate = 'adaptive', max_iter = 10000, learning_rate_init=0.001, power_t=0.5)\n",
    "tmlp.fit(x_train, y_train)"
   ]
  },
  {
   "cell_type": "code",
   "execution_count": 21,
   "metadata": {},
   "outputs": [],
   "source": [
    "### PREDICTION ON THE TEST DATASET"
   ]
  },
  {
   "cell_type": "code",
   "execution_count": 22,
   "metadata": {},
   "outputs": [],
   "source": [
    "### Getting the prediction for the Testing dataset\n",
    "y_predict = tmlp.predict(x_test)"
   ]
  },
  {
   "cell_type": "code",
   "execution_count": 23,
   "metadata": {},
   "outputs": [],
   "source": [
    "## Keeping the probabilities for Testing outcomes\n",
    "y_pred = tmlp.predict_proba(x_test)\n",
    "y_pred = y_pred[:,1]"
   ]
  },
  {
   "cell_type": "code",
   "execution_count": 24,
   "metadata": {},
   "outputs": [
    {
     "data": {
      "image/png": "[encoded data removed]",
      "text/plain": [
       "<Figure size 576x576 with 1 Axes>"
      ]
     },
     "metadata": {
      "needs_background": "light"
     },
     "output_type": "display_data"
    }
   ],
   "source": [
    "## CONFUSION MATRIX FOR BOTH SEX DATA\n",
    "test_cm = confusion_matrix(y_test, np.round(y_predict))\n",
    "fig, ax = plt.subplots(figsize = (8, 8))\n",
    "ax.imshow(test_cm)\n",
    "ax.grid(False)\n",
    "ax.xaxis.set(ticks=(0,1), ticklabels=('Actual 1s', 'Actual 0s'))\n",
    "ax.yaxis.set(ticks=(0,1), ticklabels=('predicted 1s', 'predicted 0s'))\n",
    "ax.set_ylim(1.5, -0.5)\n",
    "for i in range(2):\n",
    "    for j in range(2):\n",
    "        ax.text(j, i, test_cm[i, j], ha= 'center', va= 'center', color= 'black')\n",
    "plt.show()"
   ]
  },
  {
   "cell_type": "code",
   "execution_count": 25,
   "metadata": {},
   "outputs": [
    {
     "name": "stdout",
     "output_type": "stream",
     "text": [
      "0.13819309034548272\n"
     ]
    }
   ],
   "source": [
    "## Error for the prediction for test dataset outcomes\n",
    "test_error = (test_cm[0,1] + test_cm[1,0])/np.sum(test_cm)\n",
    "print(test_error)"
   ]
  },
  {
   "cell_type": "code",
   "execution_count": 26,
   "metadata": {},
   "outputs": [
    {
     "data": {
      "text/plain": [
       "0.8618069096545173"
      ]
     },
     "execution_count": 26,
     "metadata": {},
     "output_type": "execute_result"
    }
   ],
   "source": [
    "## Accuracy of prediction\n",
    "1-test_error"
   ]
  },
  {
   "cell_type": "code",
   "execution_count": 27,
   "metadata": {},
   "outputs": [
    {
     "name": "stdout",
     "output_type": "stream",
     "text": [
      "0.9531963470319634\n"
     ]
    }
   ],
   "source": [
    "## Sensitivity Analysis \n",
    "test_sens = test_cm[1, 1]/(test_cm[1, 1] + test_cm[0, 1])\n",
    "print(test_sens)"
   ]
  },
  {
   "cell_type": "code",
   "execution_count": 28,
   "metadata": {},
   "outputs": [
    {
     "name": "stdout",
     "output_type": "stream",
     "text": [
      "0.7905880259763366\n"
     ]
    }
   ],
   "source": [
    "## Specificity Analysis\n",
    "test_spec = test_cm[0, 0]/(test_cm[0, 0]+test_cm[1, 0])\n",
    "print(test_spec)"
   ]
  },
  {
   "cell_type": "code",
   "execution_count": 29,
   "metadata": {},
   "outputs": [
    {
     "name": "stdout",
     "output_type": "stream",
     "text": [
      "0.7800822122571002\n"
     ]
    }
   ],
   "source": [
    "## PPV Analysis\n",
    "test_npv = test_cm[1, 1]/(test_cm[1, 1] + test_cm[1, 0])\n",
    "print(test_npv)"
   ]
  },
  {
   "cell_type": "code",
   "execution_count": 30,
   "metadata": {},
   "outputs": [
    {
     "name": "stdout",
     "output_type": "stream",
     "text": [
      "0.9558997526083682\n"
     ]
    }
   ],
   "source": [
    "## NPV Analysis\n",
    "test_npv = test_cm[0, 0]/(test_cm[0, 0]+test_cm[0, 1])\n",
    "print(test_npv)"
   ]
  },
  {
   "cell_type": "code",
   "execution_count": 31,
   "metadata": {},
   "outputs": [],
   "source": [
    "## The AUC Score\n",
    "test_auc = roc_auc_score(y_test, tns_probs)\n",
    "y_pred_auc = np.round(roc_auc_score(y_test, y_pred), decimals = 2)"
   ]
  },
  {
   "cell_type": "code",
   "execution_count": 32,
   "metadata": {},
   "outputs": [
    {
     "name": "stdout",
     "output_type": "stream",
     "text": [
      "0.5\n"
     ]
    }
   ],
   "source": [
    "print(test_auc)"
   ]
  },
  {
   "cell_type": "code",
   "execution_count": 33,
   "metadata": {},
   "outputs": [
    {
     "name": "stdout",
     "output_type": "stream",
     "text": [
      "0.96\n"
     ]
    }
   ],
   "source": [
    "print(np.round(y_pred_auc, decimals = 2))"
   ]
  },
  {
   "cell_type": "code",
   "execution_count": 34,
   "metadata": {},
   "outputs": [],
   "source": [
    "## calculate ROC Curves\n",
    "test_fpr, test_tpr, _ = roc_curve(y_test, tns_probs)\n",
    "y_pred_fpr, y_pred_tpr, _ = roc_curve(y_test, y_pred)"
   ]
  },
  {
   "cell_type": "code",
   "execution_count": 35,
   "metadata": {},
   "outputs": [
    {
     "data": {
      "text/plain": [
       "<matplotlib.legend.Legend at 0x208a93a54c8>"
      ]
     },
     "execution_count": 35,
     "metadata": {},
     "output_type": "execute_result"
    },
    {
     "data": {
      "image/png": "[encoded data removed]",
      "text/plain": [
       "<Figure size 432x288 with 1 Axes>"
      ]
     },
     "metadata": {
      "needs_background": "light"
     },
     "output_type": "display_data"
    }
   ],
   "source": [
    "## Plot Curve for the model\n",
    "import numpy as np\n",
    "import matplotlib.pyplot as plt\n",
    "\n",
    "plt.plot(test_fpr, test_tpr, linestyle = '--', label = 'Patients Last Status')\n",
    "plt.plot(y_pred_fpr, y_pred_tpr, marker = '.', label = 'Both Sex')\n",
    "plt.text(0.7, 0.2, \"AUC = \" + str(y_pred_auc), fontsize = 14)\n",
    "\n",
    "## Axis lable\n",
    "plt.xlabel(\"False Positve Rate\")\n",
    "plt.ylabel(\"True Positive Rate\")\n",
    "\n",
    "## Show Legend\n",
    "plt.legend()\n"
   ]
  },
  {
   "cell_type": "code",
   "execution_count": null,
   "metadata": {},
   "outputs": [],
   "source": []
  },
  {
   "cell_type": "code",
   "execution_count": null,
   "metadata": {},
   "outputs": [],
   "source": []
  },
  {
   "cell_type": "code",
   "execution_count": null,
   "metadata": {},
   "outputs": [],
   "source": []
  },
  {
   "cell_type": "code",
   "execution_count": 1,
   "metadata": {},
   "outputs": [],
   "source": [
    "## CONSIDER THE NEURAL NETWORK FOR EACH GENDER SEPARATELY\n",
    "## Modules required\n",
    "import pandas as pd\n",
    "import numpy as np\n",
    "import matplotlib.pyplot as plt\n",
    "%matplotlib inline"
   ]
  },
  {
   "cell_type": "code",
   "execution_count": 2,
   "metadata": {},
   "outputs": [],
   "source": [
    "# Code\n",
    "MBC = (pd.read_excel('MBC.xlsx'))"
   ]
  },
  {
   "cell_type": "code",
   "execution_count": 3,
   "metadata": {},
   "outputs": [],
   "source": [
    "#Import 'train_test_split' from 'sklearn.model_selection'\n",
    "from sklearn.model_selection import train_test_split\n",
    "#Import numpy#\n",
    "import numpy as np\n"
   ]
  },
  {
   "cell_type": "code",
   "execution_count": 4,
   "metadata": {},
   "outputs": [],
   "source": [
    "#### THE MALE DATASET \n",
    "my=MBC.PatStatus\n",
    "mx=MBC.drop(['PatStatus','Gender'], axis=1)"
   ]
  },
  {
   "cell_type": "code",
   "execution_count": 5,
   "metadata": {},
   "outputs": [],
   "source": [
    "## CONSIDER FITTING NEURAL NETWORK FOR THE MALE GENDER"
   ]
  },
  {
   "cell_type": "code",
   "execution_count": 6,
   "metadata": {},
   "outputs": [],
   "source": [
    "#Split the Male data into train and test sets #\n",
    "mx_train, mx_test, my_train, my_test=train_test_split(mx,my, test_size=0.2, random_state=124)\n"
   ]
  },
  {
   "cell_type": "code",
   "execution_count": 7,
   "metadata": {},
   "outputs": [
    {
     "data": {
      "text/html": [
       "<div>\n",
       "<style scoped>\n",
       "    .dataframe tbody tr th:only-of-type {\n",
       "        vertical-align: middle;\n",
       "    }\n",
       "\n",
       "    .dataframe tbody tr th {\n",
       "        vertical-align: top;\n",
       "    }\n",
       "\n",
       "    .dataframe thead th {\n",
       "        text-align: right;\n",
       "    }\n",
       "</style>\n",
       "<table border=\"1\" class=\"dataframe\">\n",
       "  <thead>\n",
       "    <tr style=\"text-align: right;\">\n",
       "      <th></th>\n",
       "      <th>Race</th>\n",
       "      <th>MarST</th>\n",
       "      <th>AgeDiag</th>\n",
       "      <th>Grade</th>\n",
       "      <th>Stability</th>\n",
       "      <th>No.Visits</th>\n",
       "      <th>Lstay</th>\n",
       "      <th>Laterality</th>\n",
       "      <th>FamHist</th>\n",
       "      <th>PrioBSurgy</th>\n",
       "      <th>...</th>\n",
       "      <th>LyNode</th>\n",
       "      <th>Amorph</th>\n",
       "      <th>Size</th>\n",
       "      <th>Eggshell</th>\n",
       "      <th>Milk</th>\n",
       "      <th>AxiAden</th>\n",
       "      <th>Distroph</th>\n",
       "      <th>Lucent</th>\n",
       "      <th>Dermal</th>\n",
       "      <th>SkinnLesson</th>\n",
       "    </tr>\n",
       "  </thead>\n",
       "  <tbody>\n",
       "    <tr>\n",
       "      <th>12630</th>\n",
       "      <td>1</td>\n",
       "      <td>1</td>\n",
       "      <td>77</td>\n",
       "      <td>3</td>\n",
       "      <td>0</td>\n",
       "      <td>10</td>\n",
       "      <td>9</td>\n",
       "      <td>5</td>\n",
       "      <td>1</td>\n",
       "      <td>0</td>\n",
       "      <td>...</td>\n",
       "      <td>1</td>\n",
       "      <td>0</td>\n",
       "      <td>2</td>\n",
       "      <td>0</td>\n",
       "      <td>1</td>\n",
       "      <td>1</td>\n",
       "      <td>0</td>\n",
       "      <td>1</td>\n",
       "      <td>1</td>\n",
       "      <td>1</td>\n",
       "    </tr>\n",
       "    <tr>\n",
       "      <th>6329</th>\n",
       "      <td>1</td>\n",
       "      <td>0</td>\n",
       "      <td>54</td>\n",
       "      <td>2</td>\n",
       "      <td>0</td>\n",
       "      <td>15</td>\n",
       "      <td>1</td>\n",
       "      <td>3</td>\n",
       "      <td>1</td>\n",
       "      <td>0</td>\n",
       "      <td>...</td>\n",
       "      <td>1</td>\n",
       "      <td>1</td>\n",
       "      <td>3</td>\n",
       "      <td>1</td>\n",
       "      <td>1</td>\n",
       "      <td>1</td>\n",
       "      <td>0</td>\n",
       "      <td>1</td>\n",
       "      <td>1</td>\n",
       "      <td>0</td>\n",
       "    </tr>\n",
       "    <tr>\n",
       "      <th>14089</th>\n",
       "      <td>10</td>\n",
       "      <td>0</td>\n",
       "      <td>63</td>\n",
       "      <td>3</td>\n",
       "      <td>0</td>\n",
       "      <td>16</td>\n",
       "      <td>9</td>\n",
       "      <td>8</td>\n",
       "      <td>1</td>\n",
       "      <td>0</td>\n",
       "      <td>...</td>\n",
       "      <td>1</td>\n",
       "      <td>0</td>\n",
       "      <td>2</td>\n",
       "      <td>1</td>\n",
       "      <td>1</td>\n",
       "      <td>1</td>\n",
       "      <td>0</td>\n",
       "      <td>1</td>\n",
       "      <td>0</td>\n",
       "      <td>1</td>\n",
       "    </tr>\n",
       "    <tr>\n",
       "      <th>15211</th>\n",
       "      <td>1</td>\n",
       "      <td>1</td>\n",
       "      <td>61</td>\n",
       "      <td>1</td>\n",
       "      <td>0</td>\n",
       "      <td>16</td>\n",
       "      <td>12</td>\n",
       "      <td>4</td>\n",
       "      <td>1</td>\n",
       "      <td>0</td>\n",
       "      <td>...</td>\n",
       "      <td>1</td>\n",
       "      <td>0</td>\n",
       "      <td>2</td>\n",
       "      <td>1</td>\n",
       "      <td>1</td>\n",
       "      <td>0</td>\n",
       "      <td>0</td>\n",
       "      <td>1</td>\n",
       "      <td>0</td>\n",
       "      <td>1</td>\n",
       "    </tr>\n",
       "    <tr>\n",
       "      <th>8895</th>\n",
       "      <td>1</td>\n",
       "      <td>1</td>\n",
       "      <td>69</td>\n",
       "      <td>3</td>\n",
       "      <td>0</td>\n",
       "      <td>16</td>\n",
       "      <td>9</td>\n",
       "      <td>9</td>\n",
       "      <td>1</td>\n",
       "      <td>0</td>\n",
       "      <td>...</td>\n",
       "      <td>1</td>\n",
       "      <td>0</td>\n",
       "      <td>2</td>\n",
       "      <td>1</td>\n",
       "      <td>1</td>\n",
       "      <td>1</td>\n",
       "      <td>0</td>\n",
       "      <td>1</td>\n",
       "      <td>0</td>\n",
       "      <td>1</td>\n",
       "    </tr>\n",
       "  </tbody>\n",
       "</table>\n",
       "<p>5 rows × 23 columns</p>\n",
       "</div>"
      ],
      "text/plain": [
       "       Race  MarST  AgeDiag  Grade  Stability  No.Visits  Lstay  Laterality  \\\n",
       "12630     1      1       77      3          0         10      9           5   \n",
       "6329      1      0       54      2          0         15      1           3   \n",
       "14089    10      0       63      3          0         16      9           8   \n",
       "15211     1      1       61      1          0         16     12           4   \n",
       "8895      1      1       69      3          0         16      9           9   \n",
       "\n",
       "       FamHist  PrioBSurgy  ...  LyNode  Amorph   Size  Eggshell  Milk  \\\n",
       "12630        1           0  ...       1       0      2         0     1   \n",
       "6329         1           0  ...       1       1      3         1     1   \n",
       "14089        1           0  ...       1       0      2         1     1   \n",
       "15211        1           0  ...       1       0      2         1     1   \n",
       "8895         1           0  ...       1       0      2         1     1   \n",
       "\n",
       "       AxiAden  Distroph  Lucent  Dermal  SkinnLesson  \n",
       "12630        1         0       1       1            1  \n",
       "6329         1         0       1       1            0  \n",
       "14089        1         0       1       0            1  \n",
       "15211        0         0       1       0            1  \n",
       "8895         1         0       1       0            1  \n",
       "\n",
       "[5 rows x 23 columns]"
      ]
     },
     "execution_count": 7,
     "metadata": {},
     "output_type": "execute_result"
    }
   ],
   "source": [
    "mx_train.head()"
   ]
  },
  {
   "cell_type": "code",
   "execution_count": 8,
   "metadata": {},
   "outputs": [
    {
     "data": {
      "text/html": [
       "<div>\n",
       "<style scoped>\n",
       "    .dataframe tbody tr th:only-of-type {\n",
       "        vertical-align: middle;\n",
       "    }\n",
       "\n",
       "    .dataframe tbody tr th {\n",
       "        vertical-align: top;\n",
       "    }\n",
       "\n",
       "    .dataframe thead th {\n",
       "        text-align: right;\n",
       "    }\n",
       "</style>\n",
       "<table border=\"1\" class=\"dataframe\">\n",
       "  <thead>\n",
       "    <tr style=\"text-align: right;\">\n",
       "      <th></th>\n",
       "      <th>Race</th>\n",
       "      <th>MarST</th>\n",
       "      <th>AgeDiag</th>\n",
       "      <th>Grade</th>\n",
       "      <th>Stability</th>\n",
       "      <th>No.Visits</th>\n",
       "      <th>Lstay</th>\n",
       "      <th>Laterality</th>\n",
       "      <th>FamHist</th>\n",
       "      <th>PrioBSurgy</th>\n",
       "      <th>...</th>\n",
       "      <th>LyNode</th>\n",
       "      <th>Amorph</th>\n",
       "      <th>Size</th>\n",
       "      <th>Eggshell</th>\n",
       "      <th>Milk</th>\n",
       "      <th>AxiAden</th>\n",
       "      <th>Distroph</th>\n",
       "      <th>Lucent</th>\n",
       "      <th>Dermal</th>\n",
       "      <th>SkinnLesson</th>\n",
       "    </tr>\n",
       "  </thead>\n",
       "  <tbody>\n",
       "    <tr>\n",
       "      <th>1541</th>\n",
       "      <td>1</td>\n",
       "      <td>1</td>\n",
       "      <td>70</td>\n",
       "      <td>2</td>\n",
       "      <td>0</td>\n",
       "      <td>10</td>\n",
       "      <td>9</td>\n",
       "      <td>8</td>\n",
       "      <td>1</td>\n",
       "      <td>0</td>\n",
       "      <td>...</td>\n",
       "      <td>1</td>\n",
       "      <td>0</td>\n",
       "      <td>3</td>\n",
       "      <td>1</td>\n",
       "      <td>1</td>\n",
       "      <td>1</td>\n",
       "      <td>0</td>\n",
       "      <td>1</td>\n",
       "      <td>0</td>\n",
       "      <td>0</td>\n",
       "    </tr>\n",
       "    <tr>\n",
       "      <th>8170</th>\n",
       "      <td>1</td>\n",
       "      <td>0</td>\n",
       "      <td>59</td>\n",
       "      <td>2</td>\n",
       "      <td>0</td>\n",
       "      <td>15</td>\n",
       "      <td>1</td>\n",
       "      <td>1</td>\n",
       "      <td>1</td>\n",
       "      <td>0</td>\n",
       "      <td>...</td>\n",
       "      <td>1</td>\n",
       "      <td>0</td>\n",
       "      <td>2</td>\n",
       "      <td>1</td>\n",
       "      <td>1</td>\n",
       "      <td>0</td>\n",
       "      <td>0</td>\n",
       "      <td>1</td>\n",
       "      <td>0</td>\n",
       "      <td>1</td>\n",
       "    </tr>\n",
       "    <tr>\n",
       "      <th>6776</th>\n",
       "      <td>1</td>\n",
       "      <td>0</td>\n",
       "      <td>46</td>\n",
       "      <td>3</td>\n",
       "      <td>0</td>\n",
       "      <td>14</td>\n",
       "      <td>9</td>\n",
       "      <td>3</td>\n",
       "      <td>1</td>\n",
       "      <td>0</td>\n",
       "      <td>...</td>\n",
       "      <td>1</td>\n",
       "      <td>0</td>\n",
       "      <td>2</td>\n",
       "      <td>1</td>\n",
       "      <td>1</td>\n",
       "      <td>0</td>\n",
       "      <td>0</td>\n",
       "      <td>1</td>\n",
       "      <td>0</td>\n",
       "      <td>0</td>\n",
       "    </tr>\n",
       "    <tr>\n",
       "      <th>4929</th>\n",
       "      <td>2</td>\n",
       "      <td>0</td>\n",
       "      <td>48</td>\n",
       "      <td>1</td>\n",
       "      <td>0</td>\n",
       "      <td>14</td>\n",
       "      <td>9</td>\n",
       "      <td>9</td>\n",
       "      <td>1</td>\n",
       "      <td>0</td>\n",
       "      <td>...</td>\n",
       "      <td>1</td>\n",
       "      <td>0</td>\n",
       "      <td>3</td>\n",
       "      <td>1</td>\n",
       "      <td>1</td>\n",
       "      <td>0</td>\n",
       "      <td>0</td>\n",
       "      <td>1</td>\n",
       "      <td>0</td>\n",
       "      <td>0</td>\n",
       "    </tr>\n",
       "    <tr>\n",
       "      <th>13849</th>\n",
       "      <td>1</td>\n",
       "      <td>0</td>\n",
       "      <td>58</td>\n",
       "      <td>1</td>\n",
       "      <td>0</td>\n",
       "      <td>15</td>\n",
       "      <td>9</td>\n",
       "      <td>8</td>\n",
       "      <td>1</td>\n",
       "      <td>0</td>\n",
       "      <td>...</td>\n",
       "      <td>1</td>\n",
       "      <td>0</td>\n",
       "      <td>2</td>\n",
       "      <td>1</td>\n",
       "      <td>1</td>\n",
       "      <td>1</td>\n",
       "      <td>0</td>\n",
       "      <td>1</td>\n",
       "      <td>0</td>\n",
       "      <td>1</td>\n",
       "    </tr>\n",
       "  </tbody>\n",
       "</table>\n",
       "<p>5 rows × 23 columns</p>\n",
       "</div>"
      ],
      "text/plain": [
       "       Race  MarST  AgeDiag  Grade  Stability  No.Visits  Lstay  Laterality  \\\n",
       "1541      1      1       70      2          0         10      9           8   \n",
       "8170      1      0       59      2          0         15      1           1   \n",
       "6776      1      0       46      3          0         14      9           3   \n",
       "4929      2      0       48      1          0         14      9           9   \n",
       "13849     1      0       58      1          0         15      9           8   \n",
       "\n",
       "       FamHist  PrioBSurgy  ...  LyNode  Amorph   Size  Eggshell  Milk  \\\n",
       "1541         1           0  ...       1       0      3         1     1   \n",
       "8170         1           0  ...       1       0      2         1     1   \n",
       "6776         1           0  ...       1       0      2         1     1   \n",
       "4929         1           0  ...       1       0      3         1     1   \n",
       "13849        1           0  ...       1       0      2         1     1   \n",
       "\n",
       "       AxiAden  Distroph  Lucent  Dermal  SkinnLesson  \n",
       "1541         1         0       1       0            0  \n",
       "8170         0         0       1       0            1  \n",
       "6776         0         0       1       0            0  \n",
       "4929         0         0       1       0            0  \n",
       "13849        1         0       1       0            1  \n",
       "\n",
       "[5 rows x 23 columns]"
      ]
     },
     "execution_count": 8,
     "metadata": {},
     "output_type": "execute_result"
    }
   ],
   "source": [
    "mx_test.head()"
   ]
  },
  {
   "cell_type": "code",
   "execution_count": 9,
   "metadata": {},
   "outputs": [
    {
     "data": {
      "text/plain": [
       "(12479, 23)"
      ]
     },
     "execution_count": 9,
     "metadata": {},
     "output_type": "execute_result"
    }
   ],
   "source": [
    "mx_train.shape"
   ]
  },
  {
   "cell_type": "code",
   "execution_count": 10,
   "metadata": {},
   "outputs": [
    {
     "data": {
      "text/plain": [
       "(3120, 23)"
      ]
     },
     "execution_count": 10,
     "metadata": {},
     "output_type": "execute_result"
    }
   ],
   "source": [
    "mx_test.shape"
   ]
  },
  {
   "cell_type": "code",
   "execution_count": 11,
   "metadata": {},
   "outputs": [],
   "source": [
    "## Scaling the male data set\n",
    "from sklearn.preprocessing import MinMaxScaler\n",
    "from sklearn import preprocessing\n",
    "import numpy as np\n",
    "\n",
    "min_max_scaler = preprocessing.MinMaxScaler()\n",
    "mx_train_minmax = min_max_scaler.fit_transform(mx_train)\n",
    "mx_test_minmax = min_max_scaler.fit_transform(mx_test)"
   ]
  },
  {
   "cell_type": "code",
   "execution_count": 12,
   "metadata": {},
   "outputs": [],
   "source": [
    "mx_train = mx_train_minmax\n",
    "mx_test = mx_test_minmax"
   ]
  },
  {
   "cell_type": "code",
   "execution_count": 13,
   "metadata": {},
   "outputs": [],
   "source": [
    "## FITTING NEURAL NETWORK FOR MALE DATA"
   ]
  },
  {
   "cell_type": "code",
   "execution_count": 14,
   "metadata": {},
   "outputs": [],
   "source": [
    "from sklearn.neural_network import MLPClassifier\n",
    "from sklearn.datasets import make_classification\n",
    "from sklearn.metrics import confusion_matrix, roc_curve, roc_auc_score, plot_roc_curve\n",
    "from sklearn.model_selection import cross_val_score, cross_validate"
   ]
  },
  {
   "cell_type": "code",
   "execution_count": 15,
   "metadata": {},
   "outputs": [],
   "source": [
    "##Fitting the neural network model using training dataset\n",
    "tns_probs=[0 for _ in range(len(my_test))]"
   ]
  },
  {
   "cell_type": "code",
   "execution_count": 16,
   "metadata": {},
   "outputs": [
    {
     "data": {
      "text/plain": [
       "MLPClassifier(activation='relu', alpha=0.01, batch_size='auto', beta_1=0.9,\n",
       "              beta_2=0.999, early_stopping=False, epsilon=1e-08,\n",
       "              hidden_layer_sizes=(6, 6, 6, 6), learning_rate='adaptive',\n",
       "              learning_rate_init=0.001, max_fun=15000, max_iter=10000,\n",
       "              momentum=0.9, n_iter_no_change=10, nesterovs_momentum=True,\n",
       "              power_t=0.5, random_state=None, shuffle=True, solver='adam',\n",
       "              tol=0.0001, validation_fraction=0.1, verbose=False,\n",
       "              warm_start=False)"
      ]
     },
     "execution_count": 16,
     "metadata": {},
     "output_type": "execute_result"
    }
   ],
   "source": [
    "male_mlp=MLPClassifier(hidden_layer_sizes=(6, 6, 6, 6), activation ='relu', solver = 'adam' ,alpha= 0.01, batch_size='auto', learning_rate = 'adaptive', max_iter = 10000, learning_rate_init=0.001, power_t=0.5)\n",
    "male_mlp.fit(mx_train, my_train)"
   ]
  },
  {
   "cell_type": "code",
   "execution_count": 17,
   "metadata": {},
   "outputs": [],
   "source": [
    "### PREDICTION USING THE TEST DATASET"
   ]
  },
  {
   "cell_type": "code",
   "execution_count": 18,
   "metadata": {},
   "outputs": [],
   "source": [
    "### Getting the prediction for the Testing dataset\n",
    "my_predict = male_mlp.predict(mx_test)"
   ]
  },
  {
   "cell_type": "code",
   "execution_count": 19,
   "metadata": {},
   "outputs": [],
   "source": [
    "## Keeping the probabilities for Testing outcomes\n",
    "my_pred = male_mlp.predict_proba(mx_test)\n",
    "my_pred = my_pred[:,1]"
   ]
  },
  {
   "cell_type": "code",
   "execution_count": 20,
   "metadata": {},
   "outputs": [
    {
     "data": {
      "image/png": "[encoded data removed]",
      "text/plain": [
       "<Figure size 576x576 with 1 Axes>"
      ]
     },
     "metadata": {
      "needs_background": "light"
     },
     "output_type": "display_data"
    }
   ],
   "source": [
    "## CONFUSION MATRIX FOR MALE DATA\n",
    "mtest_cm = confusion_matrix(my_test, np.round(my_predict))\n",
    "fig, ax = plt.subplots(figsize = (8, 8))\n",
    "ax.imshow(mtest_cm)\n",
    "ax.grid(False)\n",
    "ax.xaxis.set(ticks=(0,1), ticklabels=('Actual 1s', 'Actual 0s'))\n",
    "ax.yaxis.set(ticks=(0,1), ticklabels=('predicted 1s', 'predicted 0s'))\n",
    "ax.set_ylim(1.5, -0.5)\n",
    "for i in range(2):\n",
    "    for j in range(2):\n",
    "        ax.text(j, i, mtest_cm[i, j], ha= 'center', va= 'center', color= 'black')\n",
    "plt.show()"
   ]
  },
  {
   "cell_type": "code",
   "execution_count": 21,
   "metadata": {},
   "outputs": [
    {
     "name": "stdout",
     "output_type": "stream",
     "text": [
      "0.1717948717948718\n"
     ]
    }
   ],
   "source": [
    "## Error for the prediction for test dataset outcomes\n",
    "mtest_error = (mtest_cm[0,1] + mtest_cm[1,0])/np.sum(mtest_cm)\n",
    "print(mtest_error)"
   ]
  },
  {
   "cell_type": "code",
   "execution_count": 22,
   "metadata": {},
   "outputs": [
    {
     "data": {
      "text/plain": [
       "0.8282051282051281"
      ]
     },
     "execution_count": 22,
     "metadata": {},
     "output_type": "execute_result"
    }
   ],
   "source": [
    "## Accuracy of prediction\n",
    "1-mtest_error"
   ]
  },
  {
   "cell_type": "code",
   "execution_count": 23,
   "metadata": {},
   "outputs": [
    {
     "name": "stdout",
     "output_type": "stream",
     "text": [
      "0.9352806414662085\n"
     ]
    }
   ],
   "source": [
    "## Sensitivity Analysis \n",
    "mtest_sens = mtest_cm[1, 1]/(mtest_cm[1, 1] + mtest_cm[0, 1])\n",
    "print(mtest_sens)"
   ]
  },
  {
   "cell_type": "code",
   "execution_count": 24,
   "metadata": {},
   "outputs": [
    {
     "name": "stdout",
     "output_type": "stream",
     "text": [
      "0.6921397379912664\n"
     ]
    }
   ],
   "source": [
    "## Specificity Analysis\n",
    "mtest_spec = mtest_cm[0, 0]/(mtest_cm[0, 0]+ mtest_cm[1, 0])\n",
    "print(mtest_spec)"
   ]
  },
  {
   "cell_type": "code",
   "execution_count": 25,
   "metadata": {},
   "outputs": [
    {
     "name": "stdout",
     "output_type": "stream",
     "text": [
      "0.794260700389105\n"
     ]
    }
   ],
   "source": [
    "## PPV Analysis\n",
    "mtest_npv = mtest_cm[1, 1]/(mtest_cm[1, 1] + mtest_cm[1, 0])\n",
    "print(mtest_npv)"
   ]
  },
  {
   "cell_type": "code",
   "execution_count": 26,
   "metadata": {},
   "outputs": [
    {
     "name": "stdout",
     "output_type": "stream",
     "text": [
      "0.893796992481203\n"
     ]
    }
   ],
   "source": [
    "## NPV Analysis\n",
    "mtest_npv = mtest_cm[0, 0]/(mtest_cm[0, 0] + mtest_cm[0, 1])\n",
    "print(mtest_npv)"
   ]
  },
  {
   "cell_type": "code",
   "execution_count": 27,
   "metadata": {},
   "outputs": [],
   "source": [
    "## The AUC Score\n",
    "tns_probs=[0 for _ in range(len(my_test))]\n",
    "mtest_auc = roc_auc_score(my_test, tns_probs)\n",
    "my_pred_auc = np.round(roc_auc_score(my_test, my_pred), decimals = 2)"
   ]
  },
  {
   "cell_type": "code",
   "execution_count": 28,
   "metadata": {},
   "outputs": [
    {
     "name": "stdout",
     "output_type": "stream",
     "text": [
      "0.5\n"
     ]
    }
   ],
   "source": [
    "print(mtest_auc)"
   ]
  },
  {
   "cell_type": "code",
   "execution_count": 29,
   "metadata": {},
   "outputs": [
    {
     "name": "stdout",
     "output_type": "stream",
     "text": [
      "0.88\n"
     ]
    }
   ],
   "source": [
    "print(np.round(my_pred_auc, decimals = 2))"
   ]
  },
  {
   "cell_type": "code",
   "execution_count": 30,
   "metadata": {},
   "outputs": [],
   "source": [
    "## calculate ROC Curves\n",
    "mtest_fpr, mtest_tpr, _ = roc_curve(my_test, tns_probs)\n",
    "my_pred_fpr, my_pred_tpr, _ = roc_curve(my_test, my_pred)"
   ]
  },
  {
   "cell_type": "code",
   "execution_count": 31,
   "metadata": {},
   "outputs": [
    {
     "data": {
      "text/plain": [
       "<matplotlib.legend.Legend at 0x187a1ba82c8>"
      ]
     },
     "execution_count": 31,
     "metadata": {},
     "output_type": "execute_result"
    },
    {
     "data": {
      "image/png": "[encoded data removed]",
      "text/plain": [
       "<Figure size 432x288 with 1 Axes>"
      ]
     },
     "metadata": {
      "needs_background": "light"
     },
     "output_type": "display_data"
    }
   ],
   "source": [
    "## Plot Curve for the model\n",
    "import numpy as np\n",
    "import matplotlib.pyplot as plt\n",
    "\n",
    "plt.plot(mtest_fpr, mtest_tpr, linestyle = '--', label = 'Patients Last Status')\n",
    "plt.plot(my_pred_fpr, my_pred_tpr, marker = '.', label = 'Males')\n",
    "plt.text(0.7, 0.2, \"AUC = \" + str(my_pred_auc), fontsize = 14)\n",
    "\n",
    "## Axis lable\n",
    "plt.xlabel(\"False Positve Rate\")\n",
    "plt.ylabel(\"True Positive Rate\")\n",
    "\n",
    "## Show Legend\n",
    "plt.legend()"
   ]
  },
  {
   "cell_type": "code",
   "execution_count": null,
   "metadata": {},
   "outputs": [],
   "source": []
  },
  {
   "cell_type": "code",
   "execution_count": null,
   "metadata": {},
   "outputs": [],
   "source": []
  },
  {
   "cell_type": "code",
   "execution_count": 1,
   "metadata": {},
   "outputs": [],
   "source": [
    "## CONSIDERING THE FEMALE DATA\n",
    "## The new fitted logistic regression model with selected variables\n",
    "## Modules required\n",
    "import pandas as pd\n",
    "import numpy as np\n",
    "import matplotlib.pyplot as plt\n",
    "%matplotlib inline\n",
    "FBC = (pd.read_excel('FBC.xlsx'))"
   ]
  },
  {
   "cell_type": "code",
   "execution_count": 3,
   "metadata": {},
   "outputs": [],
   "source": [
    "# splitting data into x and y\n",
    "fy=FBC.PatStatus\n",
    "fx=FBC.drop(['PatStatus','Gender'], axis=1)"
   ]
  },
  {
   "cell_type": "code",
   "execution_count": 4,
   "metadata": {},
   "outputs": [],
   "source": [
    "#Import 'train_test_split' from 'sklearn.model_selection'\n",
    "from sklearn.model_selection import train_test_split\n",
    "\n",
    "#Import numpy#\n",
    "import numpy as np\n",
    "#Split the Male data into train and test sets #\n",
    "fx_train, fx_test, fy_train, fy_test=train_test_split(fx,fy, test_size=0.2, random_state=125)\n"
   ]
  },
  {
   "cell_type": "code",
   "execution_count": 5,
   "metadata": {},
   "outputs": [],
   "source": [
    "# Scaling the female data\n",
    "from sklearn.preprocessing import MinMaxScaler\n",
    "from sklearn import preprocessing\n",
    "import numpy as np\n",
    "\n",
    "min_max_scaler = preprocessing.MinMaxScaler()\n",
    "fx_train_minmax = min_max_scaler.fit_transform(fx_train)\n",
    "fx_test_minmax = min_max_scaler.fit_transform(fx_test)\n"
   ]
  },
  {
   "cell_type": "code",
   "execution_count": 6,
   "metadata": {},
   "outputs": [],
   "source": [
    "fx_train = fx_train_minmax\n",
    "fx_test = fx_test_minmax"
   ]
  },
  {
   "cell_type": "code",
   "execution_count": 7,
   "metadata": {},
   "outputs": [],
   "source": [
    "### FITTING THE NEURAL NETWORK USING THE FEMALE TRAINING DATASET \n",
    "from sklearn.neural_network import MLPClassifier\n",
    "from sklearn.datasets import make_classification\n",
    "from sklearn.metrics import confusion_matrix, roc_curve, roc_auc_score, plot_roc_curve\n",
    "from sklearn.model_selection import cross_val_score, cross_validate\n",
    "\n",
    "tns_probs=[0 for _ in range(len(fy_test))]"
   ]
  },
  {
   "cell_type": "code",
   "execution_count": 8,
   "metadata": {},
   "outputs": [
    {
     "data": {
      "text/plain": [
       "MLPClassifier(activation='relu', alpha=0.01, batch_size='auto', beta_1=0.9,\n",
       "              beta_2=0.999, early_stopping=False, epsilon=1e-08,\n",
       "              hidden_layer_sizes=(6, 6, 6, 6), learning_rate='adaptive',\n",
       "              learning_rate_init=0.001, max_fun=15000, max_iter=10000,\n",
       "              momentum=0.9, n_iter_no_change=10, nesterovs_momentum=True,\n",
       "              power_t=0.5, random_state=None, shuffle=True, solver='adam',\n",
       "              tol=0.0001, validation_fraction=0.1, verbose=False,\n",
       "              warm_start=False)"
      ]
     },
     "execution_count": 8,
     "metadata": {},
     "output_type": "execute_result"
    }
   ],
   "source": [
    "female_mlp=MLPClassifier(hidden_layer_sizes=(6, 6, 6, 6), activation ='relu', solver = 'adam' ,alpha= 0.01, batch_size='auto', learning_rate = 'adaptive', max_iter = 10000, learning_rate_init=0.001, power_t=0.5)\n",
    "female_mlp.fit(fx_train, fy_train)"
   ]
  },
  {
   "cell_type": "code",
   "execution_count": 9,
   "metadata": {},
   "outputs": [],
   "source": [
    "## PREDICTION USING THE TEST DATASET"
   ]
  },
  {
   "cell_type": "code",
   "execution_count": 10,
   "metadata": {},
   "outputs": [],
   "source": [
    "### Getting the prediction for the Testing dataset\n",
    "fy_predict = female_mlp.predict(fx_test)"
   ]
  },
  {
   "cell_type": "code",
   "execution_count": 11,
   "metadata": {},
   "outputs": [],
   "source": [
    "## Keeping the probabilities for Testing outcomes\n",
    "fy_pred = female_mlp.predict_proba(fx_test)\n",
    "fy_pred = fy_pred[:,1]"
   ]
  },
  {
   "cell_type": "code",
   "execution_count": 12,
   "metadata": {},
   "outputs": [
    {
     "data": {
      "image/png": "[encoded data removed]",
      "text/plain": [
       "<Figure size 576x576 with 1 Axes>"
      ]
     },
     "metadata": {
      "needs_background": "light"
     },
     "output_type": "display_data"
    }
   ],
   "source": [
    "## confusion matrix for female gender\n",
    "ftest_cm = confusion_matrix(fy_test, np.round(fy_predict))\n",
    "fig, ax = plt.subplots(figsize = (8, 8))\n",
    "ax.imshow(ftest_cm)\n",
    "ax.grid(False)\n",
    "ax.xaxis.set(ticks=(0,1), ticklabels=('Actual 1s', 'Actual 0s'))\n",
    "ax.yaxis.set(ticks=(0,1), ticklabels=('predicted 1s', 'predicted 0s'))\n",
    "ax.set_ylim(1.5, -0.5)\n",
    "for i in range(2):\n",
    "    for j in range(2):\n",
    "        ax.text(j, i, ftest_cm[i, j], ha= 'center', va= 'center', color= 'black')\n",
    "plt.show()"
   ]
  },
  {
   "cell_type": "code",
   "execution_count": 13,
   "metadata": {},
   "outputs": [
    {
     "name": "stdout",
     "output_type": "stream",
     "text": [
      "0.13749185474794148\n"
     ]
    }
   ],
   "source": [
    "## Error for the prediction for test dataset outcomes\n",
    "ftest_error = (ftest_cm[0,1] + ftest_cm[1,0])/np.sum(ftest_cm)\n",
    "print(ftest_error)"
   ]
  },
  {
   "cell_type": "code",
   "execution_count": 14,
   "metadata": {},
   "outputs": [
    {
     "data": {
      "text/plain": [
       "0.8625081452520585"
      ]
     },
     "execution_count": 14,
     "metadata": {},
     "output_type": "execute_result"
    }
   ],
   "source": [
    "## Accuracy of prediction\n",
    "1-ftest_error"
   ]
  },
  {
   "cell_type": "code",
   "execution_count": 15,
   "metadata": {},
   "outputs": [
    {
     "name": "stdout",
     "output_type": "stream",
     "text": [
      "0.9576320371445154\n"
     ]
    }
   ],
   "source": [
    "## Sensitivity Analysis \n",
    "ftest_sens = ftest_cm[1, 1]/(ftest_cm[1, 1] + ftest_cm[0, 1])\n",
    "print(ftest_sens)"
   ]
  },
  {
   "cell_type": "code",
   "execution_count": 16,
   "metadata": {},
   "outputs": [
    {
     "name": "stdout",
     "output_type": "stream",
     "text": [
      "0.7968765642206427\n"
     ]
    }
   ],
   "source": [
    "## Specificity Analysis\n",
    "ftest_spec = ftest_cm[0, 0]/(ftest_cm[0, 0]+ ftest_cm[1, 0])\n",
    "print(ftest_spec)"
   ]
  },
  {
   "cell_type": "code",
   "execution_count": 17,
   "metadata": {},
   "outputs": [
    {
     "name": "stdout",
     "output_type": "stream",
     "text": [
      "0.764862672383822\n"
     ]
    }
   ],
   "source": [
    "## PPV Analysis\n",
    "ftest_npv = ftest_cm[1, 1]/(ftest_cm[1, 1] + ftest_cm[1, 0])\n",
    "print(ftest_npv)"
   ]
  },
  {
   "cell_type": "code",
   "execution_count": 18,
   "metadata": {},
   "outputs": [
    {
     "name": "stdout",
     "output_type": "stream",
     "text": [
      "0.9646146388754241\n"
     ]
    }
   ],
   "source": [
    "## NPV Analysis\n",
    "ftest_npv = ftest_cm[0, 0]/(ftest_cm[0, 0] + ftest_cm[0, 1])\n",
    "print(ftest_npv)"
   ]
  },
  {
   "cell_type": "code",
   "execution_count": 19,
   "metadata": {},
   "outputs": [],
   "source": [
    "## The AUC Score\n",
    "ftest_auc = roc_auc_score(fy_test, tns_probs)\n",
    "fy_pred_auc = np.round(roc_auc_score(fy_test, fy_pred), decimals = 2)"
   ]
  },
  {
   "cell_type": "code",
   "execution_count": 20,
   "metadata": {},
   "outputs": [
    {
     "name": "stdout",
     "output_type": "stream",
     "text": [
      "0.5\n"
     ]
    }
   ],
   "source": [
    "print(ftest_auc)"
   ]
  },
  {
   "cell_type": "code",
   "execution_count": 21,
   "metadata": {},
   "outputs": [
    {
     "name": "stdout",
     "output_type": "stream",
     "text": [
      "0.95\n"
     ]
    }
   ],
   "source": [
    "print(np.round(fy_pred_auc, decimals = 2))"
   ]
  },
  {
   "cell_type": "code",
   "execution_count": 22,
   "metadata": {},
   "outputs": [],
   "source": [
    "## calculate ROC Curves\n",
    "ftest_fpr, ftest_tpr, _ = roc_curve(fy_test, tns_probs)\n",
    "fy_pred_fpr, fy_pred_tpr, _ = roc_curve(fy_test, fy_pred)"
   ]
  },
  {
   "cell_type": "code",
   "execution_count": 23,
   "metadata": {},
   "outputs": [
    {
     "data": {
      "text/plain": [
       "<matplotlib.legend.Legend at 0x1b4b9c836c8>"
      ]
     },
     "execution_count": 23,
     "metadata": {},
     "output_type": "execute_result"
    },
    {
     "data": {
      "image/png": "[encoded data removed]",
      "text/plain": [
       "<Figure size 432x288 with 1 Axes>"
      ]
     },
     "metadata": {
      "needs_background": "light"
     },
     "output_type": "display_data"
    }
   ],
   "source": [
    "## Plot Curve for the model\n",
    "import numpy as np\n",
    "import matplotlib.pyplot as plt\n",
    "\n",
    "plt.plot(ftest_fpr, ftest_tpr, linestyle = '--', label = 'Patients Last Status')\n",
    "plt.plot(fy_pred_fpr, fy_pred_tpr, marker = '.', label = 'Females')\n",
    "plt.text(0.7, 0.2, \"AUC = \" + str(fy_pred_auc), fontsize = 14)\n",
    "\n",
    "## Axis lable\n",
    "plt.xlabel(\"False Positve Rate\")\n",
    "plt.ylabel(\"True Positive Rate\")\n",
    "\n",
    "## Show Legend\n",
    "plt.legend()"
   ]
  },
  {
   "cell_type": "code",
   "execution_count": null,
   "metadata": {},
   "outputs": [],
   "source": []
  },
  {
   "cell_type": "code",
   "execution_count": null,
   "metadata": {},
   "outputs": [],
   "source": []
  },
  {
   "cell_type": "code",
   "execution_count": null,
   "metadata": {},
   "outputs": [],
   "source": []
  },
  {
   "cell_type": "code",
   "execution_count": null,
   "metadata": {},
   "outputs": [],
   "source": []
  }
 ],
 "metadata": {
  "kernelspec": {
   "display_name": "Python 3",
   "language": "python",
   "name": "python3"
  },
  "language_info": {
   "codemirror_mode": {
    "name": "ipython",
    "version": 3
   },
   "file_extension": ".py",
   "mimetype": "text/x-python",
   "name": "python",
   "nbconvert_exporter": "python",
   "pygments_lexer": "ipython3",
   "version": "3.7.6"
  }
 },
 "nbformat": 4,
 "nbformat_minor": 4
}
