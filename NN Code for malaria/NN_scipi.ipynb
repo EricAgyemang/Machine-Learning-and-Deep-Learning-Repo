{
 "cells": [
  {
   "cell_type": "code",
   "execution_count": 1,
   "metadata": {},
   "outputs": [],
   "source": [
    "import pandas as pd\n",
    "from matplotlib import pyplot"
   ]
  },
  {
   "cell_type": "code",
   "execution_count": 2,
   "metadata": {},
   "outputs": [],
   "source": [
    "#upload dataset\n",
    "gdata = pd.read_csv(\"C:/Users/Rae/Documents/Thesis/Precision_Medicine/FullCase/g_data.txt\", sep = \" \")"
   ]
  },
  {
   "cell_type": "code",
   "execution_count": 3,
   "metadata": {},
   "outputs": [],
   "source": [
    "#Stratify dataset by sex\n",
    "m_gdata = gdata[gdata.Sex == 1]\n",
    "f_gdata = gdata[gdata.Sex == 0]"
   ]
  },
  {
   "cell_type": "code",
   "execution_count": 4,
   "metadata": {},
   "outputs": [],
   "source": [
    "#### Build datasets according to Sex####\n",
    "### male dataset ###\n",
    "\n",
    "mNorm1 = m_gdata.RPL28\n",
    "mNorm2 = 0.5*m_gdata.HNRNPF + 0.5*m_gdata.TFCP2\n",
    "mNK_up = 0.5*m_gdata.SLAMF7 + 0.5*m_gdata.KLRC4\n",
    "mTcell = 0.5*m_gdata.CD3D + 0.5*m_gdata.TMC8\n",
    "mBcell = (2/3)*m_gdata.CD79B + (1/3)*m_gdata.SPIB\n",
    "mN_up = (1/3)*m_gdata.CASP5 + (1/3)*m_gdata.IL18RAP + (1/3)*m_gdata.TNFAIP6\n",
    "mN_down = 0.25*m_gdata.IL8RB + 0.25*m_gdata.TNFRSF10C + 0.25*m_gdata.TLR4 + 0.25*m_gdata.KCNE3\n",
    "mSCA_1 = (1/3)*m_gdata.S100A12 + (1/3)*m_gdata.CLEC4E + (1/3)*m_gdata.S100A8\n",
    "mAF2 = m_gdata.dat_assay_AF2\n",
    "mTSPAN = m_gdata.TSPAN7\n",
    "\n",
    "### female dataset ###\n",
    "\n",
    "fNorm2 = 0.5*f_gdata.HNRNPF + 0.5*f_gdata.TFCP2\n",
    "fNK_up = 0.5*f_gdata.SLAMF7 + 0.5*f_gdata.KLRC4\n",
    "fTcell = 0.5*f_gdata.CD3D + 0.5*f_gdata.TMC8\n",
    "fBcell = (2/3)*f_gdata.CD79B + (1/3)*f_gdata.SPIB\n",
    "fN_up = (1/3)*f_gdata.CASP5 + (1/3)*f_gdata.IL18RAP + (1/3)*f_gdata.TNFAIP6\n",
    "fN_down = 0.25*f_gdata.IL8RB + 0.25*f_gdata.TNFRSF10C + 0.25*f_gdata.TLR4 + 0.25*f_gdata.KCNE3\n",
    "fSCA_1 = (1/3)*f_gdata.S100A12 + (1/3)*f_gdata.CLEC4E + (1/3)*f_gdata.S100A8\n",
    "fAF2 = f_gdata.dat_assay_AF2\n",
    "fNeut = (1/2)*f_gdata.AQP9 + (1/2)*f_gdata.NCF4\n"
   ]
  },
  {
   "cell_type": "code",
   "execution_count": 5,
   "metadata": {},
   "outputs": [],
   "source": [
    "## Male model terms ##\n",
    "mTerm1 = mN_up - mN_down\n",
    "mTerm2 = mSCA_1 - mNorm1\n",
    "mTerm3 = mNK_up - mTcell\n",
    "mTerm4 = mBcell - mTcell\n",
    "mTerm5 = mAF2 - mNorm2\n",
    "mTerm6 = mTSPAN\n",
    "\n",
    "## Female model terms ##\n",
    "fTerm1 = fN_up - fN_down\n",
    "fTerm2 = fSCA_1 - fNeut\n",
    "fTerm3 = fNK_up - fTcell\n",
    "fTerm4 = fBcell - fTcell\n",
    "fTerm5 = fAF2 - fNorm2"
   ]
  },
  {
   "cell_type": "code",
   "execution_count": 6,
   "metadata": {},
   "outputs": [],
   "source": [
    "#Dataset#\n",
    "mGeneData = {'mTerm1':mTerm1,'mTerm2':mTerm2, 'mTerm3':mTerm3, 'mTerm4':mTerm4, 'mTerm5':mTerm5, 'mTerm6':mTerm6,'mAge':m_gdata.Age, 'mDisease': m_gdata.Disease}"
   ]
  },
  {
   "cell_type": "code",
   "execution_count": 7,
   "metadata": {},
   "outputs": [],
   "source": [
    "mGeneData = pd.DataFrame(mGeneData)"
   ]
  },
  {
   "cell_type": "code",
   "execution_count": 8,
   "metadata": {},
   "outputs": [],
   "source": [
    "#Female Dataset#\n",
    "fGeneData = {'fTerm1':fTerm1, 'fTerm2':fTerm2, 'fTerm3':fTerm3, 'fTerm4':fTerm4, 'fTerm5':fTerm5,\n",
    "             'fAge':f_gdata.Age, 'fDisease':f_gdata.Disease}\n",
    "fGeneData = pd.DataFrame(fGeneData)"
   ]
  },
  {
   "cell_type": "code",
   "execution_count": 9,
   "metadata": {},
   "outputs": [
    {
     "name": "stderr",
     "output_type": "stream",
     "text": [
      "C:\\Users\\Demond Handley\\Anaconda3\\lib\\site-packages\\ipykernel_launcher.py:4: SettingWithCopyWarning: \n",
      "A value is trying to be set on a copy of a slice from a DataFrame\n",
      "\n",
      "See the caveats in the documentation: http://pandas.pydata.org/pandas-docs/stable/user_guide/indexing.html#returning-a-view-versus-a-copy\n",
      "  after removing the cwd from sys.path.\n"
     ]
    }
   ],
   "source": [
    "fGeneData.fAge = fGeneData.fAge - 60\n",
    "for i in range(len(fGeneData.fAge)):\n",
    "    if fGeneData.fAge[i] < 0:\n",
    "        fGeneData.fAge[i] = 0"
   ]
  },
  {
   "cell_type": "code",
   "execution_count": 10,
   "metadata": {},
   "outputs": [],
   "source": [
    "#Import 'train_test_split' from 'sklearn.model_selection'\n",
    "from sklearn.model_selection import train_test_split\n",
    "\n",
    "#Import numpy#\n",
    "import numpy as np"
   ]
  },
  {
   "cell_type": "code",
   "execution_count": 11,
   "metadata": {},
   "outputs": [],
   "source": [
    "#Specify the data#\n",
    "mX = mGeneData[['mTerm1','mTerm2','mTerm3','mTerm4','mTerm5','mTerm6','mAge']]\n",
    "fX = fGeneData[['fTerm1','fTerm2','fTerm3','fTerm4','fTerm5','fAge']]\n",
    "\n",
    "#Specify the Target Labels and flatten the array\n",
    "my = np.ravel(mGeneData.mDisease)\n",
    "fy = np.ravel(fGeneData.fDisease)\n",
    "\n",
    "# Split the data into teain and test sets #\n",
    "mX_train, mX_test, my_train, my_test = train_test_split(mX, my, test_size = 0.30, random_state = 10)\n",
    "fX_train, fX_test, fy_train, fy_test = train_test_split(fX, fy, test_size = 0.30, random_state = 10)"
   ]
  },
  {
   "cell_type": "code",
   "execution_count": 12,
   "metadata": {},
   "outputs": [],
   "source": [
    "#Scale the datasets#\n",
    "from sklearn.preprocessing import StandardScaler"
   ]
  },
  {
   "cell_type": "code",
   "execution_count": 13,
   "metadata": {},
   "outputs": [],
   "source": [
    "#Define the Scaler\n",
    "mscaler = StandardScaler().fit(mX_train)\n",
    "fscaler = StandardScaler().fit(fX_train)\n",
    "\n",
    "#Scale the training set\n",
    "mX_train = mscaler.transform(mX_train)\n",
    "fX_train = fscaler.transform(fX_train)\n",
    "\n",
    "#Scale the testing set\n",
    "mX_test = mscaler.transform(mX_test)\n",
    "fX_test = fscaler.transform(fX_test)"
   ]
  },
  {
   "cell_type": "code",
   "execution_count": 14,
   "metadata": {},
   "outputs": [],
   "source": [
    "from sklearn.neural_network import MLPClassifier\n",
    "from sklearn.datasets import make_classification\n",
    "from sklearn.metrics import confusion_matrix, roc_curve, roc_auc_score, plot_roc_curve\n",
    "from sklearn.model_selection import cross_val_score, cross_validate"
   ]
  },
  {
   "cell_type": "code",
   "execution_count": null,
   "metadata": {},
   "outputs": [],
   "source": [
    "#generate no skill prediction (majority class)\n",
    "mns_probs = [0 for _ in range(len(my_test))]"
   ]
  },
  {
   "cell_type": "code",
   "execution_count": null,
   "metadata": {},
   "outputs": [],
   "source": [
    "# For Males\n",
    "#merror = 0.5\n",
    "#while merror > 0.3:\n",
    "    mmlp = MLPClassifier(hidden_layer_sizes = (7,7,7), activation = 'tanh', solver = 'sgd', learning_rate = 'adaptive', max_iter = 5000, learning_rate_init=0.001)\n",
    "    #Fit Model\n",
    "    mmlp.fit(mX_train,my_train)\n",
    "    # Keep Probabilities for disease outcome for men \n",
    "    my_pred = mmlp.predict_proba(mX_test)\n",
    "    my_pred = my_pred[:,1]\n",
    "    mcm = confusion_matrix(my_test, np.round(my_pred))\n",
    "    merror = (mcm[0,1] + mcm[1,0])/np.sum(mcm)\n",
    "    print(merror)"
   ]
  },
  {
   "cell_type": "code",
   "execution_count": null,
   "metadata": {},
   "outputs": [],
   "source": [
    "#accuracies =  cross_validate(estimator=mmlp, X = mX, y = my,cv=5, scoring = 'accuracy', return_estimator = True, return_train_score = True)\n",
    "#accuracies"
   ]
  },
  {
   "cell_type": "code",
   "execution_count": null,
   "metadata": {},
   "outputs": [],
   "source": [
    "# Get Prediction for males\n",
    "#my_predict = mmlp.predict(mX_test)"
   ]
  },
  {
   "cell_type": "code",
   "execution_count": null,
   "metadata": {},
   "outputs": [],
   "source": [
    "# Keep Probabilities for disease outcome for men \n",
    "#my_pred = mmlp.predict_proba(mX_test)\n",
    "#my_pred = my_pred[:,1]"
   ]
  },
  {
   "cell_type": "code",
   "execution_count": null,
   "metadata": {},
   "outputs": [],
   "source": [
    "mcm = confusion_matrix(my_test, np.round(my_pred))\n",
    "print(mcm)"
   ]
  },
  {
   "cell_type": "code",
   "execution_count": null,
   "metadata": {},
   "outputs": [],
   "source": [
    "merror = (mcm[0,1] + mcm[1,0])/np.sum(mcm)\n",
    "print(merror)"
   ]
  },
  {
   "cell_type": "code",
   "execution_count": null,
   "metadata": {},
   "outputs": [],
   "source": [
    "#Sensitivity for males\n",
    "msens = mcm[1,1]/(mcm[1,1] + mcm[0,1])\n",
    "print(msens)"
   ]
  },
  {
   "cell_type": "code",
   "execution_count": null,
   "metadata": {},
   "outputs": [],
   "source": [
    "# Specificity for males\n",
    "mspec = mcm[0,0]/(mcm[0,0]+mcm[1,0])\n",
    "print(mspec)"
   ]
  },
  {
   "cell_type": "code",
   "execution_count": null,
   "metadata": {},
   "outputs": [],
   "source": [
    "# PPV for males\n",
    "mppv = mcm[1,1]/(mcm[1,1]+mcm[1,0])\n",
    "print(mppv)"
   ]
  },
  {
   "cell_type": "code",
   "execution_count": null,
   "metadata": {},
   "outputs": [],
   "source": [
    "# NPV for males\n",
    "mnpv = mcm[0,0]/(mcm[0,0]+mcm[0,1])\n",
    "print(mnpv)"
   ]
  },
  {
   "cell_type": "code",
   "execution_count": null,
   "metadata": {},
   "outputs": [],
   "source": [
    "#Get AUC score\n",
    "mns_auc = roc_auc_score(my_test, mns_probs)\n",
    "mypred_auc = np.round(roc_auc_score(my_test, my_pred),decimals = 2)\n",
    "print(mns_auc)"
   ]
  },
  {
   "cell_type": "code",
   "execution_count": null,
   "metadata": {},
   "outputs": [],
   "source": [
    "print(mns_auc)"
   ]
  },
  {
   "cell_type": "code",
   "execution_count": null,
   "metadata": {},
   "outputs": [],
   "source": [
    "print(np.round(mypred_auc, decimals = 2))"
   ]
  },
  {
   "cell_type": "code",
   "execution_count": null,
   "metadata": {},
   "outputs": [],
   "source": [
    "#Calculate ROC curves\n",
    "mns_fpr, mns_tpr, _ = roc_curve(my_test, mns_probs)\n",
    "m_pred_fpr, m_pred_tpr, _ = roc_curve(my_test, my_pred)"
   ]
  },
  {
   "cell_type": "code",
   "execution_count": 15,
   "metadata": {},
   "outputs": [
    {
     "ename": "NameError",
     "evalue": "name 'mns_fpr' is not defined",
     "output_type": "error",
     "traceback": [
      "\u001b[1;31m---------------------------------------------------------------------------\u001b[0m",
      "\u001b[1;31mNameError\u001b[0m                                 Traceback (most recent call last)",
      "\u001b[1;32m<ipython-input-15-4c3f17b274d4>\u001b[0m in \u001b[0;36m<module>\u001b[1;34m\u001b[0m\n\u001b[0;32m      1\u001b[0m \u001b[1;31m# Plot Curve for model\u001b[0m\u001b[1;33m\u001b[0m\u001b[1;33m\u001b[0m\u001b[1;33m\u001b[0m\u001b[0m\n\u001b[1;32m----> 2\u001b[1;33m \u001b[0mpyplot\u001b[0m\u001b[1;33m.\u001b[0m\u001b[0mplot\u001b[0m\u001b[1;33m(\u001b[0m\u001b[0mmns_fpr\u001b[0m\u001b[1;33m,\u001b[0m\u001b[0mmns_tpr\u001b[0m\u001b[1;33m,\u001b[0m \u001b[0mlinestyle\u001b[0m \u001b[1;33m=\u001b[0m \u001b[1;34m'--'\u001b[0m\u001b[1;33m,\u001b[0m \u001b[0mlabel\u001b[0m \u001b[1;33m=\u001b[0m \u001b[1;34m'No Skill'\u001b[0m\u001b[1;33m)\u001b[0m\u001b[1;33m\u001b[0m\u001b[1;33m\u001b[0m\u001b[0m\n\u001b[0m\u001b[0;32m      3\u001b[0m \u001b[0mpyplot\u001b[0m\u001b[1;33m.\u001b[0m\u001b[0mplot\u001b[0m\u001b[1;33m(\u001b[0m\u001b[0mm_pred_fpr\u001b[0m\u001b[1;33m,\u001b[0m \u001b[0mm_pred_tpr\u001b[0m\u001b[1;33m,\u001b[0m \u001b[0mmarker\u001b[0m \u001b[1;33m=\u001b[0m \u001b[1;34m'.'\u001b[0m\u001b[1;33m,\u001b[0m \u001b[0mlabel\u001b[0m \u001b[1;33m=\u001b[0m \u001b[1;34m'Males'\u001b[0m\u001b[1;33m)\u001b[0m\u001b[1;33m\u001b[0m\u001b[1;33m\u001b[0m\u001b[0m\n\u001b[0;32m      4\u001b[0m \u001b[0mpyplot\u001b[0m\u001b[1;33m.\u001b[0m\u001b[0mtext\u001b[0m\u001b[1;33m(\u001b[0m\u001b[1;36m0.7\u001b[0m\u001b[1;33m,\u001b[0m \u001b[1;36m0.2\u001b[0m\u001b[1;33m,\u001b[0m \u001b[1;34m\"AUC = \"\u001b[0m \u001b[1;33m+\u001b[0m \u001b[0mstr\u001b[0m\u001b[1;33m(\u001b[0m\u001b[0mmypred_auc\u001b[0m\u001b[1;33m)\u001b[0m\u001b[1;33m,\u001b[0m \u001b[0mfontsize\u001b[0m \u001b[1;33m=\u001b[0m \u001b[1;36m14\u001b[0m\u001b[1;33m)\u001b[0m\u001b[1;33m\u001b[0m\u001b[1;33m\u001b[0m\u001b[0m\n\u001b[0;32m      5\u001b[0m \u001b[1;31m#axis labels\u001b[0m\u001b[1;33m\u001b[0m\u001b[1;33m\u001b[0m\u001b[1;33m\u001b[0m\u001b[0m\n",
      "\u001b[1;31mNameError\u001b[0m: name 'mns_fpr' is not defined"
     ]
    }
   ],
   "source": [
    "# Plot Curve for model\n",
    "pyplot.plot(mns_fpr,mns_tpr, linestyle = '--', label = 'No Skill')\n",
    "pyplot.plot(m_pred_fpr, m_pred_tpr, marker = '.', label = 'Males')\n",
    "pyplot.text(0.7, 0.2, \"AUC = \" + str(mypred_auc), fontsize = 14)\n",
    "#axis labels\n",
    "pyplot.xlabel(\"False Positive Rate\")\n",
    "pyplot.ylabel(\"True Posive Rate\")\n",
    "#Show Legend\n",
    "pyplot.legend()\n",
    "#Show plot\n",
    "#pyplot.show()\n",
    "pyplot.savefig(\"MaleNNAUC.svg\", format=\"svg\")"
   ]
  },
  {
   "cell_type": "code",
   "execution_count": 16,
   "metadata": {},
   "outputs": [],
   "source": [
    "#generate no skill prediction (majority class)\n",
    "fns_probs = [0 for _ in range(len(fy_test))]"
   ]
  },
  {
   "cell_type": "code",
   "execution_count": 17,
   "metadata": {
    "scrolled": true
   },
   "outputs": [],
   "source": [
    "# For females\n",
    "fmlp = MLPClassifier(hidden_layer_sizes = (6, 6, 6, 6, 6, 6, 6), activation = 'tanh', solver = 'sgd', learning_rate = 'adaptive', max_iter = 10000, learning_rate_init=0.001)"
   ]
  },
  {
   "cell_type": "code",
   "execution_count": 18,
   "metadata": {},
   "outputs": [
    {
     "name": "stdout",
     "output_type": "stream",
     "text": [
      "0.3333333333333333\n",
      "0.6\n",
      "0.6\n",
      "0.26666666666666666\n",
      "0.3333333333333333\n",
      "0.5333333333333333\n",
      "0.4\n",
      "0.6\n",
      "0.3333333333333333\n",
      "0.6\n",
      "0.3333333333333333\n",
      "0.6\n",
      "0.2\n",
      "0.26666666666666666\n",
      "0.6\n",
      "0.2\n",
      "0.6\n",
      "0.5333333333333333\n",
      "0.6\n",
      "0.26666666666666666\n",
      "0.26666666666666666\n",
      "0.6\n",
      "0.6666666666666666\n",
      "0.6\n",
      "0.6\n",
      "0.26666666666666666\n",
      "0.5333333333333333\n",
      "0.6\n",
      "0.26666666666666666\n",
      "0.6\n",
      "0.6666666666666666\n",
      "0.5333333333333333\n",
      "0.6\n",
      "0.6\n",
      "0.6\n",
      "0.6\n",
      "0.4\n",
      "0.6\n",
      "0.3333333333333333\n",
      "0.3333333333333333\n",
      "0.6666666666666666\n",
      "0.4\n",
      "0.6\n",
      "0.26666666666666666\n",
      "0.2\n",
      "0.3333333333333333\n",
      "0.6\n",
      "0.6\n",
      "0.6\n",
      "0.4\n",
      "0.6\n",
      "0.6\n",
      "0.6\n",
      "0.26666666666666666\n",
      "0.6\n",
      "0.6\n",
      "0.6\n",
      "0.6\n",
      "0.3333333333333333\n",
      "0.5333333333333333\n",
      "0.6\n",
      "0.2\n",
      "0.2\n",
      "0.6\n",
      "0.6\n",
      "0.26666666666666666\n",
      "0.6\n",
      "0.2\n",
      "0.6\n",
      "0.6\n",
      "0.6\n",
      "0.6\n",
      "0.4\n",
      "0.3333333333333333\n",
      "0.6\n",
      "0.2\n",
      "0.6\n",
      "0.4\n",
      "0.26666666666666666\n",
      "0.4\n",
      "0.6\n",
      "0.3333333333333333\n",
      "0.6\n",
      "0.6666666666666666\n",
      "0.6\n",
      "0.5333333333333333\n",
      "0.4\n",
      "0.4\n",
      "0.6\n",
      "0.6\n",
      "0.2\n",
      "0.5333333333333333\n",
      "0.6\n",
      "0.6\n",
      "0.6\n",
      "0.6\n",
      "0.2\n",
      "0.3333333333333333\n",
      "0.6\n",
      "0.2\n",
      "0.2\n",
      "0.6\n",
      "0.26666666666666666\n",
      "0.6\n",
      "0.6\n",
      "0.5333333333333333\n",
      "0.6\n",
      "0.6\n",
      "0.6\n",
      "0.7333333333333333\n",
      "0.3333333333333333\n",
      "0.6\n",
      "0.4\n",
      "0.5333333333333333\n",
      "0.6\n",
      "0.6\n",
      "0.6\n",
      "0.5333333333333333\n",
      "0.26666666666666666\n",
      "0.26666666666666666\n",
      "0.4666666666666667\n",
      "0.6\n",
      "0.5333333333333333\n",
      "0.2\n",
      "0.6\n",
      "0.2\n",
      "0.4666666666666667\n",
      "0.6666666666666666\n",
      "0.6\n",
      "0.3333333333333333\n",
      "0.26666666666666666\n",
      "0.26666666666666666\n",
      "0.4666666666666667\n",
      "0.6\n",
      "0.3333333333333333\n",
      "0.26666666666666666\n",
      "0.26666666666666666\n",
      "0.5333333333333333\n",
      "0.6\n",
      "0.6\n",
      "0.6\n",
      "0.6666666666666666\n",
      "0.6\n",
      "0.6\n",
      "0.4666666666666667\n",
      "0.6\n",
      "0.5333333333333333\n",
      "0.6\n",
      "0.2\n",
      "0.5333333333333333\n",
      "0.6\n",
      "0.6\n",
      "0.26666666666666666\n",
      "0.13333333333333333\n"
     ]
    }
   ],
   "source": [
    "# fit the model with data\n",
    "ferror = 0.5\n",
    "while ferror > 0.15:\n",
    "    # For females\n",
    "    fmlp = MLPClassifier(hidden_layer_sizes = (6, 6, 6, 6, 6, 6, 6), activation = 'tanh', solver = 'sgd', learning_rate = 'adaptive', max_iter = 10000, learning_rate_init=0.001)\n",
    "    fmlp.fit(fX_train,fy_train)\n",
    "    fy_pred = fmlp.predict_proba(fX_test)\n",
    "    fy_pred = fy_pred[:,1]\n",
    "    fcm = confusion_matrix(fy_test, np.round(fy_pred))\n",
    "    ferror = (fcm[0,1] + fcm[1,0])/np.sum(fcm)\n",
    "    print(ferror)"
   ]
  },
  {
   "cell_type": "code",
   "execution_count": 19,
   "metadata": {},
   "outputs": [],
   "source": [
    "# Get Prediction for females\n",
    "fy_predict=fmlp.predict(fX_test)"
   ]
  },
  {
   "cell_type": "code",
   "execution_count": 20,
   "metadata": {},
   "outputs": [],
   "source": [
    "# Keep Probabilities for disease outcome for females \n",
    "fy_pred = fmlp.predict_proba(fX_test)\n",
    "fy_pred = fy_pred[:,1]"
   ]
  },
  {
   "cell_type": "code",
   "execution_count": 21,
   "metadata": {},
   "outputs": [],
   "source": [
    "fcm = confusion_matrix(fy_test, np.round(fy_predict))\n",
    "#print(fcm)"
   ]
  },
  {
   "cell_type": "code",
   "execution_count": 22,
   "metadata": {},
   "outputs": [
    {
     "name": "stdout",
     "output_type": "stream",
     "text": [
      "0.13333333333333333\n"
     ]
    }
   ],
   "source": [
    "ferror = (fcm[0,1] + fcm[1,0])/np.sum(fcm)\n",
    "print(ferror)"
   ]
  },
  {
   "cell_type": "code",
   "execution_count": 23,
   "metadata": {},
   "outputs": [
    {
     "name": "stdout",
     "output_type": "stream",
     "text": [
      "1.0\n"
     ]
    }
   ],
   "source": [
    "#Sensitivity for females\n",
    "fsens = fcm[1,1]/(fcm[1,1] + fcm[0,1])\n",
    "print(fsens)"
   ]
  },
  {
   "cell_type": "code",
   "execution_count": 24,
   "metadata": {},
   "outputs": [
    {
     "name": "stdout",
     "output_type": "stream",
     "text": [
      "0.75\n"
     ]
    }
   ],
   "source": [
    "# Specificity for females\n",
    "fspec = fcm[0,0]/(fcm[0,0]+fcm[1,0])\n",
    "print(fspec)"
   ]
  },
  {
   "cell_type": "code",
   "execution_count": 25,
   "metadata": {},
   "outputs": [
    {
     "name": "stdout",
     "output_type": "stream",
     "text": [
      "0.7777777777777778\n"
     ]
    }
   ],
   "source": [
    "# PPV for females\n",
    "fppv = fcm[1,1]/(fcm[1,1]+fcm[1,0])\n",
    "print(fppv)"
   ]
  },
  {
   "cell_type": "code",
   "execution_count": 26,
   "metadata": {},
   "outputs": [
    {
     "name": "stdout",
     "output_type": "stream",
     "text": [
      "1.0\n"
     ]
    }
   ],
   "source": [
    "# NPV for females\n",
    "fnpv = fcm[0,0]/(fcm[0,0]+fcm[0,1])\n",
    "print(fnpv)"
   ]
  },
  {
   "cell_type": "code",
   "execution_count": 27,
   "metadata": {},
   "outputs": [
    {
     "name": "stdout",
     "output_type": "stream",
     "text": [
      "0.5\n"
     ]
    }
   ],
   "source": [
    "#Get AUC score\n",
    "fns_auc = roc_auc_score(fy_test, fns_probs)\n",
    "fypred_auc = np.round(roc_auc_score(fy_test, fy_pred),decimals = 2)\n",
    "print(fns_auc)"
   ]
  },
  {
   "cell_type": "code",
   "execution_count": 28,
   "metadata": {},
   "outputs": [
    {
     "name": "stdout",
     "output_type": "stream",
     "text": [
      "0.5\n"
     ]
    }
   ],
   "source": [
    "print(fns_auc)"
   ]
  },
  {
   "cell_type": "code",
   "execution_count": 29,
   "metadata": {},
   "outputs": [
    {
     "name": "stdout",
     "output_type": "stream",
     "text": [
      "0.83\n"
     ]
    }
   ],
   "source": [
    "print(np.round(fypred_auc, decimals = 2))"
   ]
  },
  {
   "cell_type": "code",
   "execution_count": 30,
   "metadata": {},
   "outputs": [],
   "source": [
    "#Calculate ROC curves\n",
    "fns_fpr, fns_tpr, _ = roc_curve(fy_test, fns_probs)\n",
    "f_pred_fpr, f_pred_tpr, _ = roc_curve(fy_test, fy_pred)"
   ]
  },
  {
   "cell_type": "code",
   "execution_count": 31,
   "metadata": {},
   "outputs": [
    {
     "data": {
      "text/plain": [
       "<matplotlib.legend.Legend at 0x2216dbb7448>"
      ]
     },
     "execution_count": 31,
     "metadata": {},
     "output_type": "execute_result"
    },
    {
     "data": {
      "image/png": "[encoded data removed]",
      "text/plain": [
       "<Figure size 432x288 with 1 Axes>"
      ]
     },
     "metadata": {
      "needs_background": "light"
     },
     "output_type": "display_data"
    }
   ],
   "source": [
    "# Plot Curve for model\n",
    "pyplot.plot(fns_fpr,fns_tpr, linestyle = '--', label = 'No Skill')\n",
    "pyplot.plot(f_pred_fpr, f_pred_tpr, marker = '.', label = 'Females')\n",
    "pyplot.text(0.7, 0.2, \"AUC = \" + str(fypred_auc), fontsize = 14)\n",
    "#axis labels\n",
    "pyplot.xlabel(\"False Positive Rate\")\n",
    "pyplot.ylabel(\"True Posive Rate\")\n",
    "#Show Legend\n",
    "pyplot.legend()\n",
    "#Show plot\n",
    "#pyplot.show()\n",
    "#pyplot.savefig(\"FemaleNNAUC.svg\", format=\"svg\")"
   ]
  },
  {
   "cell_type": "code",
   "execution_count": null,
   "metadata": {},
   "outputs": [],
   "source": []
  }
 ],
 "metadata": {
  "kernelspec": {
   "display_name": "Python 3",
   "language": "python",
   "name": "python3"
  },
  "language_info": {
   "codemirror_mode": {
    "name": "ipython",
    "version": 3
   },
   "file_extension": ".py",
   "mimetype": "text/x-python",
   "name": "python",
   "nbconvert_exporter": "python",
   "pygments_lexer": "ipython3",
   "version": "3.7.6"
  }
 },
 "nbformat": 4,
 "nbformat_minor": 2
}
