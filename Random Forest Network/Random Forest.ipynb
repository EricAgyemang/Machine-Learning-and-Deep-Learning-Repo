{
 "cells": [
  {
   "cell_type": "code",
   "execution_count": 1,
   "metadata": {},
   "outputs": [],
   "source": [
    "### BREAST CANCER CASES ###\n",
    "###### Random Forest CODE IN JUPYTER NOTEBOOK #####"
   ]
  },
  {
   "cell_type": "code",
   "execution_count": 2,
   "metadata": {},
   "outputs": [],
   "source": [
    "## Modules required\n",
    "import pandas as pd\n",
    "import numpy as np\n",
    "import matplotlib.pyplot as plt\n",
    "%matplotlib inline\n",
    "import math\n",
    "import keras\n",
    "import tensorflow as tf\n",
    "import warnings"
   ]
  },
  {
   "cell_type": "code",
   "execution_count": 3,
   "metadata": {},
   "outputs": [],
   "source": [
    "# Code\n",
    "BC = (pd.read_excel('cancer.xlsx'))"
   ]
  },
  {
   "cell_type": "code",
   "execution_count": 4,
   "metadata": {},
   "outputs": [
    {
     "data": {
      "text/html": [
       "<div>\n",
       "<style scoped>\n",
       "    .dataframe tbody tr th:only-of-type {\n",
       "        vertical-align: middle;\n",
       "    }\n",
       "\n",
       "    .dataframe tbody tr th {\n",
       "        vertical-align: top;\n",
       "    }\n",
       "\n",
       "    .dataframe thead th {\n",
       "        text-align: right;\n",
       "    }\n",
       "</style>\n",
       "<table border=\"1\" class=\"dataframe\">\n",
       "  <thead>\n",
       "    <tr style=\"text-align: right;\">\n",
       "      <th></th>\n",
       "      <th>PatStatus</th>\n",
       "      <th>Race</th>\n",
       "      <th>MarST</th>\n",
       "      <th>Gender</th>\n",
       "      <th>AgeDiag</th>\n",
       "      <th>Grade</th>\n",
       "      <th>Stability</th>\n",
       "      <th>No.Visits</th>\n",
       "      <th>Lstay</th>\n",
       "      <th>Laterality</th>\n",
       "      <th>...</th>\n",
       "      <th>LyNode</th>\n",
       "      <th>Amorph</th>\n",
       "      <th>Size</th>\n",
       "      <th>Eggshell</th>\n",
       "      <th>Milk</th>\n",
       "      <th>AxiAden</th>\n",
       "      <th>Distroph</th>\n",
       "      <th>Lucent</th>\n",
       "      <th>Dermal</th>\n",
       "      <th>SkinnLesson</th>\n",
       "    </tr>\n",
       "  </thead>\n",
       "  <tbody>\n",
       "    <tr>\n",
       "      <th>0</th>\n",
       "      <td>1</td>\n",
       "      <td>3</td>\n",
       "      <td>1</td>\n",
       "      <td>0</td>\n",
       "      <td>52</td>\n",
       "      <td>3</td>\n",
       "      <td>0</td>\n",
       "      <td>5</td>\n",
       "      <td>1</td>\n",
       "      <td>4</td>\n",
       "      <td>...</td>\n",
       "      <td>1</td>\n",
       "      <td>1</td>\n",
       "      <td>5</td>\n",
       "      <td>1</td>\n",
       "      <td>1</td>\n",
       "      <td>1</td>\n",
       "      <td>1</td>\n",
       "      <td>2</td>\n",
       "      <td>1</td>\n",
       "      <td>1</td>\n",
       "    </tr>\n",
       "    <tr>\n",
       "      <th>1</th>\n",
       "      <td>1</td>\n",
       "      <td>3</td>\n",
       "      <td>1</td>\n",
       "      <td>0</td>\n",
       "      <td>48</td>\n",
       "      <td>3</td>\n",
       "      <td>0</td>\n",
       "      <td>4</td>\n",
       "      <td>3</td>\n",
       "      <td>5</td>\n",
       "      <td>...</td>\n",
       "      <td>1</td>\n",
       "      <td>1</td>\n",
       "      <td>1</td>\n",
       "      <td>1</td>\n",
       "      <td>0</td>\n",
       "      <td>1</td>\n",
       "      <td>0</td>\n",
       "      <td>1</td>\n",
       "      <td>0</td>\n",
       "      <td>1</td>\n",
       "    </tr>\n",
       "    <tr>\n",
       "      <th>2</th>\n",
       "      <td>0</td>\n",
       "      <td>3</td>\n",
       "      <td>0</td>\n",
       "      <td>0</td>\n",
       "      <td>69</td>\n",
       "      <td>2</td>\n",
       "      <td>0</td>\n",
       "      <td>7</td>\n",
       "      <td>9</td>\n",
       "      <td>8</td>\n",
       "      <td>...</td>\n",
       "      <td>1</td>\n",
       "      <td>0</td>\n",
       "      <td>1</td>\n",
       "      <td>1</td>\n",
       "      <td>1</td>\n",
       "      <td>1</td>\n",
       "      <td>1</td>\n",
       "      <td>2</td>\n",
       "      <td>1</td>\n",
       "      <td>1</td>\n",
       "    </tr>\n",
       "    <tr>\n",
       "      <th>3</th>\n",
       "      <td>1</td>\n",
       "      <td>3</td>\n",
       "      <td>0</td>\n",
       "      <td>0</td>\n",
       "      <td>47</td>\n",
       "      <td>2</td>\n",
       "      <td>0</td>\n",
       "      <td>15</td>\n",
       "      <td>9</td>\n",
       "      <td>9</td>\n",
       "      <td>...</td>\n",
       "      <td>1</td>\n",
       "      <td>1</td>\n",
       "      <td>2</td>\n",
       "      <td>0</td>\n",
       "      <td>1</td>\n",
       "      <td>1</td>\n",
       "      <td>0</td>\n",
       "      <td>1</td>\n",
       "      <td>0</td>\n",
       "      <td>1</td>\n",
       "    </tr>\n",
       "    <tr>\n",
       "      <th>4</th>\n",
       "      <td>1</td>\n",
       "      <td>3</td>\n",
       "      <td>0</td>\n",
       "      <td>0</td>\n",
       "      <td>66</td>\n",
       "      <td>3</td>\n",
       "      <td>0</td>\n",
       "      <td>9</td>\n",
       "      <td>5</td>\n",
       "      <td>4</td>\n",
       "      <td>...</td>\n",
       "      <td>1</td>\n",
       "      <td>0</td>\n",
       "      <td>6</td>\n",
       "      <td>1</td>\n",
       "      <td>1</td>\n",
       "      <td>1</td>\n",
       "      <td>0</td>\n",
       "      <td>1</td>\n",
       "      <td>0</td>\n",
       "      <td>0</td>\n",
       "    </tr>\n",
       "  </tbody>\n",
       "</table>\n",
       "<p>5 rows × 25 columns</p>\n",
       "</div>"
      ],
      "text/plain": [
       "   PatStatus  Race  MarST  Gender  AgeDiag  Grade  Stability  No.Visits  \\\n",
       "0          1     3      1       0       52      3          0          5   \n",
       "1          1     3      1       0       48      3          0          4   \n",
       "2          0     3      0       0       69      2          0          7   \n",
       "3          1     3      0       0       47      2          0         15   \n",
       "4          1     3      0       0       66      3          0          9   \n",
       "\n",
       "   Lstay  Laterality  ...  LyNode  Amorph   Size  Eggshell  Milk  AxiAden  \\\n",
       "0      1           4  ...       1       1      5         1     1        1   \n",
       "1      3           5  ...       1       1      1         1     0        1   \n",
       "2      9           8  ...       1       0      1         1     1        1   \n",
       "3      9           9  ...       1       1      2         0     1        1   \n",
       "4      5           4  ...       1       0      6         1     1        1   \n",
       "\n",
       "   Distroph  Lucent  Dermal  SkinnLesson  \n",
       "0         1       2       1            1  \n",
       "1         0       1       0            1  \n",
       "2         1       2       1            1  \n",
       "3         0       1       0            1  \n",
       "4         0       1       0            0  \n",
       "\n",
       "[5 rows x 25 columns]"
      ]
     },
     "execution_count": 4,
     "metadata": {},
     "output_type": "execute_result"
    }
   ],
   "source": [
    "BC.head()"
   ]
  },
  {
   "cell_type": "code",
   "execution_count": 5,
   "metadata": {},
   "outputs": [],
   "source": [
    "#Import 'train_test_split' from 'sklearn.model_selection'\n",
    "from sklearn.model_selection import train_test_split\n",
    "\n",
    "#Import numpy#\n",
    "import numpy as np\n"
   ]
  },
  {
   "cell_type": "code",
   "execution_count": 6,
   "metadata": {},
   "outputs": [],
   "source": [
    "y = BC.PatStatus\n",
    "x = BC.drop(['PatStatus'], axis = 1)"
   ]
  },
  {
   "cell_type": "code",
   "execution_count": 7,
   "metadata": {},
   "outputs": [],
   "source": [
    "#Split the data into train and test sets #\n",
    "#Import 'train_test_split' from 'sklearn.model_selection'\n",
    "from sklearn.model_selection import train_test_split\n",
    "x_train, x_test, y_train, y_test=train_test_split(x,y, test_size=0.2, random_state=123)\n",
    "\n",
    "\n",
    "## Scaling the data\n",
    "from sklearn.preprocessing import MinMaxScaler\n",
    "from sklearn import preprocessing\n",
    "import numpy as np\n",
    "\n",
    "min_max_scaler = preprocessing.MinMaxScaler()\n",
    "x_train_minmax = min_max_scaler.fit_transform(x_train)\n",
    "x_test_minmax = min_max_scaler.fit_transform(x_test)"
   ]
  },
  {
   "cell_type": "code",
   "execution_count": 8,
   "metadata": {},
   "outputs": [],
   "source": [
    "x_train = x_train_minmax\n",
    "x_test = x_test_minmax"
   ]
  },
  {
   "cell_type": "code",
   "execution_count": 9,
   "metadata": {},
   "outputs": [
    {
     "data": {
      "text/plain": [
       "(80001, 24)"
      ]
     },
     "execution_count": 9,
     "metadata": {},
     "output_type": "execute_result"
    }
   ],
   "source": [
    "x_train.shape"
   ]
  },
  {
   "cell_type": "code",
   "execution_count": 10,
   "metadata": {},
   "outputs": [
    {
     "data": {
      "text/plain": [
       "(20001, 24)"
      ]
     },
     "execution_count": 10,
     "metadata": {},
     "output_type": "execute_result"
    }
   ],
   "source": [
    "x_test.shape"
   ]
  },
  {
   "cell_type": "code",
   "execution_count": 15,
   "metadata": {},
   "outputs": [
    {
     "data": {
      "text/plain": [
       "RandomForestClassifier(bootstrap=True, ccp_alpha=0.0, class_weight=None,\n",
       "                       criterion='gini', max_depth=None, max_features='auto',\n",
       "                       max_leaf_nodes=None, max_samples=None,\n",
       "                       min_impurity_decrease=0.0, min_impurity_split=None,\n",
       "                       min_samples_leaf=1, min_samples_split=2,\n",
       "                       min_weight_fraction_leaf=0.0, n_estimators=100,\n",
       "                       n_jobs=None, oob_score=False, random_state=None,\n",
       "                       verbose=0, warm_start=False)"
      ]
     },
     "execution_count": 15,
     "metadata": {},
     "output_type": "execute_result"
    }
   ],
   "source": [
    "## Fitting the model\n",
    "## Models required \n",
    "from keras.applications.imagenet_utils import decode_predictions \n",
    "import tensorflow as tf\n",
    "from hyperas.distributions import choice, uniform\n",
    "from sklearn.datasets import make_classification\n",
    "from sklearn.metrics import confusion_matrix, roc_curve, roc_auc_score, plot_roc_curve\n",
    "from sklearn.model_selection import cross_val_score, cross_validate\n",
    "from sklearn.ensemble import RandomForestClassifier\n",
    "\n",
    "#Create a Gaussian Classifier\n",
    "clf=RandomForestClassifier(n_estimators=100)\n",
    "\n",
    "#Train the model using the training sets\n",
    "rand_forest_model=clf.fit(x_train,y_train)\n",
    "rand_forest_model"
   ]
  },
  {
   "cell_type": "code",
   "execution_count": 16,
   "metadata": {},
   "outputs": [],
   "source": [
    "# predict with splitted test data\n",
    "y_pred = clf.predict(x_test)"
   ]
  },
  {
   "cell_type": "code",
   "execution_count": 17,
   "metadata": {},
   "outputs": [],
   "source": [
    "##Fitting the neural network model using training dataset\n",
    "tns_probs=[0 for _ in range(len(y_test))]"
   ]
  },
  {
   "cell_type": "code",
   "execution_count": 18,
   "metadata": {},
   "outputs": [
    {
     "name": "stdout",
     "output_type": "stream",
     "text": [
      "Accuracy: 0.9031048447577621\n"
     ]
    }
   ],
   "source": [
    "#Import scikit-learn metrics module for accuracy calculation\n",
    "from sklearn import metrics\n",
    "\n",
    "# Model Accuracy, how often is the classifier correct?\n",
    "print(\"Accuracy:\",metrics.accuracy_score(y_test, y_pred))"
   ]
  },
  {
   "cell_type": "code",
   "execution_count": 19,
   "metadata": {},
   "outputs": [
    {
     "data": {
      "image/png": "[encoded data removed]",
      "text/plain": [
       "<Figure size 576x576 with 1 Axes>"
      ]
     },
     "metadata": {
      "needs_background": "light"
     },
     "output_type": "display_data"
    }
   ],
   "source": [
    "## CONFUSION MATRIX FOR BOTH SEX DATA\n",
    "test_cm = confusion_matrix(y_test, np.round(y_pred))\n",
    "fig, ax = plt.subplots(figsize = (8, 8))\n",
    "ax.imshow(test_cm)\n",
    "ax.grid(False)\n",
    "ax.xaxis.set(ticks=(0,1), ticklabels=('Actual 1s', 'Actual 0s'))\n",
    "ax.yaxis.set(ticks=(0,1), ticklabels=('predicted 1s', 'predicted 0s'))\n",
    "ax.set_ylim(1.5, -0.5)\n",
    "for i in range(2):\n",
    "    for j in range(2):\n",
    "        ax.text(j, i, test_cm[i, j], ha= 'center', va= 'center', color= 'red')\n",
    "plt.show()"
   ]
  },
  {
   "cell_type": "code",
   "execution_count": 20,
   "metadata": {},
   "outputs": [
    {
     "name": "stdout",
     "output_type": "stream",
     "text": [
      "0.0968951552422379\n"
     ]
    }
   ],
   "source": [
    "## Error for the prediction for test dataset outcomes\n",
    "test_error = (test_cm[0,1] + test_cm[1,0])/np.sum(test_cm)\n",
    "print(test_error)"
   ]
  },
  {
   "cell_type": "code",
   "execution_count": 21,
   "metadata": {},
   "outputs": [
    {
     "data": {
      "text/plain": [
       "0.9031048447577621"
      ]
     },
     "execution_count": 21,
     "metadata": {},
     "output_type": "execute_result"
    }
   ],
   "source": [
    "## Accuracy of prediction\n",
    "1-test_error"
   ]
  },
  {
   "cell_type": "code",
   "execution_count": 22,
   "metadata": {},
   "outputs": [
    {
     "name": "stdout",
     "output_type": "stream",
     "text": [
      "0.9497229632669814\n"
     ]
    }
   ],
   "source": [
    "## Sensitivity Analysis \n",
    "test_sens = test_cm[1, 1]/(test_cm[1, 1] + test_cm[0, 1])\n",
    "print(test_sens)"
   ]
  },
  {
   "cell_type": "code",
   "execution_count": 23,
   "metadata": {},
   "outputs": [
    {
     "name": "stdout",
     "output_type": "stream",
     "text": [
      "0.8588005850804485\n"
     ]
    }
   ],
   "source": [
    "## Specificity Analysis\n",
    "test_spec = test_cm[0, 0]/(test_cm[0, 0]+test_cm[1, 0])\n",
    "print(test_spec)"
   ]
  },
  {
   "cell_type": "code",
   "execution_count": 24,
   "metadata": {},
   "outputs": [
    {
     "name": "stdout",
     "output_type": "stream",
     "text": [
      "0.8647234678624813\n"
     ]
    }
   ],
   "source": [
    "## PPV Analysis\n",
    "test_npv = test_cm[1, 1]/(test_cm[1, 1] + test_cm[1, 0])\n",
    "print(test_npv)"
   ]
  },
  {
   "cell_type": "code",
   "execution_count": 25,
   "metadata": {},
   "outputs": [
    {
     "name": "stdout",
     "output_type": "stream",
     "text": [
      "0.94729482628805\n"
     ]
    }
   ],
   "source": [
    "## NPV Analysis\n",
    "test_npv = test_cm[0, 0]/(test_cm[0, 0]+test_cm[0, 1])\n",
    "print(test_npv)"
   ]
  },
  {
   "cell_type": "code",
   "execution_count": 26,
   "metadata": {},
   "outputs": [],
   "source": [
    "## The AUC Score\n",
    "test_auc = roc_auc_score(y_test, tns_probs)\n",
    "y_pred_auc = np.round(roc_auc_score(y_test, y_pred), decimals = 2)"
   ]
  },
  {
   "cell_type": "code",
   "execution_count": 27,
   "metadata": {},
   "outputs": [],
   "source": [
    "## calculate ROC Curves\n",
    "test_fpr, test_tpr, _ = roc_curve(y_test, tns_probs)\n",
    "y_pred_fpr, y_pred_tpr, _ = roc_curve(y_test, y_pred)"
   ]
  },
  {
   "cell_type": "code",
   "execution_count": 28,
   "metadata": {},
   "outputs": [
    {
     "data": {
      "text/plain": [
       "<matplotlib.legend.Legend at 0x1600da42708>"
      ]
     },
     "execution_count": 28,
     "metadata": {},
     "output_type": "execute_result"
    },
    {
     "data": {
      "image/png": "[encoded data removed]",
      "text/plain": [
       "<Figure size 432x288 with 1 Axes>"
      ]
     },
     "metadata": {
      "needs_background": "light"
     },
     "output_type": "display_data"
    }
   ],
   "source": [
    "## Plot Curve for the model\n",
    "import numpy as np\n",
    "import matplotlib.pyplot as plt\n",
    "\n",
    "plt.plot(test_fpr, test_tpr, linestyle = '--', label = 'Patients Last Status')\n",
    "plt.plot(y_pred_fpr, y_pred_tpr, marker = '.', label = 'Both Sex')\n",
    "plt.text(0.7, 0.2, \"AUC = \" + str(y_pred_auc), fontsize = 14)\n",
    "\n",
    "## Axis lable\n",
    "plt.xlabel(\"False Positve Rate\")\n",
    "plt.ylabel(\"True Positive Rate\")\n",
    "\n",
    "## Show Legend\n",
    "plt.legend()"
   ]
  },
  {
   "cell_type": "code",
   "execution_count": null,
   "metadata": {},
   "outputs": [],
   "source": []
  },
  {
   "cell_type": "code",
   "execution_count": null,
   "metadata": {},
   "outputs": [],
   "source": []
  },
  {
   "cell_type": "code",
   "execution_count": null,
   "metadata": {},
   "outputs": [],
   "source": []
  },
  {
   "cell_type": "code",
   "execution_count": 1,
   "metadata": {},
   "outputs": [],
   "source": [
    "## CONSIDER THE NEURAL NETWORK FOR EACH GENDER SEPARATELY\n",
    "## Modules required\n",
    "import pandas as pd\n",
    "import numpy as np\n",
    "import matplotlib.pyplot as plt\n",
    "%matplotlib inline"
   ]
  },
  {
   "cell_type": "code",
   "execution_count": 2,
   "metadata": {},
   "outputs": [],
   "source": [
    "# Code\n",
    "MBC = (pd.read_excel('MBC.xlsx'))"
   ]
  },
  {
   "cell_type": "code",
   "execution_count": 3,
   "metadata": {},
   "outputs": [],
   "source": [
    "#Import 'train_test_split' from 'sklearn.model_selection'\n",
    "from sklearn.model_selection import train_test_split\n",
    "#Import numpy#\n",
    "import numpy as np"
   ]
  },
  {
   "cell_type": "code",
   "execution_count": 4,
   "metadata": {},
   "outputs": [],
   "source": [
    "#### THE MALE DATASET \n",
    "my=MBC.PatStatus\n",
    "mx=MBC.drop(['PatStatus', 'Gender'], axis=1)"
   ]
  },
  {
   "cell_type": "code",
   "execution_count": 5,
   "metadata": {},
   "outputs": [],
   "source": [
    "## CONSIDER RBF FITTING FOR THE MALE GENDER"
   ]
  },
  {
   "cell_type": "code",
   "execution_count": 6,
   "metadata": {},
   "outputs": [],
   "source": [
    "#Split the Male data into train and test sets #\n",
    "mx_train, mx_test, my_train, my_test=train_test_split(mx,my, test_size=0.2, random_state=124)\n"
   ]
  },
  {
   "cell_type": "code",
   "execution_count": 7,
   "metadata": {},
   "outputs": [
    {
     "data": {
      "text/html": [
       "<div>\n",
       "<style scoped>\n",
       "    .dataframe tbody tr th:only-of-type {\n",
       "        vertical-align: middle;\n",
       "    }\n",
       "\n",
       "    .dataframe tbody tr th {\n",
       "        vertical-align: top;\n",
       "    }\n",
       "\n",
       "    .dataframe thead th {\n",
       "        text-align: right;\n",
       "    }\n",
       "</style>\n",
       "<table border=\"1\" class=\"dataframe\">\n",
       "  <thead>\n",
       "    <tr style=\"text-align: right;\">\n",
       "      <th></th>\n",
       "      <th>Race</th>\n",
       "      <th>MarST</th>\n",
       "      <th>AgeDiag</th>\n",
       "      <th>Grade</th>\n",
       "      <th>Stability</th>\n",
       "      <th>No.Visits</th>\n",
       "      <th>Lstay</th>\n",
       "      <th>Laterality</th>\n",
       "      <th>FamHist</th>\n",
       "      <th>PrioBSurgy</th>\n",
       "      <th>...</th>\n",
       "      <th>LyNode</th>\n",
       "      <th>Amorph</th>\n",
       "      <th>Size</th>\n",
       "      <th>Eggshell</th>\n",
       "      <th>Milk</th>\n",
       "      <th>AxiAden</th>\n",
       "      <th>Distroph</th>\n",
       "      <th>Lucent</th>\n",
       "      <th>Dermal</th>\n",
       "      <th>SkinnLesson</th>\n",
       "    </tr>\n",
       "  </thead>\n",
       "  <tbody>\n",
       "    <tr>\n",
       "      <th>12535</th>\n",
       "      <td>5</td>\n",
       "      <td>0</td>\n",
       "      <td>75</td>\n",
       "      <td>3</td>\n",
       "      <td>0</td>\n",
       "      <td>10</td>\n",
       "      <td>9</td>\n",
       "      <td>9</td>\n",
       "      <td>1</td>\n",
       "      <td>0</td>\n",
       "      <td>...</td>\n",
       "      <td>1</td>\n",
       "      <td>0</td>\n",
       "      <td>2</td>\n",
       "      <td>0</td>\n",
       "      <td>1</td>\n",
       "      <td>1</td>\n",
       "      <td>0</td>\n",
       "      <td>1</td>\n",
       "      <td>0</td>\n",
       "      <td>1</td>\n",
       "    </tr>\n",
       "    <tr>\n",
       "      <th>12133</th>\n",
       "      <td>1</td>\n",
       "      <td>0</td>\n",
       "      <td>64</td>\n",
       "      <td>2</td>\n",
       "      <td>0</td>\n",
       "      <td>16</td>\n",
       "      <td>9</td>\n",
       "      <td>9</td>\n",
       "      <td>1</td>\n",
       "      <td>0</td>\n",
       "      <td>...</td>\n",
       "      <td>1</td>\n",
       "      <td>0</td>\n",
       "      <td>2</td>\n",
       "      <td>1</td>\n",
       "      <td>1</td>\n",
       "      <td>1</td>\n",
       "      <td>0</td>\n",
       "      <td>1</td>\n",
       "      <td>0</td>\n",
       "      <td>1</td>\n",
       "    </tr>\n",
       "    <tr>\n",
       "      <th>12924</th>\n",
       "      <td>1</td>\n",
       "      <td>0</td>\n",
       "      <td>88</td>\n",
       "      <td>3</td>\n",
       "      <td>0</td>\n",
       "      <td>10</td>\n",
       "      <td>9</td>\n",
       "      <td>4</td>\n",
       "      <td>1</td>\n",
       "      <td>0</td>\n",
       "      <td>...</td>\n",
       "      <td>1</td>\n",
       "      <td>0</td>\n",
       "      <td>2</td>\n",
       "      <td>1</td>\n",
       "      <td>1</td>\n",
       "      <td>0</td>\n",
       "      <td>0</td>\n",
       "      <td>1</td>\n",
       "      <td>0</td>\n",
       "      <td>1</td>\n",
       "    </tr>\n",
       "    <tr>\n",
       "      <th>3857</th>\n",
       "      <td>1</td>\n",
       "      <td>0</td>\n",
       "      <td>59</td>\n",
       "      <td>3</td>\n",
       "      <td>0</td>\n",
       "      <td>15</td>\n",
       "      <td>9</td>\n",
       "      <td>9</td>\n",
       "      <td>1</td>\n",
       "      <td>0</td>\n",
       "      <td>...</td>\n",
       "      <td>1</td>\n",
       "      <td>1</td>\n",
       "      <td>3</td>\n",
       "      <td>1</td>\n",
       "      <td>1</td>\n",
       "      <td>1</td>\n",
       "      <td>0</td>\n",
       "      <td>1</td>\n",
       "      <td>1</td>\n",
       "      <td>0</td>\n",
       "    </tr>\n",
       "    <tr>\n",
       "      <th>2532</th>\n",
       "      <td>1</td>\n",
       "      <td>1</td>\n",
       "      <td>50</td>\n",
       "      <td>3</td>\n",
       "      <td>0</td>\n",
       "      <td>15</td>\n",
       "      <td>1</td>\n",
       "      <td>3</td>\n",
       "      <td>1</td>\n",
       "      <td>0</td>\n",
       "      <td>...</td>\n",
       "      <td>1</td>\n",
       "      <td>0</td>\n",
       "      <td>3</td>\n",
       "      <td>1</td>\n",
       "      <td>1</td>\n",
       "      <td>1</td>\n",
       "      <td>0</td>\n",
       "      <td>1</td>\n",
       "      <td>0</td>\n",
       "      <td>0</td>\n",
       "    </tr>\n",
       "  </tbody>\n",
       "</table>\n",
       "<p>5 rows × 23 columns</p>\n",
       "</div>"
      ],
      "text/plain": [
       "       Race  MarST  AgeDiag  Grade  Stability  No.Visits  Lstay  Laterality  \\\n",
       "12535     5      0       75      3          0         10      9           9   \n",
       "12133     1      0       64      2          0         16      9           9   \n",
       "12924     1      0       88      3          0         10      9           4   \n",
       "3857      1      0       59      3          0         15      9           9   \n",
       "2532      1      1       50      3          0         15      1           3   \n",
       "\n",
       "       FamHist  PrioBSurgy  ...  LyNode  Amorph   Size  Eggshell  Milk  \\\n",
       "12535        1           0  ...       1       0      2         0     1   \n",
       "12133        1           0  ...       1       0      2         1     1   \n",
       "12924        1           0  ...       1       0      2         1     1   \n",
       "3857         1           0  ...       1       1      3         1     1   \n",
       "2532         1           0  ...       1       0      3         1     1   \n",
       "\n",
       "       AxiAden  Distroph  Lucent  Dermal  SkinnLesson  \n",
       "12535        1         0       1       0            1  \n",
       "12133        1         0       1       0            1  \n",
       "12924        0         0       1       0            1  \n",
       "3857         1         0       1       1            0  \n",
       "2532         1         0       1       0            0  \n",
       "\n",
       "[5 rows x 23 columns]"
      ]
     },
     "execution_count": 7,
     "metadata": {},
     "output_type": "execute_result"
    }
   ],
   "source": [
    "mx_train.head()"
   ]
  },
  {
   "cell_type": "code",
   "execution_count": 8,
   "metadata": {},
   "outputs": [
    {
     "data": {
      "text/html": [
       "<div>\n",
       "<style scoped>\n",
       "    .dataframe tbody tr th:only-of-type {\n",
       "        vertical-align: middle;\n",
       "    }\n",
       "\n",
       "    .dataframe tbody tr th {\n",
       "        vertical-align: top;\n",
       "    }\n",
       "\n",
       "    .dataframe thead th {\n",
       "        text-align: right;\n",
       "    }\n",
       "</style>\n",
       "<table border=\"1\" class=\"dataframe\">\n",
       "  <thead>\n",
       "    <tr style=\"text-align: right;\">\n",
       "      <th></th>\n",
       "      <th>Race</th>\n",
       "      <th>MarST</th>\n",
       "      <th>AgeDiag</th>\n",
       "      <th>Grade</th>\n",
       "      <th>Stability</th>\n",
       "      <th>No.Visits</th>\n",
       "      <th>Lstay</th>\n",
       "      <th>Laterality</th>\n",
       "      <th>FamHist</th>\n",
       "      <th>PrioBSurgy</th>\n",
       "      <th>...</th>\n",
       "      <th>LyNode</th>\n",
       "      <th>Amorph</th>\n",
       "      <th>Size</th>\n",
       "      <th>Eggshell</th>\n",
       "      <th>Milk</th>\n",
       "      <th>AxiAden</th>\n",
       "      <th>Distroph</th>\n",
       "      <th>Lucent</th>\n",
       "      <th>Dermal</th>\n",
       "      <th>SkinnLesson</th>\n",
       "    </tr>\n",
       "  </thead>\n",
       "  <tbody>\n",
       "    <tr>\n",
       "      <th>738</th>\n",
       "      <td>1</td>\n",
       "      <td>1</td>\n",
       "      <td>52</td>\n",
       "      <td>3</td>\n",
       "      <td>0</td>\n",
       "      <td>1</td>\n",
       "      <td>8</td>\n",
       "      <td>9</td>\n",
       "      <td>1</td>\n",
       "      <td>1</td>\n",
       "      <td>...</td>\n",
       "      <td>1</td>\n",
       "      <td>0</td>\n",
       "      <td>1</td>\n",
       "      <td>1</td>\n",
       "      <td>0</td>\n",
       "      <td>0</td>\n",
       "      <td>0</td>\n",
       "      <td>2</td>\n",
       "      <td>0</td>\n",
       "      <td>1</td>\n",
       "    </tr>\n",
       "    <tr>\n",
       "      <th>4352</th>\n",
       "      <td>1</td>\n",
       "      <td>0</td>\n",
       "      <td>87</td>\n",
       "      <td>3</td>\n",
       "      <td>0</td>\n",
       "      <td>10</td>\n",
       "      <td>9</td>\n",
       "      <td>2</td>\n",
       "      <td>1</td>\n",
       "      <td>0</td>\n",
       "      <td>...</td>\n",
       "      <td>1</td>\n",
       "      <td>0</td>\n",
       "      <td>3</td>\n",
       "      <td>1</td>\n",
       "      <td>1</td>\n",
       "      <td>1</td>\n",
       "      <td>0</td>\n",
       "      <td>1</td>\n",
       "      <td>1</td>\n",
       "      <td>0</td>\n",
       "    </tr>\n",
       "    <tr>\n",
       "      <th>14248</th>\n",
       "      <td>1</td>\n",
       "      <td>1</td>\n",
       "      <td>55</td>\n",
       "      <td>1</td>\n",
       "      <td>0</td>\n",
       "      <td>15</td>\n",
       "      <td>9</td>\n",
       "      <td>8</td>\n",
       "      <td>1</td>\n",
       "      <td>0</td>\n",
       "      <td>...</td>\n",
       "      <td>1</td>\n",
       "      <td>0</td>\n",
       "      <td>2</td>\n",
       "      <td>1</td>\n",
       "      <td>1</td>\n",
       "      <td>1</td>\n",
       "      <td>0</td>\n",
       "      <td>1</td>\n",
       "      <td>0</td>\n",
       "      <td>1</td>\n",
       "    </tr>\n",
       "    <tr>\n",
       "      <th>1058</th>\n",
       "      <td>2</td>\n",
       "      <td>1</td>\n",
       "      <td>46</td>\n",
       "      <td>3</td>\n",
       "      <td>1</td>\n",
       "      <td>5</td>\n",
       "      <td>5</td>\n",
       "      <td>4</td>\n",
       "      <td>1</td>\n",
       "      <td>0</td>\n",
       "      <td>...</td>\n",
       "      <td>1</td>\n",
       "      <td>0</td>\n",
       "      <td>1</td>\n",
       "      <td>1</td>\n",
       "      <td>0</td>\n",
       "      <td>1</td>\n",
       "      <td>0</td>\n",
       "      <td>1</td>\n",
       "      <td>0</td>\n",
       "      <td>1</td>\n",
       "    </tr>\n",
       "    <tr>\n",
       "      <th>14218</th>\n",
       "      <td>5</td>\n",
       "      <td>0</td>\n",
       "      <td>66</td>\n",
       "      <td>2</td>\n",
       "      <td>0</td>\n",
       "      <td>16</td>\n",
       "      <td>9</td>\n",
       "      <td>4</td>\n",
       "      <td>1</td>\n",
       "      <td>0</td>\n",
       "      <td>...</td>\n",
       "      <td>1</td>\n",
       "      <td>0</td>\n",
       "      <td>2</td>\n",
       "      <td>1</td>\n",
       "      <td>1</td>\n",
       "      <td>0</td>\n",
       "      <td>0</td>\n",
       "      <td>1</td>\n",
       "      <td>0</td>\n",
       "      <td>1</td>\n",
       "    </tr>\n",
       "  </tbody>\n",
       "</table>\n",
       "<p>5 rows × 23 columns</p>\n",
       "</div>"
      ],
      "text/plain": [
       "       Race  MarST  AgeDiag  Grade  Stability  No.Visits  Lstay  Laterality  \\\n",
       "738       1      1       52      3          0          1      8           9   \n",
       "4352      1      0       87      3          0         10      9           2   \n",
       "14248     1      1       55      1          0         15      9           8   \n",
       "1058      2      1       46      3          1          5      5           4   \n",
       "14218     5      0       66      2          0         16      9           4   \n",
       "\n",
       "       FamHist  PrioBSurgy  ...  LyNode  Amorph   Size  Eggshell  Milk  \\\n",
       "738          1           1  ...       1       0      1         1     0   \n",
       "4352         1           0  ...       1       0      3         1     1   \n",
       "14248        1           0  ...       1       0      2         1     1   \n",
       "1058         1           0  ...       1       0      1         1     0   \n",
       "14218        1           0  ...       1       0      2         1     1   \n",
       "\n",
       "       AxiAden  Distroph  Lucent  Dermal  SkinnLesson  \n",
       "738          0         0       2       0            1  \n",
       "4352         1         0       1       1            0  \n",
       "14248        1         0       1       0            1  \n",
       "1058         1         0       1       0            1  \n",
       "14218        0         0       1       0            1  \n",
       "\n",
       "[5 rows x 23 columns]"
      ]
     },
     "execution_count": 8,
     "metadata": {},
     "output_type": "execute_result"
    }
   ],
   "source": [
    "mx_test.head()"
   ]
  },
  {
   "cell_type": "code",
   "execution_count": 9,
   "metadata": {},
   "outputs": [
    {
     "data": {
      "text/plain": [
       "(8224, 23)"
      ]
     },
     "execution_count": 9,
     "metadata": {},
     "output_type": "execute_result"
    }
   ],
   "source": [
    "mx_train.shape"
   ]
  },
  {
   "cell_type": "code",
   "execution_count": 10,
   "metadata": {},
   "outputs": [
    {
     "data": {
      "text/plain": [
       "(2056, 23)"
      ]
     },
     "execution_count": 10,
     "metadata": {},
     "output_type": "execute_result"
    }
   ],
   "source": [
    "mx_test.shape"
   ]
  },
  {
   "cell_type": "code",
   "execution_count": 11,
   "metadata": {},
   "outputs": [],
   "source": [
    "## Scaling the male data set\n",
    "from sklearn.preprocessing import MinMaxScaler\n",
    "from sklearn import preprocessing\n",
    "import numpy as np\n",
    "\n",
    "min_max_scaler = preprocessing.MinMaxScaler()\n",
    "mx_train_minmax = min_max_scaler.fit_transform(mx_train)\n",
    "mx_test_minmax = min_max_scaler.fit_transform(mx_test)"
   ]
  },
  {
   "cell_type": "code",
   "execution_count": 12,
   "metadata": {},
   "outputs": [],
   "source": [
    "mx_train = mx_train_minmax\n",
    "mx_test = mx_test_minmax\n",
    "\n",
    "mx_train = np.array(mx_train)\n",
    "mx_test = np.array(mx_test)\n",
    "my_train = np.array(my_train)\n",
    "my_test = np.array(my_test)"
   ]
  },
  {
   "cell_type": "code",
   "execution_count": 13,
   "metadata": {},
   "outputs": [],
   "source": [
    "## FITTING NEURAL NETWORK FOR MALE DATA"
   ]
  },
  {
   "cell_type": "code",
   "execution_count": 14,
   "metadata": {},
   "outputs": [],
   "source": [
    "from sklearn.datasets import make_classification\n",
    "from sklearn.metrics import confusion_matrix, roc_curve, roc_auc_score, plot_roc_curve\n",
    "from sklearn.model_selection import cross_val_score, cross_validate"
   ]
  },
  {
   "cell_type": "code",
   "execution_count": 15,
   "metadata": {},
   "outputs": [],
   "source": [
    "##Fitting the neural network model using training dataset\n",
    "tns_probs=[0 for _ in range(len(my_test))]"
   ]
  },
  {
   "cell_type": "code",
   "execution_count": 16,
   "metadata": {},
   "outputs": [
    {
     "data": {
      "text/plain": [
       "RandomForestClassifier(bootstrap=True, ccp_alpha=0.0, class_weight=None,\n",
       "                       criterion='gini', max_depth=None, max_features='auto',\n",
       "                       max_leaf_nodes=None, max_samples=None,\n",
       "                       min_impurity_decrease=0.0, min_impurity_split=None,\n",
       "                       min_samples_leaf=1, min_samples_split=2,\n",
       "                       min_weight_fraction_leaf=0.0, n_estimators=100,\n",
       "                       n_jobs=None, oob_score=False, random_state=5, verbose=0,\n",
       "                       warm_start=False)"
      ]
     },
     "execution_count": 16,
     "metadata": {},
     "output_type": "execute_result"
    }
   ],
   "source": [
    "## Fitting the model\n",
    "## Models required \n",
    "from keras.applications.imagenet_utils import decode_predictions \n",
    "import tensorflow as tf\n",
    "from hyperas.distributions import choice, uniform\n",
    "from sklearn.datasets import make_classification\n",
    "from sklearn.metrics import confusion_matrix, roc_curve, roc_auc_score, plot_roc_curve\n",
    "from sklearn.model_selection import cross_val_score, cross_validate\n",
    "from sklearn.ensemble import RandomForestClassifier\n",
    "\n",
    "#Create a Gaussian Classifier\n",
    "clf=RandomForestClassifier(n_estimators=100, random_state = 5)\n",
    "\n",
    "#Train the model using the training sets\n",
    "mrand_forest_model=clf.fit(mx_train, my_train)\n",
    "mrand_forest_model"
   ]
  },
  {
   "cell_type": "code",
   "execution_count": 17,
   "metadata": {},
   "outputs": [],
   "source": [
    "### PREDICTION USING THE TEST DATASET"
   ]
  },
  {
   "cell_type": "code",
   "execution_count": 18,
   "metadata": {},
   "outputs": [],
   "source": [
    "# predict with splitted test data\n",
    "my_pred = clf.predict(mx_test)"
   ]
  },
  {
   "cell_type": "code",
   "execution_count": 19,
   "metadata": {},
   "outputs": [
    {
     "name": "stdout",
     "output_type": "stream",
     "text": [
      "Accuracy: 0.9494163424124513\n"
     ]
    }
   ],
   "source": [
    "#Import scikit-learn metrics module for accuracy calculation\n",
    "from sklearn import metrics\n",
    "\n",
    "# Model Accuracy, how often is the classifier correct?\n",
    "print(\"Accuracy:\",metrics.accuracy_score(my_test, my_pred))"
   ]
  },
  {
   "cell_type": "code",
   "execution_count": 20,
   "metadata": {},
   "outputs": [],
   "source": [
    "# feature importance variable \n",
    "import pandas as pd\n",
    "MBC = pd.DataFrame(MBC.values, columns=[[\"PatStatus\", \n",
    "                                         \"Race\",\"MarST\",\n",
    "                                         \"Gender\", \n",
    "                                         \"AgeDiag\",\n",
    "                                         \"Grade\",\n",
    "                                         \"Stability\",\n",
    "                                         \"No.Visits\",\n",
    "                                         \"Lstay\",\n",
    "                                         \"Laterality\",\n",
    "                                         \"FamHist\",\n",
    "                                         \"PrioBSurgy\",\n",
    "                                         \"Suture\",\n",
    "                                         \"Density\",\n",
    "                                         \"NipRet\",\n",
    "                                         \"LyNode\", \n",
    "                                         \"Amorph\",\n",
    "                                         \"Size\",\n",
    "                                         \"Eggshell\",\n",
    "                                         \"Milk\",\n",
    "                                         \"AxiAden\",\n",
    "                                         \"Distroph\",\n",
    "                                         \"Lucent\",\n",
    "                                         \"Dermal\",\n",
    "                                         \"SkinnLesson\"\n",
    "]])\n",
    "\n",
    "feature_imp = pd.Series(clf.feature_importances_, index = [ \n",
    "                                         \"Race\",\n",
    "                                         \"MarST\", \n",
    "                                         \"AgeDiag\",\n",
    "                                         \"Grade\",\n",
    "                                         \"Stability\",\n",
    "                                         \"No.Visits\",\n",
    "                                         \"Lstay\",\n",
    "                                         \"Laterality\",\n",
    "                                         \"FamHist\",\n",
    "                                         \"PrioBSurgy\",\n",
    "                                         \"Suture\",\n",
    "                                         \"Density\",\n",
    "                                         \"NipRet\",\n",
    "                                         \"LyNode\", \n",
    "                                         \"Amorph\",\n",
    "                                         \"Size\",\n",
    "                                         \"Eggshell\",\n",
    "                                         \"Milk\",\n",
    "                                         \"AxiAden\",\n",
    "                                         \"Distroph\",\n",
    "                                         \"Lucent\",\n",
    "                                         \"Dermal\",\n",
    "                                         \"SkinnLesson\"]).sort_values(ascending =False)\n",
    "\n"
   ]
  },
  {
   "cell_type": "code",
   "execution_count": 21,
   "metadata": {},
   "outputs": [
    {
     "data": {
      "text/plain": [
       "SkinnLesson    0.349386\n",
       "Size           0.227863\n",
       "Lstay          0.103242\n",
       "No.Visits      0.051164\n",
       "Milk           0.039392\n",
       "AgeDiag        0.035818\n",
       "Amorph         0.026599\n",
       "Density        0.023298\n",
       "Lucent         0.020689\n",
       "Laterality     0.018861\n",
       "Race           0.014629\n",
       "LyNode         0.014476\n",
       "NipRet         0.010778\n",
       "Grade          0.010599\n",
       "PrioBSurgy     0.010189\n",
       "Stability      0.009298\n",
       "AxiAden        0.006768\n",
       "MarST          0.006625\n",
       "Distroph       0.005998\n",
       "Suture         0.005569\n",
       "Dermal         0.005270\n",
       "Eggshell       0.003468\n",
       "FamHist        0.000021\n",
       "dtype: float64"
      ]
     },
     "execution_count": 21,
     "metadata": {},
     "output_type": "execute_result"
    }
   ],
   "source": [
    "feature_imp"
   ]
  },
  {
   "cell_type": "code",
   "execution_count": 22,
   "metadata": {},
   "outputs": [],
   "source": [
    "# List of features for later use\n",
    "feature_list = list(MBC.columns)\n",
    "\n",
    "# Get numerical feature importances\n",
    "importances = list(clf.feature_importances_)\n",
    "\n",
    "# List of tuples with variable and importance\n",
    "feature_importances = [(feature, round(importance, 2)) for feature, importance in zip(feature_list, importances)]\n",
    "\n",
    "# list of x locations for plotting\n",
    "x_values = list(range(len(importances)))"
   ]
  },
  {
   "cell_type": "code",
   "execution_count": 23,
   "metadata": {},
   "outputs": [
    {
     "data": {
      "image/png": "[encoded data removed]",
      "text/plain": [
       "<Figure size 576x576 with 1 Axes>"
      ]
     },
     "metadata": {
      "needs_background": "light"
     },
     "output_type": "display_data"
    }
   ],
   "source": [
    "# use the feature importance variable to see feature importance scores\n",
    "import matplotlib.pyplot as plt\n",
    "import seaborn as sns\n",
    "%matplotlib inline\n",
    "\n",
    "plt.figure(figsize=(8,8))\n",
    "# Creating a bar plot\n",
    "sns.barplot(x=feature_imp, y=feature_imp.index)\n",
    "# Add labels to your graph\n",
    "plt.xlabel('Feature Importance Score')\n",
    "plt.ylabel('Features')\n",
    "plt.title(\"Visualizing Important Features\")\n",
    "#plt.legend()\n",
    "plt.show()"
   ]
  },
  {
   "cell_type": "code",
   "execution_count": 24,
   "metadata": {},
   "outputs": [],
   "source": [
    "##Fitting the neural network model using training dataset\n",
    "tns_probs=[0 for _ in range(len(my_test))]"
   ]
  },
  {
   "cell_type": "code",
   "execution_count": 26,
   "metadata": {},
   "outputs": [
    {
     "data": {
      "image/png": "[encoded data removed]",
      "text/plain": [
       "<Figure size 576x576 with 1 Axes>"
      ]
     },
     "metadata": {
      "needs_background": "light"
     },
     "output_type": "display_data"
    }
   ],
   "source": [
    "## CONFUSION MATRIX FOR MALE DATA\n",
    "mtest_cm = confusion_matrix(my_test, np.round(my_pred))\n",
    "fig, ax = plt.subplots(figsize = (8, 8))\n",
    "ax.imshow(mtest_cm)\n",
    "ax.grid(False)\n",
    "ax.xaxis.set(ticks=(0,1), ticklabels=('Actual 1s', 'Actual 0s'))\n",
    "ax.yaxis.set(ticks=(0,1), ticklabels=('predicted 1s', 'predicted 0s'))\n",
    "ax.set_ylim(1.5, -0.5)\n",
    "for i in range(2):\n",
    "    for j in range(2):\n",
    "        ax.text(j, i, mtest_cm[i, j], ha= 'center', va= 'center', color= 'red')\n",
    "plt.show()"
   ]
  },
  {
   "cell_type": "code",
   "execution_count": 27,
   "metadata": {},
   "outputs": [
    {
     "name": "stdout",
     "output_type": "stream",
     "text": [
      "0.05058365758754864\n"
     ]
    }
   ],
   "source": [
    "## Error for the prediction for test dataset outcomes\n",
    "mtest_error = (mtest_cm[0,1] + mtest_cm[1,0])/np.sum(mtest_cm)\n",
    "print(mtest_error)"
   ]
  },
  {
   "cell_type": "code",
   "execution_count": 28,
   "metadata": {},
   "outputs": [
    {
     "data": {
      "text/plain": [
       "0.9494163424124513"
      ]
     },
     "execution_count": 28,
     "metadata": {},
     "output_type": "execute_result"
    }
   ],
   "source": [
    "## Accuracy of prediction\n",
    "1-mtest_error"
   ]
  },
  {
   "cell_type": "code",
   "execution_count": 29,
   "metadata": {},
   "outputs": [
    {
     "name": "stdout",
     "output_type": "stream",
     "text": [
      "0.905607476635514\n"
     ]
    }
   ],
   "source": [
    "## Sensitivity Analysis \n",
    "mtest_sens = mtest_cm[1, 1]/(mtest_cm[1, 1] + mtest_cm[0, 1])\n",
    "print(mtest_sens)"
   ]
  },
  {
   "cell_type": "code",
   "execution_count": 30,
   "metadata": {},
   "outputs": [
    {
     "name": "stdout",
     "output_type": "stream",
     "text": [
      "0.9969574036511156\n"
     ]
    }
   ],
   "source": [
    "## Specificity Analysis\n",
    "mtest_spec = mtest_cm[0, 0]/(mtest_cm[0, 0]+ mtest_cm[1, 0])\n",
    "print(mtest_spec)"
   ]
  },
  {
   "cell_type": "code",
   "execution_count": 31,
   "metadata": {},
   "outputs": [
    {
     "name": "stdout",
     "output_type": "stream",
     "text": [
      "0.9969135802469136\n"
     ]
    }
   ],
   "source": [
    "## PPV Analysis\n",
    "mtest_npv = mtest_cm[1, 1]/(mtest_cm[1, 1] + mtest_cm[1, 0])\n",
    "print(mtest_npv)"
   ]
  },
  {
   "cell_type": "code",
   "execution_count": 32,
   "metadata": {},
   "outputs": [
    {
     "name": "stdout",
     "output_type": "stream",
     "text": [
      "0.9068265682656826\n"
     ]
    }
   ],
   "source": [
    "## NPV Analysis\n",
    "mtest_npv = mtest_cm[0, 0]/(mtest_cm[0, 0] + mtest_cm[0, 1])\n",
    "print(mtest_npv)"
   ]
  },
  {
   "cell_type": "code",
   "execution_count": 33,
   "metadata": {},
   "outputs": [],
   "source": [
    "## The AUC Score\n",
    "mtest_auc = roc_auc_score(my_test, tns_probs)\n",
    "my_pred_auc = np.round(roc_auc_score(my_test, my_pred), decimals = 2)"
   ]
  },
  {
   "cell_type": "code",
   "execution_count": 34,
   "metadata": {},
   "outputs": [],
   "source": [
    "## calculate ROC Curves\n",
    "mtest_fpr, mtest_tpr, _ = roc_curve(my_test, tns_probs)\n",
    "my_pred_fpr, my_pred_tpr, _ = roc_curve(my_test, my_pred)"
   ]
  },
  {
   "cell_type": "code",
   "execution_count": 35,
   "metadata": {},
   "outputs": [
    {
     "data": {
      "text/plain": [
       "<matplotlib.legend.Legend at 0x1634e913408>"
      ]
     },
     "execution_count": 35,
     "metadata": {},
     "output_type": "execute_result"
    },
    {
     "data": {
      "image/png": "[encoded data removed]",
      "text/plain": [
       "<Figure size 432x288 with 1 Axes>"
      ]
     },
     "metadata": {
      "needs_background": "light"
     },
     "output_type": "display_data"
    }
   ],
   "source": [
    "## Plot Curve for the model\n",
    "import numpy as np\n",
    "import matplotlib.pyplot as plt\n",
    "\n",
    "plt.plot(mtest_fpr, mtest_tpr, linestyle = '--', label = 'Patients Last Status')\n",
    "plt.plot(my_pred_fpr, my_pred_tpr, marker = '.', label = 'Males')\n",
    "plt.text(0.7, 0.2, \"AUC = \" + str(my_pred_auc), fontsize = 14)\n",
    "\n",
    "## Axis lable\n",
    "plt.xlabel(\"False Positve Rate\")\n",
    "plt.ylabel(\"True Positive Rate\")\n",
    "\n",
    "## Show Legend\n",
    "plt.legend()"
   ]
  },
  {
   "cell_type": "code",
   "execution_count": null,
   "metadata": {},
   "outputs": [],
   "source": []
  },
  {
   "cell_type": "code",
   "execution_count": null,
   "metadata": {},
   "outputs": [],
   "source": []
  },
  {
   "cell_type": "code",
   "execution_count": null,
   "metadata": {},
   "outputs": [],
   "source": []
  },
  {
   "cell_type": "code",
   "execution_count": 1,
   "metadata": {},
   "outputs": [],
   "source": [
    "## CONSIDERING THE FEMALE DATA\n",
    "## Modules required\n",
    "import pandas as pd\n",
    "import numpy as np\n",
    "import matplotlib.pyplot as plt\n",
    "%matplotlib inline\n",
    "FBC = (pd.read_excel('FBC.xlsx'))\n",
    "\n",
    "fy=FBC.PatStatus\n",
    "fx=FBC.drop(['PatStatus', 'Gender'],axis=1)"
   ]
  },
  {
   "cell_type": "code",
   "execution_count": 2,
   "metadata": {},
   "outputs": [
    {
     "data": {
      "text/plain": [
       "(84403, 25)"
      ]
     },
     "execution_count": 2,
     "metadata": {},
     "output_type": "execute_result"
    }
   ],
   "source": [
    "FBC.shape"
   ]
  },
  {
   "cell_type": "code",
   "execution_count": 3,
   "metadata": {},
   "outputs": [],
   "source": [
    "#Import 'train_test_split' from 'sklearn.model_selection'\n",
    "from sklearn.model_selection import train_test_split\n",
    "\n",
    "#Import numpy#\n",
    "import numpy as np\n",
    "#Split the Male data into train and test sets #\n",
    "fx_train, fx_test, fy_train, fy_test=train_test_split(fx,fy, test_size=0.2, random_state=125)\n"
   ]
  },
  {
   "cell_type": "code",
   "execution_count": 4,
   "metadata": {},
   "outputs": [],
   "source": [
    "# Scaling the female data\n",
    "from sklearn.preprocessing import MinMaxScaler\n",
    "from sklearn import preprocessing\n",
    "import numpy as np\n",
    "\n",
    "min_max_scaler = preprocessing.MinMaxScaler()\n",
    "fx_train_minmax = min_max_scaler.fit_transform(fx_train)\n",
    "fx_test_minmax = min_max_scaler.fit_transform(fx_test)\n"
   ]
  },
  {
   "cell_type": "code",
   "execution_count": 5,
   "metadata": {},
   "outputs": [],
   "source": [
    "fx_train = fx_train_minmax\n",
    "fx_test = fx_test_minmax"
   ]
  },
  {
   "cell_type": "code",
   "execution_count": 6,
   "metadata": {},
   "outputs": [],
   "source": [
    "### FITTING THE NEURAL NETWORK USING THE FEMALE TRAINING DATASET \n",
    "from sklearn.neural_network import MLPClassifier\n",
    "from sklearn.datasets import make_classification\n",
    "from sklearn.metrics import confusion_matrix, roc_curve, roc_auc_score, plot_roc_curve\n",
    "from sklearn.model_selection import cross_val_score, cross_validate\n",
    "\n",
    "tns_probs=[0 for _ in range(len(fy_test))]"
   ]
  },
  {
   "cell_type": "code",
   "execution_count": 7,
   "metadata": {},
   "outputs": [
    {
     "data": {
      "text/plain": [
       "RandomForestClassifier(bootstrap=True, ccp_alpha=0.0, class_weight=None,\n",
       "                       criterion='gini', max_depth=None, max_features='auto',\n",
       "                       max_leaf_nodes=None, max_samples=None,\n",
       "                       min_impurity_decrease=0.0, min_impurity_split=None,\n",
       "                       min_samples_leaf=1, min_samples_split=2,\n",
       "                       min_weight_fraction_leaf=0.0, n_estimators=5,\n",
       "                       n_jobs=None, oob_score=False, random_state=5, verbose=0,\n",
       "                       warm_start=False)"
      ]
     },
     "execution_count": 7,
     "metadata": {},
     "output_type": "execute_result"
    }
   ],
   "source": [
    "## Fitting the model\n",
    "## Models required \n",
    "from keras.applications.imagenet_utils import decode_predictions \n",
    "import tensorflow as tf\n",
    "from hyperas.distributions import choice, uniform\n",
    "from sklearn.datasets import make_classification\n",
    "from sklearn.metrics import confusion_matrix, roc_curve, roc_auc_score, plot_roc_curve\n",
    "from sklearn.model_selection import cross_val_score, cross_validate\n",
    "from sklearn.ensemble import RandomForestClassifier\n",
    "\n",
    "#Create a Gaussian Classifier\n",
    "clf=RandomForestClassifier(n_estimators=5, random_state = 5)\n",
    "\n",
    "#Train the model using the training sets\n",
    "frand_forest_model=clf.fit(fx_train,fy_train)\n",
    "frand_forest_model"
   ]
  },
  {
   "cell_type": "code",
   "execution_count": 8,
   "metadata": {},
   "outputs": [],
   "source": [
    "## PREDICTION USING THE TEST DATASET"
   ]
  },
  {
   "cell_type": "code",
   "execution_count": 9,
   "metadata": {},
   "outputs": [],
   "source": [
    "### Getting the prediction for the Testing dataset\n",
    "fy_pred = clf.predict(fx_test)"
   ]
  },
  {
   "cell_type": "code",
   "execution_count": 10,
   "metadata": {},
   "outputs": [
    {
     "name": "stdout",
     "output_type": "stream",
     "text": [
      "Accuracy: 0.889402286594396\n"
     ]
    }
   ],
   "source": [
    "#Import scikit-learn metrics module for accuracy calculation\n",
    "from sklearn import metrics\n",
    "\n",
    "# Model Accuracy, how often is the classifier correct?\n",
    "print(\"Accuracy:\",metrics.accuracy_score(fy_test, fy_pred))"
   ]
  },
  {
   "cell_type": "code",
   "execution_count": 11,
   "metadata": {},
   "outputs": [],
   "source": [
    "# feature importance variable \n",
    "import pandas as pd\n",
    "FBC = pd.DataFrame(FBC.values, columns=[[\"PatStatus\", \n",
    "                                         \"Race\",\"MarST\",\n",
    "                                         \"Gender\", \n",
    "                                         \"AgeDiag\",\n",
    "                                         \"Grade\",\n",
    "                                         \"Stability\",\n",
    "                                         \"No.Visits\",\n",
    "                                         \"Lstay\",\n",
    "                                         \"Laterality\",\n",
    "                                         \"FamHist\",\n",
    "                                         \"PrioBSurgy\",\n",
    "                                         \"Suture\",\n",
    "                                         \"Density\",\n",
    "                                         \"NipRet\",\n",
    "                                         \"LyNode\", \n",
    "                                         \"Amorph\",\n",
    "                                         \"Size\",\n",
    "                                         \"Eggshell\",\n",
    "                                         \"Milk\",\n",
    "                                         \"AxiAden\",\n",
    "                                         \"Distroph\",\n",
    "                                         \"Lucent\",\n",
    "                                         \"Dermal\",\n",
    "                                         \"SkinnLesson\"\n",
    "]])\n",
    "\n",
    "feature_imp = pd.Series(clf.feature_importances_, index = [ \n",
    "                                         \"Race\",\"MarST\", \n",
    "                                         \"AgeDiag\",\n",
    "                                         \"Grade\",\n",
    "                                         \"Stability\",\n",
    "                                         \"No.Visits\",\n",
    "                                         \"Lstay\",\n",
    "                                         \"Laterality\",\n",
    "                                         \"FamHist\",\n",
    "                                         \"PrioBSurgy\",\n",
    "                                         \"Suture\",\n",
    "                                         \"Density\",\n",
    "                                         \"NipRet\",\n",
    "                                         \"LyNode\", \n",
    "                                         \"Amorph\",\n",
    "                                         \"Size\",\n",
    "                                         \"Eggshell\",\n",
    "                                         \"Milk\",\n",
    "                                         \"AxiAden\",\n",
    "                                         \"Distroph\",\n",
    "                                         \"Lucent\",\n",
    "                                         \"Dermal\",\n",
    "                                         \"SkinnLesson\"]).sort_values(ascending =False)\n",
    "\n"
   ]
  },
  {
   "cell_type": "code",
   "execution_count": 12,
   "metadata": {},
   "outputs": [
    {
     "data": {
      "text/plain": [
       "Lstay          0.132272\n",
       "Density        0.101575\n",
       "NipRet         0.100182\n",
       "No.Visits      0.080408\n",
       "SkinnLesson    0.077362\n",
       "AgeDiag        0.071854\n",
       "Laterality     0.064168\n",
       "AxiAden        0.063047\n",
       "Size           0.056779\n",
       "Amorph         0.036994\n",
       "LyNode         0.034484\n",
       "Milk           0.028956\n",
       "FamHist        0.028135\n",
       "Lucent         0.019203\n",
       "Race           0.016249\n",
       "Suture         0.015950\n",
       "Distroph       0.014919\n",
       "PrioBSurgy     0.013072\n",
       "Grade          0.012817\n",
       "Eggshell       0.012590\n",
       "MarST          0.007673\n",
       "Dermal         0.006710\n",
       "Stability      0.004602\n",
       "dtype: float64"
      ]
     },
     "execution_count": 12,
     "metadata": {},
     "output_type": "execute_result"
    }
   ],
   "source": [
    "feature_imp"
   ]
  },
  {
   "cell_type": "code",
   "execution_count": 13,
   "metadata": {},
   "outputs": [],
   "source": [
    "# List of features for later use\n",
    "feature_list = list(FBC.columns)\n",
    "\n",
    "# Get numerical feature importances\n",
    "importances = list(clf.feature_importances_)\n",
    "\n",
    "# List of tuples with variable and importance\n",
    "feature_importances = [(feature, round(importance, 2)) for feature, importance in zip(feature_list, importances)]\n",
    "\n",
    "# list of x locations for plotting\n",
    "x_values = list(range(len(importances)))"
   ]
  },
  {
   "cell_type": "code",
   "execution_count": 14,
   "metadata": {},
   "outputs": [
    {
     "data": {
      "image/png": "[encoded data removed]",
      "text/plain": [
       "<Figure size 576x576 with 1 Axes>"
      ]
     },
     "metadata": {
      "needs_background": "light"
     },
     "output_type": "display_data"
    }
   ],
   "source": [
    "# use the feature importance variable to see feature importance scores\n",
    "import matplotlib.pyplot as plt\n",
    "import seaborn as sns\n",
    "%matplotlib inline\n",
    "\n",
    "plt.figure(figsize=(8,8))\n",
    "# Creating a bar plot\n",
    "sns.barplot(x=feature_imp, y=feature_imp.index)\n",
    "# Add labels to your graph\n",
    "plt.xlabel('Feature Importance Score')\n",
    "plt.ylabel('Features')\n",
    "plt.title(\"Visualizing Important Features\")\n",
    "#plt.legend()\n",
    "plt.show()"
   ]
  },
  {
   "cell_type": "code",
   "execution_count": 15,
   "metadata": {},
   "outputs": [
    {
     "data": {
      "image/png": "[encoded data removed]",
      "text/plain": [
       "<Figure size 576x576 with 1 Axes>"
      ]
     },
     "metadata": {
      "needs_background": "light"
     },
     "output_type": "display_data"
    }
   ],
   "source": [
    "## CONFUSION MATRIX FOR MALE DATA\n",
    "ftest_cm = confusion_matrix(fy_test, np.round(fy_pred))\n",
    "fig, ax = plt.subplots(figsize = (8, 8))\n",
    "ax.imshow(ftest_cm)\n",
    "ax.grid(False)\n",
    "ax.xaxis.set(ticks=(0,1), ticklabels=('Actual 1s', 'Actual 0s'))\n",
    "ax.yaxis.set(ticks=(0,1), ticklabels=('predicted 1s', 'predicted 0s'))\n",
    "ax.set_ylim(1.5, -0.5)\n",
    "for i in range(2):\n",
    "    for j in range(2):\n",
    "        ax.text(j, i, ftest_cm[i, j], ha= 'center', va= 'center', color= 'red')\n",
    "plt.show()"
   ]
  },
  {
   "cell_type": "code",
   "execution_count": 16,
   "metadata": {},
   "outputs": [
    {
     "name": "stdout",
     "output_type": "stream",
     "text": [
      "0.11059771340560394\n"
     ]
    }
   ],
   "source": [
    "## Error for the prediction for test dataset outcomes\n",
    "ftest_error = (ftest_cm[0,1] + ftest_cm[1,0])/np.sum(ftest_cm)\n",
    "print(ftest_error)"
   ]
  },
  {
   "cell_type": "code",
   "execution_count": 17,
   "metadata": {},
   "outputs": [
    {
     "data": {
      "text/plain": [
       "0.889402286594396"
      ]
     },
     "execution_count": 17,
     "metadata": {},
     "output_type": "execute_result"
    }
   ],
   "source": [
    "## Accuracy of prediction\n",
    "1-ftest_error"
   ]
  },
  {
   "cell_type": "code",
   "execution_count": 18,
   "metadata": {},
   "outputs": [
    {
     "name": "stdout",
     "output_type": "stream",
     "text": [
      "0.9299338758901322\n"
     ]
    }
   ],
   "source": [
    "## Sensitivity Analysis \n",
    "ftest_sens = ftest_cm[1, 1]/(ftest_cm[1, 1] + ftest_cm[0, 1])\n",
    "print(ftest_sens)"
   ]
  },
  {
   "cell_type": "code",
   "execution_count": 19,
   "metadata": {},
   "outputs": [
    {
     "name": "stdout",
     "output_type": "stream",
     "text": [
      "0.8540534545857824\n"
     ]
    }
   ],
   "source": [
    "## Specificity Analysis\n",
    "ftest_spec = ftest_cm[0, 0]/(ftest_cm[0, 0]+ ftest_cm[1, 0])\n",
    "print(ftest_spec)"
   ]
  },
  {
   "cell_type": "code",
   "execution_count": 20,
   "metadata": {},
   "outputs": [
    {
     "name": "stdout",
     "output_type": "stream",
     "text": [
      "0.8474910186580137\n"
     ]
    }
   ],
   "source": [
    "## PPV Analysis\n",
    "ftest_npv = ftest_cm[1, 1]/(ftest_cm[1, 1] + ftest_cm[1, 0])\n",
    "print(ftest_npv)"
   ]
  },
  {
   "cell_type": "code",
   "execution_count": 21,
   "metadata": {},
   "outputs": [
    {
     "name": "stdout",
     "output_type": "stream",
     "text": [
      "0.9332283082888997\n"
     ]
    }
   ],
   "source": [
    "## NPV Analysis\n",
    "ftest_npv = ftest_cm[0, 0]/(ftest_cm[0, 0] + ftest_cm[0, 1])\n",
    "print(ftest_npv)"
   ]
  },
  {
   "cell_type": "code",
   "execution_count": 22,
   "metadata": {},
   "outputs": [],
   "source": [
    "## The AUC Score\n",
    "ftest_auc = roc_auc_score(fy_test, tns_probs)\n",
    "fy_pred_auc = np.round(roc_auc_score(fy_test, fy_pred), decimals = 2)"
   ]
  },
  {
   "cell_type": "code",
   "execution_count": 23,
   "metadata": {},
   "outputs": [],
   "source": [
    "## calculate ROC Curves\n",
    "ftest_fpr, ftest_tpr, _ = roc_curve(fy_test, tns_probs)\n",
    "fy_pred_fpr, fy_pred_tpr, _ = roc_curve(fy_test, fy_pred)"
   ]
  },
  {
   "cell_type": "code",
   "execution_count": 24,
   "metadata": {},
   "outputs": [
    {
     "data": {
      "text/plain": [
       "<matplotlib.legend.Legend at 0x1dafc166ec8>"
      ]
     },
     "execution_count": 24,
     "metadata": {},
     "output_type": "execute_result"
    },
    {
     "data": {
      "image/png": "[encoded data removed]",
      "text/plain": [
       "<Figure size 432x288 with 1 Axes>"
      ]
     },
     "metadata": {
      "needs_background": "light"
     },
     "output_type": "display_data"
    }
   ],
   "source": [
    "## Plot Curve for the model\n",
    "import numpy as np\n",
    "import matplotlib.pyplot as plt\n",
    "\n",
    "plt.plot(ftest_fpr, ftest_tpr, linestyle = '--', label = 'Patients Last Status')\n",
    "plt.plot(fy_pred_fpr, fy_pred_tpr, marker = '.', label = 'Females')\n",
    "plt.text(0.7, 0.2, \"AUC = \" + str(fy_pred_auc), fontsize = 14)\n",
    "\n",
    "## Axis lable\n",
    "plt.xlabel(\"False Positve Rate\")\n",
    "plt.ylabel(\"True Positive Rate\")\n",
    "\n",
    "## Show Legend\n",
    "plt.legend()"
   ]
  },
  {
   "cell_type": "code",
   "execution_count": null,
   "metadata": {},
   "outputs": [],
   "source": []
  },
  {
   "cell_type": "code",
   "execution_count": null,
   "metadata": {},
   "outputs": [],
   "source": []
  },
  {
   "cell_type": "code",
   "execution_count": null,
   "metadata": {},
   "outputs": [],
   "source": []
  }
 ],
 "metadata": {
  "kernelspec": {
   "display_name": "Python 3",
   "language": "python",
   "name": "python3"
  },
  "language_info": {
   "codemirror_mode": {
    "name": "ipython",
    "version": 3
   },
   "file_extension": ".py",
   "mimetype": "text/x-python",
   "name": "python",
   "nbconvert_exporter": "python",
   "pygments_lexer": "ipython3",
   "version": "3.7.6"
  }
 },
 "nbformat": 4,
 "nbformat_minor": 4
}
